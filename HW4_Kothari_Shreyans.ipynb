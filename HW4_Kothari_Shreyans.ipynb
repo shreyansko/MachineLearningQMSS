{
 "cells": [
  {
   "cell_type": "markdown",
   "id": "3dd8cf26",
   "metadata": {},
   "source": [
    "# HW 4: a) Models fit to text data and b) Neural Networks\n",
    "***Name:*** Shreyans Kothari | ***UNI:*** sk4819"
   ]
  },
  {
   "cell_type": "code",
   "execution_count": 1,
   "id": "bc2ca252",
   "metadata": {},
   "outputs": [],
   "source": [
    "from numpy.random import seed\n",
    "seed(0)\n",
    "import tensorflow\n",
    "tensorflow.random.set_seed(0)"
   ]
  },
  {
   "cell_type": "code",
   "execution_count": 2,
   "id": "f211b144",
   "metadata": {},
   "outputs": [
    {
     "name": "stderr",
     "output_type": "stream",
     "text": [
      "[nltk_data] Downloading package wordnet to\n",
      "[nltk_data]     /Users/shreyanskothari/nltk_data...\n",
      "[nltk_data]   Package wordnet is already up-to-date!\n"
     ]
    },
    {
     "data": {
      "text/plain": [
       "True"
      ]
     },
     "execution_count": 2,
     "metadata": {},
     "output_type": "execute_result"
    }
   ],
   "source": [
    "import pandas as pd\n",
    "import numpy as np\n",
    "import os\n",
    "import matplotlib.pyplot as plt\n",
    "import plotly.express as ply\n",
    "import nltk\n",
    "nltk.download('wordnet')"
   ]
  },
  {
   "cell_type": "markdown",
   "id": "27d8697e",
   "metadata": {},
   "source": [
    "## Part 1: Build a classification model using text data"
   ]
  },
  {
   "cell_type": "code",
   "execution_count": 3,
   "id": "56396197",
   "metadata": {},
   "outputs": [
    {
     "name": "stdout",
     "output_type": "stream",
     "text": [
      "Downloading [==============================================>  ]================>                                ]===================>                             ]======>                           ]====================>                         ]=================>                      ]     ]===============================>               ]==========>              ]=======================================>         ]==========================================>      ]===================>   ]\n",
      "\n",
      "Data downloaded successfully.\n",
      "\n",
      "Preparing downloaded files for use...\n",
      "\n",
      "Success! Your Quick Start materials have been downloaded. \n",
      "You are now ready to run the tutorial.\n"
     ]
    }
   ],
   "source": [
    "import aimodelshare as ai\n",
    "X_train, X_test, y_train_labels, y_test_labels, example_data, lstm_model, lstm_model2 = ai.import_quickstart_data(\"clickbait\")"
   ]
  },
  {
   "cell_type": "code",
   "execution_count": 4,
   "id": "aa321e11",
   "metadata": {},
   "outputs": [
    {
     "name": "stdout",
     "output_type": "stream",
     "text": [
      "(24979,)\n",
      "(6245,)\n",
      "(24979,)\n",
      "(6245,)\n"
     ]
    }
   ],
   "source": [
    "print(X_train.shape)\n",
    "print(X_test.shape)\n",
    "print(y_train_labels.shape)\n",
    "print(y_test_labels.shape)"
   ]
  },
  {
   "cell_type": "code",
   "execution_count": 5,
   "id": "15f25fa4",
   "metadata": {},
   "outputs": [],
   "source": [
    "# function to clean text\n",
    "def clean_text(txt_in):\n",
    "    import re\n",
    "    clean = re.sub('[^A-Za-z0-9]+', \" \", txt_in).lower().strip()\n",
    "    return clean"
   ]
  },
  {
   "cell_type": "code",
   "execution_count": 6,
   "id": "eed3aa18",
   "metadata": {},
   "outputs": [],
   "source": [
    "X_train_clean = X_train.apply(clean_text)\n",
    "X_test_clean = X_test.apply(clean_text)"
   ]
  },
  {
   "cell_type": "code",
   "execution_count": 7,
   "id": "80b25aab",
   "metadata": {},
   "outputs": [
    {
     "name": "stdout",
     "output_type": "stream",
     "text": [
      "X_train:\n",
      "0       MyBook Disk Drive Handles Lots of Easy Backups\n",
      "1                       CIT Posts Eighth Loss in a Row\n",
      "2    Candy Carson Singing The \"National Anthem\" Is ...\n",
      "3    Why You Need To Stop What You're Doing And Dat...\n",
      "4    27 Times Adele Proved She's Actually The Reale...\n",
      "Name: headline, dtype: object\n",
      "\n",
      "\n",
      "X_train Cleaned:\n",
      "0       mybook disk drive handles lots of easy backups\n",
      "1                       cit posts eighth loss in a row\n",
      "2    candy carson singing the national anthem is th...\n",
      "3    why you need to stop what you re doing and dat...\n",
      "4    27 times adele proved she s actually the reale...\n",
      "Name: headline, dtype: object\n"
     ]
    }
   ],
   "source": [
    "print(\"X_train:\\n{}\".format(X_train.head()))\n",
    "print(\"\\n\")\n",
    "print(\"X_train Cleaned:\\n{}\".format(X_train_clean.head()))"
   ]
  },
  {
   "cell_type": "code",
   "execution_count": 8,
   "id": "7bd3ff8c",
   "metadata": {},
   "outputs": [
    {
     "name": "stdout",
     "output_type": "stream",
     "text": [
      "X_test:\n",
      "0    Buffalo, New York plane crash may have resulte...\n",
      "1           Under New Chief, Another Shake-Up at Yahoo\n",
      "2     Warning Sounded as France Moves Ahead on Reactor\n",
      "3    People limited to 150 friends, despite Faceboo...\n",
      "4    These Kids Turned Their Bratz Dolls Into Rey F...\n",
      "Name: headline, dtype: object\n",
      "\n",
      "\n",
      "X_test Cleaned:\n",
      "0    buffalo new york plane crash may have resulted...\n",
      "1            under new chief another shake up at yahoo\n",
      "2     warning sounded as france moves ahead on reactor\n",
      "3    people limited to 150 friends despite facebook...\n",
      "4    these kids turned their bratz dolls into rey f...\n",
      "Name: headline, dtype: object\n"
     ]
    }
   ],
   "source": [
    "print(\"X_test:\\n{}\".format(X_test.head()))\n",
    "print(\"\\n\")\n",
    "print(\"X_test Cleaned:\\n{}\".format(X_test_clean.head()))"
   ]
  },
  {
   "cell_type": "code",
   "execution_count": 9,
   "id": "2fce5c40",
   "metadata": {},
   "outputs": [],
   "source": [
    "def visualize_coefficients(coefficients, feature_names, n_top_features=25):\n",
    "    \"\"\"Visualize coefficients of a linear model.\n",
    "    Parameters\n",
    "    ----------\n",
    "    coefficients : nd-array, shape (n_features,)\n",
    "        Model coefficients.\n",
    "    feature_names : list or nd-array of strings, shape (n_features,)\n",
    "        Feature names for labeling the coefficients.\n",
    "    n_top_features : int, default=25\n",
    "        How many features to show. The function will show the largest (most\n",
    "        positive) and smallest (most negative)  n_top_features coefficients,\n",
    "        for a total of 2 * n_top_features coefficients.\n",
    "    \"\"\"\n",
    "    coefficients = coefficients.squeeze()\n",
    "    if coefficients.ndim > 1:\n",
    "        # this is not a row or column vector\n",
    "        raise ValueError(\"coeffients must be 1d array or column vector, got\"\n",
    "                         \" shape {}\".format(coefficients.shape))\n",
    "    coefficients = coefficients.ravel()\n",
    "\n",
    "    if len(coefficients) != len(feature_names):\n",
    "        raise ValueError(\"Number of coefficients {} doesn't match number of\"\n",
    "                         \"feature names {}.\".format(len(coefficients),\n",
    "                                                   len(feature_names)))\n",
    "    # get coefficients with large absolute values\n",
    "    coef = coefficients.ravel()\n",
    "    positive_coefficients = np.argsort(coef)[-n_top_features:]\n",
    "    negative_coefficients = np.argsort(coef)[:n_top_features]\n",
    "    interesting_coefficients = np.hstack([negative_coefficients,\n",
    "                                          positive_coefficients])\n",
    "    # plot them\n",
    "    plt.figure(figsize=(15, 5))\n",
    "    colors = ['#ff2020' if c < 0 else '#0000aa'\n",
    "              for c in coef[interesting_coefficients]]\n",
    "    plt.bar(np.arange(2 * n_top_features), coef[interesting_coefficients],\n",
    "            color=colors)\n",
    "    feature_names = np.array(feature_names)\n",
    "    plt.subplots_adjust(bottom=0.3)\n",
    "    plt.xticks(np.arange(1, 1 + 2 * n_top_features),\n",
    "               feature_names[interesting_coefficients], rotation=60,\n",
    "               ha=\"right\")\n",
    "    plt.ylabel(\"Coefficient magnitude\")\n",
    "    plt.xlabel(\"Feature\")\n"
   ]
  },
  {
   "cell_type": "markdown",
   "id": "55029cdd",
   "metadata": {},
   "source": [
    "### Model 1: As-is\n",
    "Before running model 1, I cleaned the text, converted all the letters to lowercase, removed stopwords, and then vectorized it using the count_vectorizer from scikit-learn. "
   ]
  },
  {
   "cell_type": "code",
   "execution_count": 10,
   "id": "984a82c0",
   "metadata": {},
   "outputs": [],
   "source": [
    "# Creating preprocessor function and removing stopwords\n",
    "from sklearn.feature_extraction.text import CountVectorizer\n",
    "vectorizer = CountVectorizer(min_df=5, stop_words='english')\n",
    "vec = vectorizer.fit(X_train_clean)\n",
    "\n",
    "def preprocessor(text_data):\n",
    "    data_vec = vec.transform(text_data).todense()\n",
    "    return data_vec"
   ]
  },
  {
   "cell_type": "code",
   "execution_count": 11,
   "id": "2e739866",
   "metadata": {},
   "outputs": [],
   "source": [
    "from sklearn.linear_model import LogisticRegression\n",
    "from sklearn.model_selection import cross_val_score\n",
    "from sklearn.metrics import f1_score"
   ]
  },
  {
   "cell_type": "code",
   "execution_count": 12,
   "id": "f33a3e8f",
   "metadata": {},
   "outputs": [
    {
     "name": "stdout",
     "output_type": "stream",
     "text": [
      "Model 1 Test set score: 0.9521216973578863\n",
      "Model 1 Coefficients: [[ 1.41036954 -0.82131193  0.6593195  ... -0.37678618  0.43026153\n",
      "   0.27504466]]\n"
     ]
    }
   ],
   "source": [
    "model = LogisticRegression(penalty= 'l2', max_iter = 10000)\n",
    "model.fit(preprocessor(X_train_clean), y_train_labels)\n",
    "print(\"Model 1 Test set score: {}\".format(model.score(preprocessor(X_test_clean), y_test_labels)))\n",
    "print(\"Model 1 Coefficients: {}\".format(model.coef_))"
   ]
  },
  {
   "cell_type": "code",
   "execution_count": 13,
   "id": "f9fc8bf6",
   "metadata": {},
   "outputs": [
    {
     "name": "stdout",
     "output_type": "stream",
     "text": [
      "Model 1 f1 test set Score: 0.9521036127000991\n"
     ]
    }
   ],
   "source": [
    "y_pred = model.predict(preprocessor(X_test_clean))\n",
    "print(\"Model 1 f1 test set Score: {}\".format(f1_score(y_test_labels, y_pred, average='weighted')))"
   ]
  },
  {
   "cell_type": "code",
   "execution_count": 14,
   "id": "5eb4a425",
   "metadata": {},
   "outputs": [
    {
     "name": "stdout",
     "output_type": "stream",
     "text": [
      "Model 1 Cross Validation Score: 0.951056653076676\n"
     ]
    }
   ],
   "source": [
    "print(\"Model 1 Cross Validation Score: {}\".format(\n",
    "np.mean(cross_val_score(LogisticRegression(penalty = 'l2'), preprocessor(X_train_clean), y_train_labels, scoring = \"f1_weighted\", cv = 10))))"
   ]
  },
  {
   "cell_type": "code",
   "execution_count": 15,
   "id": "ecedac81",
   "metadata": {},
   "outputs": [
    {
     "data": {
      "image/png": "[encoded data removed]",
      "text/plain": [
       "<Figure size 1080x360 with 1 Axes>"
      ]
     },
     "metadata": {
      "needs_background": "light"
     },
     "output_type": "display_data"
    }
   ],
   "source": [
    "coef = model.coef_\n",
    "features = vec.get_feature_names()\n",
    "visualize_coefficients(coef, features, n_top_features=15)"
   ]
  },
  {
   "cell_type": "markdown",
   "id": "5211a4be",
   "metadata": {},
   "source": [
    "***Conclusion:*** In Model 1, I ran the model on a cleaned text file by removing the stopwords and vectorizing it using the count_vectorizer function. \n",
    "- The resulting f1 test set score is: `0.9521036127000991`\n",
    "- The resulting cross validation f1 score is: `0.951056653076676`\n",
    "\n",
    "The helper function allows us to visualize the top 15 positive & negative coefficients for Model 1. The top most positive coefficient is `dies` and the most negative coefficient is `know`. "
   ]
  },
  {
   "cell_type": "markdown",
   "id": "dd10cba7",
   "metadata": {},
   "source": [
    "### Model 2: Stemming\n",
    "In Model 2, I will conduct stemming on the cleaned text before running a logistic regression model."
   ]
  },
  {
   "cell_type": "code",
   "execution_count": 16,
   "id": "e572b628",
   "metadata": {},
   "outputs": [],
   "source": [
    "def stem_fun(var):\n",
    "    from nltk.stem.porter import PorterStemmer\n",
    "    stemmer = PorterStemmer()\n",
    "    tmp_txt = [stemmer.stem(word) for word in var.split()]\n",
    "    tmp_txt = ' '.join(tmp_txt)\n",
    "    return tmp_txt"
   ]
  },
  {
   "cell_type": "code",
   "execution_count": 17,
   "id": "e0a46bf2",
   "metadata": {},
   "outputs": [],
   "source": [
    "X_train_stem = X_train_clean.apply(stem_fun)\n",
    "X_test_stem = X_test_clean.apply(stem_fun)"
   ]
  },
  {
   "cell_type": "code",
   "execution_count": 18,
   "id": "fe6afb0b",
   "metadata": {},
   "outputs": [
    {
     "name": "stdout",
     "output_type": "stream",
     "text": [
      "X_train Cleaned:\n",
      "0       mybook disk drive handles lots of easy backups\n",
      "1                       cit posts eighth loss in a row\n",
      "2    candy carson singing the national anthem is th...\n",
      "3    why you need to stop what you re doing and dat...\n",
      "4    27 times adele proved she s actually the reale...\n",
      "Name: headline, dtype: object\n",
      "\n",
      "\n",
      "X_train Stemmed:\n",
      "0           mybook disk drive handl lot of easi backup\n",
      "1                        cit post eighth loss in a row\n",
      "2    candi carson sing the nation anthem is the onl...\n",
      "3    whi you need to stop what you re do and date a...\n",
      "4    27 time adel prove she s actual the realest ce...\n",
      "Name: headline, dtype: object\n"
     ]
    }
   ],
   "source": [
    "print(\"X_train Cleaned:\\n{}\".format(X_train_clean.head()))\n",
    "print(\"\\n\")\n",
    "print(\"X_train Stemmed:\\n{}\".format(X_train_stem.head()))"
   ]
  },
  {
   "cell_type": "code",
   "execution_count": 19,
   "id": "522731eb",
   "metadata": {},
   "outputs": [
    {
     "name": "stdout",
     "output_type": "stream",
     "text": [
      "X_test cleaned:\n",
      "0    buffalo new york plane crash may have resulted...\n",
      "1            under new chief another shake up at yahoo\n",
      "2     warning sounded as france moves ahead on reactor\n",
      "3    people limited to 150 friends despite facebook...\n",
      "4    these kids turned their bratz dolls into rey f...\n",
      "Name: headline, dtype: object\n",
      "\n",
      "\n",
      "X_test stemmed:\n",
      "0    buffalo new york plane crash may have result f...\n",
      "1              under new chief anoth shake up at yahoo\n",
      "2            warn sound as franc move ahead on reactor\n",
      "3    peopl limit to 150 friend despit facebook say ...\n",
      "4    these kid turn their bratz doll into rey from ...\n",
      "Name: headline, dtype: object\n"
     ]
    }
   ],
   "source": [
    "print(\"X_test cleaned:\\n{}\".format(X_test_clean.head()))\n",
    "print(\"\\n\")\n",
    "print(\"X_test stemmed:\\n{}\".format(X_test_stem.head()))"
   ]
  },
  {
   "cell_type": "code",
   "execution_count": 20,
   "id": "563a46e8",
   "metadata": {},
   "outputs": [],
   "source": [
    "#Vectorizing\n",
    "from sklearn.feature_extraction.text import CountVectorizer\n",
    "vectorizer = CountVectorizer(min_df=5, stop_words='english')\n",
    "vec_stem = vectorizer.fit(X_train_stem)\n",
    "\n",
    "def preprocessor(text_data):\n",
    "    data_vec = vec_stem.transform(text_data).todense()\n",
    "    return data_vec"
   ]
  },
  {
   "cell_type": "code",
   "execution_count": 21,
   "id": "58233655",
   "metadata": {},
   "outputs": [
    {
     "name": "stdout",
     "output_type": "stream",
     "text": [
      "Model 2 Test set score: 0.955964771817454\n",
      "Model 2 Coefficients: [[-0.82009439  1.50852518  0.68081559 ... -0.491362    0.33770607\n",
      "   0.14474656]]\n"
     ]
    }
   ],
   "source": [
    "model_stem = LogisticRegression(penalty= 'l2', max_iter = 10000)\n",
    "model_stem.fit(preprocessor(X_train_stem), y_train_labels)\n",
    "print(\"Model 2 Test set score: {}\".format(model_stem.score(preprocessor(X_test_stem), y_test_labels)))\n",
    "print(\"Model 2 Coefficients: {}\".format(model_stem.coef_))"
   ]
  },
  {
   "cell_type": "code",
   "execution_count": 22,
   "id": "f48c33bf",
   "metadata": {},
   "outputs": [
    {
     "name": "stdout",
     "output_type": "stream",
     "text": [
      "Model 2 f1 test set Score: 0.9559515901503922\n"
     ]
    }
   ],
   "source": [
    "y_pred = model_stem.predict(preprocessor(X_test_stem))\n",
    "print(\"Model 2 f1 test set Score: {}\".format(f1_score(y_test_labels, y_pred, average='weighted')))"
   ]
  },
  {
   "cell_type": "code",
   "execution_count": 23,
   "id": "f3b2be3c",
   "metadata": {},
   "outputs": [
    {
     "name": "stdout",
     "output_type": "stream",
     "text": [
      "Model 2 Cross Validation Score: 0.9511781710619032\n"
     ]
    }
   ],
   "source": [
    "print(\"Model 2 Cross Validation Score: {}\".format(\n",
    "np.mean(cross_val_score(LogisticRegression(penalty = 'l2'), preprocessor(X_train_stem), y_train_labels, scoring = \"f1_weighted\", cv = 10))))"
   ]
  },
  {
   "cell_type": "code",
   "execution_count": 24,
   "id": "5029771c",
   "metadata": {},
   "outputs": [
    {
     "data": {
      "image/png": "[encoded data removed]",
      "text/plain": [
       "<Figure size 1080x360 with 1 Axes>"
      ]
     },
     "metadata": {
      "needs_background": "light"
     },
     "output_type": "display_data"
    }
   ],
   "source": [
    "coef = model_stem.coef_\n",
    "features = vec_stem.get_feature_names()\n",
    "visualize_coefficients(coef, features, n_top_features=15)"
   ]
  },
  {
   "cell_type": "markdown",
   "id": "9f95b984",
   "metadata": {},
   "source": [
    "***Conclusion***: In Model 2, I ran the model on a cleaned text file by removing the stopwords, stemmed the words, and then vectorized it using the count_vectorizer function.\n",
    "\n",
    "- The resulting f1 test set score is: `0.9559515901503922`\n",
    "- The resulting cross validation f1 score is: `0.9511781710619032`\n",
    "\n",
    "The top positive & negative coefficients for Model 2 are slightly different from those in Model 1- Model 2 contains a lot of the similar coefficients from Model 1, but stemmed, and then some. The top most positive coefficient is `iraq` and the negative most is `charact`, a stemmed version of character."
   ]
  },
  {
   "cell_type": "markdown",
   "id": "e98dabcb",
   "metadata": {},
   "source": [
    "### Model 3: Lemmatizing\n",
    "In addition to cleaning and removing stop words, I lemmatize the text before running the logistic regression model."
   ]
  },
  {
   "cell_type": "code",
   "execution_count": 25,
   "id": "b8a86bc7",
   "metadata": {},
   "outputs": [],
   "source": [
    "def lem_fun(var):\n",
    "    from nltk.stem.wordnet import WordNetLemmatizer\n",
    "    lemmatizer = WordNetLemmatizer()\n",
    "    tmp_txt = [lemmatizer.lemmatize(word) for word in var.split()]\n",
    "    tmp_txt = ' '.join(tmp_txt)\n",
    "    return tmp_txt"
   ]
  },
  {
   "cell_type": "code",
   "execution_count": 26,
   "id": "682720f2",
   "metadata": {},
   "outputs": [],
   "source": [
    "X_train_lem = X_train_clean.apply(lem_fun)\n",
    "X_test_lem = X_test_clean.apply(lem_fun)"
   ]
  },
  {
   "cell_type": "code",
   "execution_count": 27,
   "id": "8b0eef9d",
   "metadata": {},
   "outputs": [
    {
     "name": "stdout",
     "output_type": "stream",
     "text": [
      "X_train Cleaned:\n",
      "0       mybook disk drive handles lots of easy backups\n",
      "1                       cit posts eighth loss in a row\n",
      "2    candy carson singing the national anthem is th...\n",
      "3    why you need to stop what you re doing and dat...\n",
      "4    27 times adele proved she s actually the reale...\n",
      "Name: headline, dtype: object\n",
      "\n",
      "\n",
      "X_train Lemmaztized:\n",
      "0          mybook disk drive handle lot of easy backup\n",
      "1                        cit post eighth loss in a row\n",
      "2    candy carson singing the national anthem is th...\n",
      "3    why you need to stop what you re doing and dat...\n",
      "4    27 time adele proved she s actually the reales...\n",
      "Name: headline, dtype: object\n"
     ]
    }
   ],
   "source": [
    "print(\"X_train Cleaned:\\n{}\".format(X_train_clean.head()))\n",
    "print(\"\\n\")\n",
    "print(\"X_train Lemmaztized:\\n{}\".format(X_train_lem.head()))"
   ]
  },
  {
   "cell_type": "code",
   "execution_count": 28,
   "id": "db15b8eb",
   "metadata": {},
   "outputs": [
    {
     "name": "stdout",
     "output_type": "stream",
     "text": [
      "X_test Cleaned:\n",
      "0    buffalo new york plane crash may have resulted...\n",
      "1            under new chief another shake up at yahoo\n",
      "2     warning sounded as france moves ahead on reactor\n",
      "3    people limited to 150 friends despite facebook...\n",
      "4    these kids turned their bratz dolls into rey f...\n",
      "Name: headline, dtype: object\n",
      "\n",
      "\n",
      "X_test Lemmatized:\n",
      "0    buffalo new york plane crash may have resulted...\n",
      "1            under new chief another shake up at yahoo\n",
      "2       warning sounded a france move ahead on reactor\n",
      "3    people limited to 150 friend despite facebook ...\n",
      "4    these kid turned their bratz doll into rey fro...\n",
      "Name: headline, dtype: object\n"
     ]
    }
   ],
   "source": [
    "print(\"X_test Cleaned:\\n{}\".format(X_test_clean.head()))\n",
    "print(\"\\n\")\n",
    "print(\"X_test Lemmatized:\\n{}\".format(X_test_lem.head()))"
   ]
  },
  {
   "cell_type": "code",
   "execution_count": 29,
   "id": "939675eb",
   "metadata": {},
   "outputs": [],
   "source": [
    "#Vectorizing\n",
    "from sklearn.feature_extraction.text import CountVectorizer\n",
    "vectorizer = CountVectorizer(min_df=5, stop_words='english')\n",
    "vec_lem = vectorizer.fit(X_train_lem)\n",
    "\n",
    "def preprocessor(text_data):\n",
    "    data_vec = vec_lem.transform(text_data).todense()\n",
    "    return data_vec"
   ]
  },
  {
   "cell_type": "code",
   "execution_count": 30,
   "id": "08e35671",
   "metadata": {},
   "outputs": [
    {
     "name": "stdout",
     "output_type": "stream",
     "text": [
      "Model 3 Test set score: 0.9535628502802241\n",
      "Model 3 Coefficients: [[ 1.3048573  -0.78244674  0.4469505  ... -0.51717793  0.27192133\n",
      "   0.30171523]]\n"
     ]
    }
   ],
   "source": [
    "model_lem = LogisticRegression(penalty= 'l2', max_iter = 10000)\n",
    "model_lem.fit(preprocessor(X_train_lem), y_train_labels)\n",
    "print(\"Model 3 Test set score: {}\".format(model_lem.score(preprocessor(X_test_lem), y_test_labels)))\n",
    "print(\"Model 3 Coefficients: {}\".format(model_lem.coef_))"
   ]
  },
  {
   "cell_type": "code",
   "execution_count": 31,
   "id": "15bf976f",
   "metadata": {},
   "outputs": [
    {
     "name": "stdout",
     "output_type": "stream",
     "text": [
      "Model 3 f1 test set Score: 0.9535456847213106\n"
     ]
    }
   ],
   "source": [
    "y_pred = model_lem.predict(preprocessor(X_test_lem))\n",
    "print(\"Model 3 f1 test set Score: {}\".format(f1_score(y_test_labels, y_pred, average='weighted')))"
   ]
  },
  {
   "cell_type": "code",
   "execution_count": 32,
   "id": "6a53054d",
   "metadata": {
    "scrolled": true
   },
   "outputs": [
    {
     "name": "stdout",
     "output_type": "stream",
     "text": [
      "Model 3 Cross Validation Score: 0.9494167310017024\n"
     ]
    }
   ],
   "source": [
    "print(\"Model 3 Cross Validation Score: {}\".format(\n",
    "np.mean(cross_val_score(LogisticRegression(penalty = 'l2'), preprocessor(X_train_lem), y_train_labels, scoring = \"f1_weighted\", cv = 10))))"
   ]
  },
  {
   "cell_type": "code",
   "execution_count": 33,
   "id": "6373e325",
   "metadata": {
    "scrolled": true
   },
   "outputs": [
    {
     "data": {
      "image/png": "[encoded data removed]",
      "text/plain": [
       "<Figure size 1080x360 with 1 Axes>"
      ]
     },
     "metadata": {
      "needs_background": "light"
     },
     "output_type": "display_data"
    }
   ],
   "source": [
    "coef = model_lem.coef_\n",
    "features = vec_lem.get_feature_names()\n",
    "visualize_coefficients(coef, features, n_top_features=15)"
   ]
  },
  {
   "cell_type": "markdown",
   "id": "79ac28e3",
   "metadata": {},
   "source": [
    "***Conclusion:*** In Model 3, I ran the model on a cleaned text file by removing the stopwords, lemmatized the words, and then vectorized it using the count_vectorizer function.\n",
    "\n",
    "- The resulting f1 test set score is: `0.9535456847213106`\n",
    "- The resulting cross validation f1 score is: `0.9494167310017024`\n",
    "\n",
    "The top positive & negative coefficients for Model 3 are, again, slightly different from those in Model 1 and Model 2. The top most positive coefficient is `dy` and the negative most is `actually`."
   ]
  },
  {
   "cell_type": "markdown",
   "id": "16888bd3",
   "metadata": {},
   "source": [
    "### Conclusion:\n",
    "I ran logistic regression on three different models. The models differ in how the text is preprocessed before I train it using logistic regression. In Model 1, I don't do any additional preprocessing after cleaning the text and removing the stopwords. In Model 2, I take the clean text, remove the stop words, and also stemmatize the words. In Model 3, I lemmatize the text after cleaning it and removing stopwords. The biggest difference between stemming and lemmatizing is that stemming often leads to incorrect meanings and spellings, whereas lemmatizing uses the 'base form', or lemmas, of the words. \n",
    "\n",
    "All three models got a very high f1 test set score:\n",
    "- Model 1 (As-is): `0.9521036127000991`\n",
    "- Model 2 (Stemmed): `0.9559515901503922`\n",
    "- Model 3 (Lemmatized): `0.9535456847213106`\n",
    "\n",
    "Similarly, all three models also had high cross validation score on the training set:\n",
    "- Model 1 (As-is): `0.951056653076676`\n",
    "- Model 2 (Stemmed): `0.9511781710619032`\n",
    "- Model 3 (Lemmatized): `0.9494167310017024`\n",
    "\n",
    "As we can see from both the f1 score on the test set and the cross validation (f1_weighted) score on the training set, model 2 has performed the best out of the three models.\n",
    "\n",
    "Thus, for this data, I would choose to use Model 2, aka stemming, over not doing anything or lemmatization.\n",
    "\n",
    "***Model 2 (stemmed) is the best model.***"
   ]
  },
  {
   "cell_type": "markdown",
   "id": "4adc1d17",
   "metadata": {},
   "source": [
    "___\n",
    "## Part 2: Build a predictive neural network using Keras\n",
    "Run a multilayer perceptron (feed forward neural network) with two hidden layers on the iris dataset using the keras Sequential interface. \n",
    "\n",
    "Include code for selecting the number of hidden units using GridSearchCV and evaluation on a test-set.  Describe the differences in the predictive accuracy of models with different numbers of hidden units.  Describe the predictive strength of your best model.  Be sure to explain your choice and evaluate this model using the test set."
   ]
  },
  {
   "cell_type": "code",
   "execution_count": 34,
   "id": "d2cd6cb3",
   "metadata": {},
   "outputs": [],
   "source": [
    "iris = pd.read_csv(\"http://vincentarelbundock.github.io/Rdatasets/csv/datasets/iris.csv\", sep = ',')"
   ]
  },
  {
   "cell_type": "code",
   "execution_count": 35,
   "id": "3a5881e1",
   "metadata": {},
   "outputs": [
    {
     "data": {
      "text/html": [
       "<div>\n",
       "<style scoped>\n",
       "    .dataframe tbody tr th:only-of-type {\n",
       "        vertical-align: middle;\n",
       "    }\n",
       "\n",
       "    .dataframe tbody tr th {\n",
       "        vertical-align: top;\n",
       "    }\n",
       "\n",
       "    .dataframe thead th {\n",
       "        text-align: right;\n",
       "    }\n",
       "</style>\n",
       "<table border=\"1\" class=\"dataframe\">\n",
       "  <thead>\n",
       "    <tr style=\"text-align: right;\">\n",
       "      <th></th>\n",
       "      <th>Unnamed: 0</th>\n",
       "      <th>Sepal.Length</th>\n",
       "      <th>Sepal.Width</th>\n",
       "      <th>Petal.Length</th>\n",
       "      <th>Petal.Width</th>\n",
       "      <th>Species</th>\n",
       "    </tr>\n",
       "  </thead>\n",
       "  <tbody>\n",
       "    <tr>\n",
       "      <th>0</th>\n",
       "      <td>1</td>\n",
       "      <td>5.1</td>\n",
       "      <td>3.5</td>\n",
       "      <td>1.4</td>\n",
       "      <td>0.2</td>\n",
       "      <td>setosa</td>\n",
       "    </tr>\n",
       "    <tr>\n",
       "      <th>1</th>\n",
       "      <td>2</td>\n",
       "      <td>4.9</td>\n",
       "      <td>3.0</td>\n",
       "      <td>1.4</td>\n",
       "      <td>0.2</td>\n",
       "      <td>setosa</td>\n",
       "    </tr>\n",
       "    <tr>\n",
       "      <th>2</th>\n",
       "      <td>3</td>\n",
       "      <td>4.7</td>\n",
       "      <td>3.2</td>\n",
       "      <td>1.3</td>\n",
       "      <td>0.2</td>\n",
       "      <td>setosa</td>\n",
       "    </tr>\n",
       "    <tr>\n",
       "      <th>3</th>\n",
       "      <td>4</td>\n",
       "      <td>4.6</td>\n",
       "      <td>3.1</td>\n",
       "      <td>1.5</td>\n",
       "      <td>0.2</td>\n",
       "      <td>setosa</td>\n",
       "    </tr>\n",
       "    <tr>\n",
       "      <th>4</th>\n",
       "      <td>5</td>\n",
       "      <td>5.0</td>\n",
       "      <td>3.6</td>\n",
       "      <td>1.4</td>\n",
       "      <td>0.2</td>\n",
       "      <td>setosa</td>\n",
       "    </tr>\n",
       "  </tbody>\n",
       "</table>\n",
       "</div>"
      ],
      "text/plain": [
       "   Unnamed: 0  Sepal.Length  Sepal.Width  Petal.Length  Petal.Width Species\n",
       "0           1           5.1          3.5           1.4          0.2  setosa\n",
       "1           2           4.9          3.0           1.4          0.2  setosa\n",
       "2           3           4.7          3.2           1.3          0.2  setosa\n",
       "3           4           4.6          3.1           1.5          0.2  setosa\n",
       "4           5           5.0          3.6           1.4          0.2  setosa"
      ]
     },
     "execution_count": 35,
     "metadata": {},
     "output_type": "execute_result"
    }
   ],
   "source": [
    "iris.head()"
   ]
  },
  {
   "cell_type": "code",
   "execution_count": 36,
   "id": "bf7a943e",
   "metadata": {},
   "outputs": [],
   "source": [
    "iris = iris.iloc[:,1:]"
   ]
  },
  {
   "cell_type": "code",
   "execution_count": 37,
   "id": "5a8651b4",
   "metadata": {},
   "outputs": [
    {
     "data": {
      "text/html": [
       "<div>\n",
       "<style scoped>\n",
       "    .dataframe tbody tr th:only-of-type {\n",
       "        vertical-align: middle;\n",
       "    }\n",
       "\n",
       "    .dataframe tbody tr th {\n",
       "        vertical-align: top;\n",
       "    }\n",
       "\n",
       "    .dataframe thead th {\n",
       "        text-align: right;\n",
       "    }\n",
       "</style>\n",
       "<table border=\"1\" class=\"dataframe\">\n",
       "  <thead>\n",
       "    <tr style=\"text-align: right;\">\n",
       "      <th></th>\n",
       "      <th>Sepal.Length</th>\n",
       "      <th>Sepal.Width</th>\n",
       "      <th>Petal.Length</th>\n",
       "      <th>Petal.Width</th>\n",
       "      <th>Species</th>\n",
       "    </tr>\n",
       "  </thead>\n",
       "  <tbody>\n",
       "    <tr>\n",
       "      <th>0</th>\n",
       "      <td>5.1</td>\n",
       "      <td>3.5</td>\n",
       "      <td>1.4</td>\n",
       "      <td>0.2</td>\n",
       "      <td>setosa</td>\n",
       "    </tr>\n",
       "    <tr>\n",
       "      <th>1</th>\n",
       "      <td>4.9</td>\n",
       "      <td>3.0</td>\n",
       "      <td>1.4</td>\n",
       "      <td>0.2</td>\n",
       "      <td>setosa</td>\n",
       "    </tr>\n",
       "    <tr>\n",
       "      <th>2</th>\n",
       "      <td>4.7</td>\n",
       "      <td>3.2</td>\n",
       "      <td>1.3</td>\n",
       "      <td>0.2</td>\n",
       "      <td>setosa</td>\n",
       "    </tr>\n",
       "    <tr>\n",
       "      <th>3</th>\n",
       "      <td>4.6</td>\n",
       "      <td>3.1</td>\n",
       "      <td>1.5</td>\n",
       "      <td>0.2</td>\n",
       "      <td>setosa</td>\n",
       "    </tr>\n",
       "    <tr>\n",
       "      <th>4</th>\n",
       "      <td>5.0</td>\n",
       "      <td>3.6</td>\n",
       "      <td>1.4</td>\n",
       "      <td>0.2</td>\n",
       "      <td>setosa</td>\n",
       "    </tr>\n",
       "  </tbody>\n",
       "</table>\n",
       "</div>"
      ],
      "text/plain": [
       "   Sepal.Length  Sepal.Width  Petal.Length  Petal.Width Species\n",
       "0           5.1          3.5           1.4          0.2  setosa\n",
       "1           4.9          3.0           1.4          0.2  setosa\n",
       "2           4.7          3.2           1.3          0.2  setosa\n",
       "3           4.6          3.1           1.5          0.2  setosa\n",
       "4           5.0          3.6           1.4          0.2  setosa"
      ]
     },
     "execution_count": 37,
     "metadata": {},
     "output_type": "execute_result"
    }
   ],
   "source": [
    "iris.head()"
   ]
  },
  {
   "cell_type": "code",
   "execution_count": 38,
   "id": "25d14cc2",
   "metadata": {},
   "outputs": [],
   "source": [
    "y = iris['Species']\n",
    "X = iris.loc[:, iris.columns != 'Species']"
   ]
  },
  {
   "cell_type": "code",
   "execution_count": 39,
   "id": "bd6fd3bd",
   "metadata": {},
   "outputs": [
    {
     "data": {
      "text/html": [
       "<div>\n",
       "<style scoped>\n",
       "    .dataframe tbody tr th:only-of-type {\n",
       "        vertical-align: middle;\n",
       "    }\n",
       "\n",
       "    .dataframe tbody tr th {\n",
       "        vertical-align: top;\n",
       "    }\n",
       "\n",
       "    .dataframe thead th {\n",
       "        text-align: right;\n",
       "    }\n",
       "</style>\n",
       "<table border=\"1\" class=\"dataframe\">\n",
       "  <thead>\n",
       "    <tr style=\"text-align: right;\">\n",
       "      <th></th>\n",
       "      <th>Sepal.Length</th>\n",
       "      <th>Sepal.Width</th>\n",
       "      <th>Petal.Length</th>\n",
       "      <th>Petal.Width</th>\n",
       "      <th>Species</th>\n",
       "    </tr>\n",
       "  </thead>\n",
       "  <tbody>\n",
       "    <tr>\n",
       "      <th>0</th>\n",
       "      <td>5.1</td>\n",
       "      <td>3.5</td>\n",
       "      <td>1.4</td>\n",
       "      <td>0.2</td>\n",
       "      <td>setosa</td>\n",
       "    </tr>\n",
       "    <tr>\n",
       "      <th>1</th>\n",
       "      <td>4.9</td>\n",
       "      <td>3.0</td>\n",
       "      <td>1.4</td>\n",
       "      <td>0.2</td>\n",
       "      <td>setosa</td>\n",
       "    </tr>\n",
       "    <tr>\n",
       "      <th>2</th>\n",
       "      <td>4.7</td>\n",
       "      <td>3.2</td>\n",
       "      <td>1.3</td>\n",
       "      <td>0.2</td>\n",
       "      <td>setosa</td>\n",
       "    </tr>\n",
       "    <tr>\n",
       "      <th>3</th>\n",
       "      <td>4.6</td>\n",
       "      <td>3.1</td>\n",
       "      <td>1.5</td>\n",
       "      <td>0.2</td>\n",
       "      <td>setosa</td>\n",
       "    </tr>\n",
       "    <tr>\n",
       "      <th>4</th>\n",
       "      <td>5.0</td>\n",
       "      <td>3.6</td>\n",
       "      <td>1.4</td>\n",
       "      <td>0.2</td>\n",
       "      <td>setosa</td>\n",
       "    </tr>\n",
       "  </tbody>\n",
       "</table>\n",
       "</div>"
      ],
      "text/plain": [
       "   Sepal.Length  Sepal.Width  Petal.Length  Petal.Width Species\n",
       "0           5.1          3.5           1.4          0.2  setosa\n",
       "1           4.9          3.0           1.4          0.2  setosa\n",
       "2           4.7          3.2           1.3          0.2  setosa\n",
       "3           4.6          3.1           1.5          0.2  setosa\n",
       "4           5.0          3.6           1.4          0.2  setosa"
      ]
     },
     "metadata": {},
     "output_type": "display_data"
    },
    {
     "data": {
      "text/html": [
       "<div>\n",
       "<style scoped>\n",
       "    .dataframe tbody tr th:only-of-type {\n",
       "        vertical-align: middle;\n",
       "    }\n",
       "\n",
       "    .dataframe tbody tr th {\n",
       "        vertical-align: top;\n",
       "    }\n",
       "\n",
       "    .dataframe thead th {\n",
       "        text-align: right;\n",
       "    }\n",
       "</style>\n",
       "<table border=\"1\" class=\"dataframe\">\n",
       "  <thead>\n",
       "    <tr style=\"text-align: right;\">\n",
       "      <th></th>\n",
       "      <th>Sepal.Length</th>\n",
       "      <th>Sepal.Width</th>\n",
       "      <th>Petal.Length</th>\n",
       "      <th>Petal.Width</th>\n",
       "    </tr>\n",
       "  </thead>\n",
       "  <tbody>\n",
       "    <tr>\n",
       "      <th>0</th>\n",
       "      <td>5.1</td>\n",
       "      <td>3.5</td>\n",
       "      <td>1.4</td>\n",
       "      <td>0.2</td>\n",
       "    </tr>\n",
       "    <tr>\n",
       "      <th>1</th>\n",
       "      <td>4.9</td>\n",
       "      <td>3.0</td>\n",
       "      <td>1.4</td>\n",
       "      <td>0.2</td>\n",
       "    </tr>\n",
       "    <tr>\n",
       "      <th>2</th>\n",
       "      <td>4.7</td>\n",
       "      <td>3.2</td>\n",
       "      <td>1.3</td>\n",
       "      <td>0.2</td>\n",
       "    </tr>\n",
       "    <tr>\n",
       "      <th>3</th>\n",
       "      <td>4.6</td>\n",
       "      <td>3.1</td>\n",
       "      <td>1.5</td>\n",
       "      <td>0.2</td>\n",
       "    </tr>\n",
       "    <tr>\n",
       "      <th>4</th>\n",
       "      <td>5.0</td>\n",
       "      <td>3.6</td>\n",
       "      <td>1.4</td>\n",
       "      <td>0.2</td>\n",
       "    </tr>\n",
       "  </tbody>\n",
       "</table>\n",
       "</div>"
      ],
      "text/plain": [
       "   Sepal.Length  Sepal.Width  Petal.Length  Petal.Width\n",
       "0           5.1          3.5           1.4          0.2\n",
       "1           4.9          3.0           1.4          0.2\n",
       "2           4.7          3.2           1.3          0.2\n",
       "3           4.6          3.1           1.5          0.2\n",
       "4           5.0          3.6           1.4          0.2"
      ]
     },
     "metadata": {},
     "output_type": "display_data"
    },
    {
     "data": {
      "text/plain": [
       "0          setosa\n",
       "10         setosa\n",
       "20         setosa\n",
       "30         setosa\n",
       "40         setosa\n",
       "50     versicolor\n",
       "60     versicolor\n",
       "70     versicolor\n",
       "80     versicolor\n",
       "90     versicolor\n",
       "100     virginica\n",
       "110     virginica\n",
       "120     virginica\n",
       "130     virginica\n",
       "140     virginica\n",
       "Name: Species, dtype: object"
      ]
     },
     "metadata": {},
     "output_type": "display_data"
    }
   ],
   "source": [
    "display(iris.head())\n",
    "display(X.head())\n",
    "display(y[0::10])"
   ]
  },
  {
   "cell_type": "code",
   "execution_count": 40,
   "id": "70f1aab1",
   "metadata": {},
   "outputs": [
    {
     "data": {
      "text/html": [
       "<div>\n",
       "<style scoped>\n",
       "    .dataframe tbody tr th:only-of-type {\n",
       "        vertical-align: middle;\n",
       "    }\n",
       "\n",
       "    .dataframe tbody tr th {\n",
       "        vertical-align: top;\n",
       "    }\n",
       "\n",
       "    .dataframe thead th {\n",
       "        text-align: right;\n",
       "    }\n",
       "</style>\n",
       "<table border=\"1\" class=\"dataframe\">\n",
       "  <thead>\n",
       "    <tr style=\"text-align: right;\">\n",
       "      <th></th>\n",
       "      <th>setosa</th>\n",
       "      <th>versicolor</th>\n",
       "      <th>virginica</th>\n",
       "    </tr>\n",
       "  </thead>\n",
       "  <tbody>\n",
       "    <tr>\n",
       "      <th>0</th>\n",
       "      <td>1</td>\n",
       "      <td>0</td>\n",
       "      <td>0</td>\n",
       "    </tr>\n",
       "    <tr>\n",
       "      <th>1</th>\n",
       "      <td>1</td>\n",
       "      <td>0</td>\n",
       "      <td>0</td>\n",
       "    </tr>\n",
       "    <tr>\n",
       "      <th>2</th>\n",
       "      <td>1</td>\n",
       "      <td>0</td>\n",
       "      <td>0</td>\n",
       "    </tr>\n",
       "    <tr>\n",
       "      <th>3</th>\n",
       "      <td>1</td>\n",
       "      <td>0</td>\n",
       "      <td>0</td>\n",
       "    </tr>\n",
       "    <tr>\n",
       "      <th>4</th>\n",
       "      <td>1</td>\n",
       "      <td>0</td>\n",
       "      <td>0</td>\n",
       "    </tr>\n",
       "    <tr>\n",
       "      <th>...</th>\n",
       "      <td>...</td>\n",
       "      <td>...</td>\n",
       "      <td>...</td>\n",
       "    </tr>\n",
       "    <tr>\n",
       "      <th>145</th>\n",
       "      <td>0</td>\n",
       "      <td>0</td>\n",
       "      <td>1</td>\n",
       "    </tr>\n",
       "    <tr>\n",
       "      <th>146</th>\n",
       "      <td>0</td>\n",
       "      <td>0</td>\n",
       "      <td>1</td>\n",
       "    </tr>\n",
       "    <tr>\n",
       "      <th>147</th>\n",
       "      <td>0</td>\n",
       "      <td>0</td>\n",
       "      <td>1</td>\n",
       "    </tr>\n",
       "    <tr>\n",
       "      <th>148</th>\n",
       "      <td>0</td>\n",
       "      <td>0</td>\n",
       "      <td>1</td>\n",
       "    </tr>\n",
       "    <tr>\n",
       "      <th>149</th>\n",
       "      <td>0</td>\n",
       "      <td>0</td>\n",
       "      <td>1</td>\n",
       "    </tr>\n",
       "  </tbody>\n",
       "</table>\n",
       "<p>150 rows × 3 columns</p>\n",
       "</div>"
      ],
      "text/plain": [
       "     setosa  versicolor  virginica\n",
       "0         1           0          0\n",
       "1         1           0          0\n",
       "2         1           0          0\n",
       "3         1           0          0\n",
       "4         1           0          0\n",
       "..      ...         ...        ...\n",
       "145       0           0          1\n",
       "146       0           0          1\n",
       "147       0           0          1\n",
       "148       0           0          1\n",
       "149       0           0          1\n",
       "\n",
       "[150 rows x 3 columns]"
      ]
     },
     "execution_count": 40,
     "metadata": {},
     "output_type": "execute_result"
    }
   ],
   "source": [
    "y = pd.get_dummies(y)\n",
    "y"
   ]
  },
  {
   "cell_type": "code",
   "execution_count": 41,
   "id": "0b3f6c95",
   "metadata": {},
   "outputs": [],
   "source": [
    "from sklearn.model_selection import train_test_split\n",
    "X_train, X_test, y_train, y_test = train_test_split(X, y)"
   ]
  },
  {
   "cell_type": "code",
   "execution_count": 42,
   "id": "5283bca1",
   "metadata": {},
   "outputs": [
    {
     "name": "stdout",
     "output_type": "stream",
     "text": [
      "(112, 4)\n",
      "(38, 4)\n",
      "(112, 3)\n",
      "(38, 3)\n"
     ]
    }
   ],
   "source": [
    "print(X_train.shape)\n",
    "print(X_test.shape)\n",
    "print(y_train.shape)\n",
    "print(y_test.shape)"
   ]
  },
  {
   "cell_type": "code",
   "execution_count": 43,
   "id": "b3ab1035",
   "metadata": {},
   "outputs": [],
   "source": [
    "from tensorflow.keras.models import Sequential\n",
    "from tensorflow.keras.layers import Dense, Activation\n",
    "import tensorflow.keras as keras"
   ]
  },
  {
   "cell_type": "code",
   "execution_count": 44,
   "id": "f0b63a91",
   "metadata": {},
   "outputs": [],
   "source": [
    "model = Sequential()\n",
    "model.add(Dense(64, activation='relu', input_dim = 4))\n",
    "model.add(Dense(16, activation='relu'))\n",
    "model.add(Dense(3, activation='softmax'))"
   ]
  },
  {
   "cell_type": "code",
   "execution_count": 45,
   "id": "ff307198",
   "metadata": {},
   "outputs": [
    {
     "name": "stderr",
     "output_type": "stream",
     "text": [
      "/opt/anaconda3/lib/python3.8/site-packages/keras/optimizer_v2/gradient_descent.py:102: UserWarning: The `lr` argument is deprecated, use `learning_rate` instead.\n",
      "  super(SGD, self).__init__(name, **kwargs)\n"
     ]
    },
    {
     "name": "stdout",
     "output_type": "stream",
     "text": [
      "Epoch 1/200\n",
      "4/4 [==============================] - 0s 2ms/step - loss: 1.1000 - accuracy: 0.3661\n",
      "Epoch 2/200\n",
      "4/4 [==============================] - 0s 3ms/step - loss: 0.9823 - accuracy: 0.3661\n",
      "Epoch 3/200\n",
      "4/4 [==============================] - 0s 2ms/step - loss: 0.8861 - accuracy: 0.4286\n",
      "Epoch 4/200\n",
      "4/4 [==============================] - 0s 3ms/step - loss: 0.8143 - accuracy: 0.6964\n",
      "Epoch 5/200\n",
      "4/4 [==============================] - 0s 3ms/step - loss: 0.7674 - accuracy: 0.6964\n",
      "Epoch 6/200\n",
      "4/4 [==============================] - 0s 2ms/step - loss: 0.7375 - accuracy: 0.6964\n",
      "Epoch 7/200\n",
      "4/4 [==============================] - 0s 2ms/step - loss: 0.7155 - accuracy: 0.6964\n",
      "Epoch 8/200\n",
      "4/4 [==============================] - 0s 3ms/step - loss: 0.6987 - accuracy: 0.6964\n",
      "Epoch 9/200\n",
      "4/4 [==============================] - 0s 3ms/step - loss: 0.6786 - accuracy: 0.6964\n",
      "Epoch 10/200\n",
      "4/4 [==============================] - 0s 4ms/step - loss: 0.6638 - accuracy: 0.6964\n",
      "Epoch 11/200\n",
      "4/4 [==============================] - 0s 3ms/step - loss: 0.6504 - accuracy: 0.6964\n",
      "Epoch 12/200\n",
      "4/4 [==============================] - 0s 4ms/step - loss: 0.6388 - accuracy: 0.6964\n",
      "Epoch 13/200\n",
      "4/4 [==============================] - 0s 2ms/step - loss: 0.6243 - accuracy: 0.6964\n",
      "Epoch 14/200\n",
      "4/4 [==============================] - 0s 3ms/step - loss: 0.6148 - accuracy: 0.6964\n",
      "Epoch 15/200\n",
      "4/4 [==============================] - 0s 3ms/step - loss: 0.6040 - accuracy: 0.6964\n",
      "Epoch 16/200\n",
      "4/4 [==============================] - 0s 3ms/step - loss: 0.5938 - accuracy: 0.6964\n",
      "Epoch 17/200\n",
      "4/4 [==============================] - 0s 3ms/step - loss: 0.5852 - accuracy: 0.6964\n",
      "Epoch 18/200\n",
      "4/4 [==============================] - 0s 3ms/step - loss: 0.5758 - accuracy: 0.6964\n",
      "Epoch 19/200\n",
      "4/4 [==============================] - 0s 3ms/step - loss: 0.5695 - accuracy: 0.6964\n",
      "Epoch 20/200\n",
      "4/4 [==============================] - 0s 3ms/step - loss: 0.5594 - accuracy: 0.6964\n",
      "Epoch 21/200\n",
      "4/4 [==============================] - 0s 3ms/step - loss: 0.5531 - accuracy: 0.6964\n",
      "Epoch 22/200\n",
      "4/4 [==============================] - 0s 3ms/step - loss: 0.5461 - accuracy: 0.6964\n",
      "Epoch 23/200\n",
      "4/4 [==============================] - 0s 2ms/step - loss: 0.5393 - accuracy: 0.6964\n",
      "Epoch 24/200\n",
      "4/4 [==============================] - 0s 2ms/step - loss: 0.5326 - accuracy: 0.6964\n",
      "Epoch 25/200\n",
      "4/4 [==============================] - 0s 3ms/step - loss: 0.5262 - accuracy: 0.6964\n",
      "Epoch 26/200\n",
      "4/4 [==============================] - 0s 3ms/step - loss: 0.5218 - accuracy: 0.6964\n",
      "Epoch 27/200\n",
      "4/4 [==============================] - 0s 3ms/step - loss: 0.5163 - accuracy: 0.6964\n",
      "Epoch 28/200\n",
      "4/4 [==============================] - 0s 2ms/step - loss: 0.5115 - accuracy: 0.6964\n",
      "Epoch 29/200\n",
      "4/4 [==============================] - 0s 2ms/step - loss: 0.5058 - accuracy: 0.6964\n",
      "Epoch 30/200\n",
      "4/4 [==============================] - 0s 7ms/step - loss: 0.5015 - accuracy: 0.6964\n",
      "Epoch 31/200\n",
      "4/4 [==============================] - 0s 3ms/step - loss: 0.4967 - accuracy: 0.6964\n",
      "Epoch 32/200\n",
      "4/4 [==============================] - 0s 3ms/step - loss: 0.4919 - accuracy: 0.6964\n",
      "Epoch 33/200\n",
      "4/4 [==============================] - 0s 4ms/step - loss: 0.4886 - accuracy: 0.6964\n",
      "Epoch 34/200\n",
      "4/4 [==============================] - 0s 5ms/step - loss: 0.4839 - accuracy: 0.6964\n",
      "Epoch 35/200\n",
      "4/4 [==============================] - 0s 3ms/step - loss: 0.4800 - accuracy: 0.6964\n",
      "Epoch 36/200\n",
      "4/4 [==============================] - 0s 4ms/step - loss: 0.4767 - accuracy: 0.6964\n",
      "Epoch 37/200\n",
      "4/4 [==============================] - 0s 2ms/step - loss: 0.4731 - accuracy: 0.6964\n",
      "Epoch 38/200\n",
      "4/4 [==============================] - 0s 3ms/step - loss: 0.4693 - accuracy: 0.6964\n",
      "Epoch 39/200\n",
      "4/4 [==============================] - 0s 3ms/step - loss: 0.4657 - accuracy: 0.7054\n",
      "Epoch 40/200\n",
      "4/4 [==============================] - 0s 3ms/step - loss: 0.4647 - accuracy: 0.6964\n",
      "Epoch 41/200\n",
      "4/4 [==============================] - 0s 3ms/step - loss: 0.4584 - accuracy: 0.7054\n",
      "Epoch 42/200\n",
      "4/4 [==============================] - 0s 3ms/step - loss: 0.4551 - accuracy: 0.7054\n",
      "Epoch 43/200\n",
      "4/4 [==============================] - 0s 2ms/step - loss: 0.4520 - accuracy: 0.7054\n",
      "Epoch 44/200\n",
      "4/4 [==============================] - 0s 3ms/step - loss: 0.4495 - accuracy: 0.7054\n",
      "Epoch 45/200\n",
      "4/4 [==============================] - 0s 3ms/step - loss: 0.4448 - accuracy: 0.7321\n",
      "Epoch 46/200\n",
      "4/4 [==============================] - 0s 3ms/step - loss: 0.4416 - accuracy: 0.7232\n",
      "Epoch 47/200\n",
      "4/4 [==============================] - 0s 5ms/step - loss: 0.4391 - accuracy: 0.7768\n",
      "Epoch 48/200\n",
      "4/4 [==============================] - 0s 4ms/step - loss: 0.4322 - accuracy: 0.7321\n",
      "Epoch 49/200\n",
      "4/4 [==============================] - 0s 3ms/step - loss: 0.4315 - accuracy: 0.7232\n",
      "Epoch 50/200\n",
      "4/4 [==============================] - 0s 3ms/step - loss: 0.4245 - accuracy: 0.8929\n",
      "Epoch 51/200\n",
      "4/4 [==============================] - 0s 3ms/step - loss: 0.4226 - accuracy: 0.7321\n",
      "Epoch 52/200\n",
      "4/4 [==============================] - 0s 4ms/step - loss: 0.4155 - accuracy: 0.8304\n",
      "Epoch 53/200\n",
      "4/4 [==============================] - 0s 2ms/step - loss: 0.4135 - accuracy: 0.8036\n",
      "Epoch 54/200\n",
      "4/4 [==============================] - 0s 2ms/step - loss: 0.4119 - accuracy: 0.7857\n",
      "Epoch 55/200\n",
      "4/4 [==============================] - 0s 2ms/step - loss: 0.4118 - accuracy: 0.7232\n",
      "Epoch 56/200\n",
      "4/4 [==============================] - 0s 2ms/step - loss: 0.4093 - accuracy: 0.8393\n",
      "Epoch 57/200\n",
      "4/4 [==============================] - 0s 2ms/step - loss: 0.4011 - accuracy: 0.8304\n",
      "Epoch 58/200\n",
      "4/4 [==============================] - 0s 2ms/step - loss: 0.3975 - accuracy: 0.7857\n",
      "Epoch 59/200\n",
      "4/4 [==============================] - 0s 2ms/step - loss: 0.3910 - accuracy: 0.7946\n",
      "Epoch 60/200\n",
      "4/4 [==============================] - 0s 2ms/step - loss: 0.3950 - accuracy: 0.8571\n",
      "Epoch 61/200\n",
      "4/4 [==============================] - 0s 2ms/step - loss: 0.3951 - accuracy: 0.8482\n",
      "Epoch 62/200\n",
      "4/4 [==============================] - 0s 2ms/step - loss: 0.3838 - accuracy: 0.8214\n",
      "Epoch 63/200\n",
      "4/4 [==============================] - 0s 2ms/step - loss: 0.3830 - accuracy: 0.8839\n",
      "Epoch 64/200\n",
      "4/4 [==============================] - 0s 3ms/step - loss: 0.3769 - accuracy: 0.8661\n",
      "Epoch 65/200\n",
      "4/4 [==============================] - 0s 2ms/step - loss: 0.3776 - accuracy: 0.8929\n",
      "Epoch 66/200\n",
      "4/4 [==============================] - 0s 2ms/step - loss: 0.3685 - accuracy: 0.8929\n",
      "Epoch 67/200\n",
      "4/4 [==============================] - 0s 3ms/step - loss: 0.3678 - accuracy: 0.8750\n",
      "Epoch 68/200\n",
      "4/4 [==============================] - 0s 2ms/step - loss: 0.3643 - accuracy: 0.8929\n",
      "Epoch 69/200\n",
      "4/4 [==============================] - 0s 3ms/step - loss: 0.3669 - accuracy: 0.8571\n",
      "Epoch 70/200\n",
      "4/4 [==============================] - 0s 2ms/step - loss: 0.3679 - accuracy: 0.9107\n",
      "Epoch 71/200\n",
      "4/4 [==============================] - 0s 3ms/step - loss: 0.3536 - accuracy: 0.9286\n",
      "Epoch 72/200\n",
      "4/4 [==============================] - 0s 3ms/step - loss: 0.3554 - accuracy: 0.9196\n",
      "Epoch 73/200\n",
      "4/4 [==============================] - 0s 3ms/step - loss: 0.3605 - accuracy: 0.8750\n",
      "Epoch 74/200\n",
      "4/4 [==============================] - 0s 2ms/step - loss: 0.3456 - accuracy: 0.9464\n",
      "Epoch 75/200\n",
      "4/4 [==============================] - 0s 4ms/step - loss: 0.3437 - accuracy: 0.8750\n",
      "Epoch 76/200\n",
      "4/4 [==============================] - 0s 3ms/step - loss: 0.3439 - accuracy: 0.9196\n",
      "Epoch 77/200\n",
      "4/4 [==============================] - 0s 3ms/step - loss: 0.3351 - accuracy: 0.9018\n",
      "Epoch 78/200\n",
      "4/4 [==============================] - 0s 3ms/step - loss: 0.3347 - accuracy: 0.9375\n",
      "Epoch 79/200\n",
      "4/4 [==============================] - 0s 3ms/step - loss: 0.3372 - accuracy: 0.8661\n",
      "Epoch 80/200\n",
      "4/4 [==============================] - 0s 3ms/step - loss: 0.3379 - accuracy: 0.9196\n",
      "Epoch 81/200\n",
      "4/4 [==============================] - 0s 3ms/step - loss: 0.3345 - accuracy: 0.9196\n",
      "Epoch 82/200\n",
      "4/4 [==============================] - 0s 5ms/step - loss: 0.3254 - accuracy: 0.9196\n",
      "Epoch 83/200\n",
      "4/4 [==============================] - 0s 8ms/step - loss: 0.3252 - accuracy: 0.9554\n",
      "Epoch 84/200\n"
     ]
    },
    {
     "name": "stdout",
     "output_type": "stream",
     "text": [
      "4/4 [==============================] - 0s 32ms/step - loss: 0.3151 - accuracy: 0.9375\n",
      "Epoch 85/200\n",
      "4/4 [==============================] - 0s 9ms/step - loss: 0.3150 - accuracy: 0.9554\n",
      "Epoch 86/200\n",
      "4/4 [==============================] - ETA: 0s - loss: 0.2791 - accuracy: 0.93 - 0s 9ms/step - loss: 0.3126 - accuracy: 0.9196\n",
      "Epoch 87/200\n",
      "4/4 [==============================] - 0s 7ms/step - loss: 0.3106 - accuracy: 0.9375\n",
      "Epoch 88/200\n",
      "4/4 [==============================] - 0s 4ms/step - loss: 0.3068 - accuracy: 0.9286\n",
      "Epoch 89/200\n",
      "4/4 [==============================] - 0s 3ms/step - loss: 0.3041 - accuracy: 0.9643\n",
      "Epoch 90/200\n",
      "4/4 [==============================] - 0s 5ms/step - loss: 0.2988 - accuracy: 0.9375\n",
      "Epoch 91/200\n",
      "4/4 [==============================] - 0s 3ms/step - loss: 0.2952 - accuracy: 0.9643\n",
      "Epoch 92/200\n",
      "4/4 [==============================] - 0s 2ms/step - loss: 0.2930 - accuracy: 0.9464\n",
      "Epoch 93/200\n",
      "4/4 [==============================] - 0s 3ms/step - loss: 0.2982 - accuracy: 0.9375\n",
      "Epoch 94/200\n",
      "4/4 [==============================] - 0s 3ms/step - loss: 0.3030 - accuracy: 0.9375\n",
      "Epoch 95/200\n",
      "4/4 [==============================] - 0s 3ms/step - loss: 0.2894 - accuracy: 0.9732\n",
      "Epoch 96/200\n",
      "4/4 [==============================] - 0s 2ms/step - loss: 0.2893 - accuracy: 0.9554\n",
      "Epoch 97/200\n",
      "4/4 [==============================] - 0s 2ms/step - loss: 0.2803 - accuracy: 0.9375\n",
      "Epoch 98/200\n",
      "4/4 [==============================] - 0s 3ms/step - loss: 0.2829 - accuracy: 0.9554\n",
      "Epoch 99/200\n",
      "4/4 [==============================] - 0s 2ms/step - loss: 0.2738 - accuracy: 0.9554\n",
      "Epoch 100/200\n",
      "4/4 [==============================] - 0s 2ms/step - loss: 0.2720 - accuracy: 0.9643\n",
      "Epoch 101/200\n",
      "4/4 [==============================] - 0s 3ms/step - loss: 0.2695 - accuracy: 0.9554\n",
      "Epoch 102/200\n",
      "4/4 [==============================] - 0s 3ms/step - loss: 0.2664 - accuracy: 0.9643\n",
      "Epoch 103/200\n",
      "4/4 [==============================] - 0s 2ms/step - loss: 0.2643 - accuracy: 0.9643\n",
      "Epoch 104/200\n",
      "4/4 [==============================] - 0s 3ms/step - loss: 0.2636 - accuracy: 0.9643\n",
      "Epoch 105/200\n",
      "4/4 [==============================] - 0s 3ms/step - loss: 0.2634 - accuracy: 0.9643\n",
      "Epoch 106/200\n",
      "4/4 [==============================] - 0s 2ms/step - loss: 0.2563 - accuracy: 0.9554\n",
      "Epoch 107/200\n",
      "4/4 [==============================] - 0s 2ms/step - loss: 0.2636 - accuracy: 0.9375\n",
      "Epoch 108/200\n",
      "4/4 [==============================] - 0s 2ms/step - loss: 0.2509 - accuracy: 0.9375\n",
      "Epoch 109/200\n",
      "4/4 [==============================] - 0s 2ms/step - loss: 0.2513 - accuracy: 0.9643\n",
      "Epoch 110/200\n",
      "4/4 [==============================] - 0s 2ms/step - loss: 0.2559 - accuracy: 0.9643\n",
      "Epoch 111/200\n",
      "4/4 [==============================] - 0s 5ms/step - loss: 0.2466 - accuracy: 0.9554\n",
      "Epoch 112/200\n",
      "4/4 [==============================] - 0s 3ms/step - loss: 0.2451 - accuracy: 0.9464\n",
      "Epoch 113/200\n",
      "4/4 [==============================] - 0s 3ms/step - loss: 0.2389 - accuracy: 0.9732\n",
      "Epoch 114/200\n",
      "4/4 [==============================] - 0s 3ms/step - loss: 0.2371 - accuracy: 0.9554\n",
      "Epoch 115/200\n",
      "4/4 [==============================] - 0s 3ms/step - loss: 0.2424 - accuracy: 0.9911\n",
      "Epoch 116/200\n",
      "4/4 [==============================] - 0s 2ms/step - loss: 0.2355 - accuracy: 0.9732\n",
      "Epoch 117/200\n",
      "4/4 [==============================] - 0s 3ms/step - loss: 0.2556 - accuracy: 0.9554\n",
      "Epoch 118/200\n",
      "4/4 [==============================] - 0s 2ms/step - loss: 0.2341 - accuracy: 0.9286\n",
      "Epoch 119/200\n",
      "4/4 [==============================] - 0s 2ms/step - loss: 0.2266 - accuracy: 0.9732\n",
      "Epoch 120/200\n",
      "4/4 [==============================] - 0s 2ms/step - loss: 0.2291 - accuracy: 0.9821\n",
      "Epoch 121/200\n",
      "4/4 [==============================] - 0s 2ms/step - loss: 0.2268 - accuracy: 0.9732\n",
      "Epoch 122/200\n",
      "4/4 [==============================] - 0s 2ms/step - loss: 0.2196 - accuracy: 0.9643\n",
      "Epoch 123/200\n",
      "4/4 [==============================] - 0s 2ms/step - loss: 0.2180 - accuracy: 0.9732\n",
      "Epoch 124/200\n",
      "4/4 [==============================] - 0s 2ms/step - loss: 0.2215 - accuracy: 0.9643\n",
      "Epoch 125/200\n",
      "4/4 [==============================] - 0s 3ms/step - loss: 0.2289 - accuracy: 0.9554\n",
      "Epoch 126/200\n",
      "4/4 [==============================] - 0s 2ms/step - loss: 0.2105 - accuracy: 0.9821\n",
      "Epoch 127/200\n",
      "4/4 [==============================] - 0s 3ms/step - loss: 0.2093 - accuracy: 0.9643\n",
      "Epoch 128/200\n",
      "4/4 [==============================] - 0s 2ms/step - loss: 0.2120 - accuracy: 0.9554\n",
      "Epoch 129/200\n",
      "4/4 [==============================] - 0s 3ms/step - loss: 0.2061 - accuracy: 0.9643\n",
      "Epoch 130/200\n",
      "4/4 [==============================] - 0s 3ms/step - loss: 0.2039 - accuracy: 0.9732\n",
      "Epoch 131/200\n",
      "4/4 [==============================] - 0s 3ms/step - loss: 0.2042 - accuracy: 0.9732\n",
      "Epoch 132/200\n",
      "4/4 [==============================] - 0s 3ms/step - loss: 0.2020 - accuracy: 0.9643\n",
      "Epoch 133/200\n",
      "4/4 [==============================] - 0s 2ms/step - loss: 0.2025 - accuracy: 0.9643\n",
      "Epoch 134/200\n",
      "4/4 [==============================] - 0s 2ms/step - loss: 0.1952 - accuracy: 0.9732\n",
      "Epoch 135/200\n",
      "4/4 [==============================] - 0s 3ms/step - loss: 0.2047 - accuracy: 0.9643\n",
      "Epoch 136/200\n",
      "4/4 [==============================] - 0s 2ms/step - loss: 0.2218 - accuracy: 0.9464\n",
      "Epoch 137/200\n",
      "4/4 [==============================] - 0s 2ms/step - loss: 0.1932 - accuracy: 0.9643\n",
      "Epoch 138/200\n",
      "4/4 [==============================] - 0s 2ms/step - loss: 0.1947 - accuracy: 0.9732\n",
      "Epoch 139/200\n",
      "4/4 [==============================] - 0s 3ms/step - loss: 0.1891 - accuracy: 0.9643\n",
      "Epoch 140/200\n",
      "4/4 [==============================] - 0s 2ms/step - loss: 0.1955 - accuracy: 0.9464\n",
      "Epoch 141/200\n",
      "4/4 [==============================] - 0s 2ms/step - loss: 0.1834 - accuracy: 0.9732\n",
      "Epoch 142/200\n",
      "4/4 [==============================] - 0s 2ms/step - loss: 0.1872 - accuracy: 0.9643\n",
      "Epoch 143/200\n",
      "4/4 [==============================] - 0s 2ms/step - loss: 0.1902 - accuracy: 0.9554\n",
      "Epoch 144/200\n",
      "4/4 [==============================] - 0s 2ms/step - loss: 0.1808 - accuracy: 0.9732\n",
      "Epoch 145/200\n",
      "4/4 [==============================] - 0s 4ms/step - loss: 0.1795 - accuracy: 0.9643\n",
      "Epoch 146/200\n",
      "4/4 [==============================] - 0s 2ms/step - loss: 0.1785 - accuracy: 0.9464\n",
      "Epoch 147/200\n",
      "4/4 [==============================] - 0s 2ms/step - loss: 0.1741 - accuracy: 0.9732\n",
      "Epoch 148/200\n",
      "4/4 [==============================] - 0s 3ms/step - loss: 0.1744 - accuracy: 0.9732\n",
      "Epoch 149/200\n",
      "4/4 [==============================] - 0s 3ms/step - loss: 0.1744 - accuracy: 0.9732\n",
      "Epoch 150/200\n",
      "4/4 [==============================] - 0s 2ms/step - loss: 0.1783 - accuracy: 0.9643\n",
      "Epoch 151/200\n",
      "4/4 [==============================] - 0s 2ms/step - loss: 0.1759 - accuracy: 0.9821\n",
      "Epoch 152/200\n",
      "4/4 [==============================] - 0s 2ms/step - loss: 0.1816 - accuracy: 0.9643\n",
      "Epoch 153/200\n",
      "4/4 [==============================] - 0s 3ms/step - loss: 0.1678 - accuracy: 0.9732\n",
      "Epoch 154/200\n",
      "4/4 [==============================] - 0s 3ms/step - loss: 0.1692 - accuracy: 0.9732\n",
      "Epoch 155/200\n",
      "4/4 [==============================] - 0s 4ms/step - loss: 0.1632 - accuracy: 0.9732\n",
      "Epoch 156/200\n",
      "4/4 [==============================] - 0s 3ms/step - loss: 0.1698 - accuracy: 0.9821\n",
      "Epoch 157/200\n",
      "4/4 [==============================] - 0s 2ms/step - loss: 0.1621 - accuracy: 0.9732\n",
      "Epoch 158/200\n",
      "4/4 [==============================] - 0s 4ms/step - loss: 0.1590 - accuracy: 0.9732\n",
      "Epoch 159/200\n",
      "4/4 [==============================] - 0s 3ms/step - loss: 0.1734 - accuracy: 0.9554\n",
      "Epoch 160/200\n",
      "4/4 [==============================] - 0s 2ms/step - loss: 0.1553 - accuracy: 0.9732\n",
      "Epoch 161/200\n",
      "4/4 [==============================] - 0s 2ms/step - loss: 0.1608 - accuracy: 0.9732\n",
      "Epoch 162/200\n",
      "4/4 [==============================] - 0s 2ms/step - loss: 0.1528 - accuracy: 0.9732\n",
      "Epoch 163/200\n",
      "4/4 [==============================] - 0s 2ms/step - loss: 0.1512 - accuracy: 0.9821\n",
      "Epoch 164/200\n",
      "4/4 [==============================] - 0s 3ms/step - loss: 0.1569 - accuracy: 0.9643\n",
      "Epoch 165/200\n",
      "4/4 [==============================] - 0s 2ms/step - loss: 0.1522 - accuracy: 0.9821\n",
      "Epoch 166/200\n"
     ]
    },
    {
     "name": "stdout",
     "output_type": "stream",
     "text": [
      "4/4 [==============================] - 0s 2ms/step - loss: 0.1599 - accuracy: 0.9732\n",
      "Epoch 167/200\n",
      "4/4 [==============================] - 0s 3ms/step - loss: 0.1462 - accuracy: 0.9732\n",
      "Epoch 168/200\n",
      "4/4 [==============================] - 0s 2ms/step - loss: 0.1514 - accuracy: 0.9732\n",
      "Epoch 169/200\n",
      "4/4 [==============================] - 0s 2ms/step - loss: 0.1485 - accuracy: 0.9732\n",
      "Epoch 170/200\n",
      "4/4 [==============================] - 0s 2ms/step - loss: 0.1459 - accuracy: 0.9821\n",
      "Epoch 171/200\n",
      "4/4 [==============================] - 0s 2ms/step - loss: 0.1477 - accuracy: 0.9821\n",
      "Epoch 172/200\n",
      "4/4 [==============================] - 0s 3ms/step - loss: 0.1454 - accuracy: 0.9732\n",
      "Epoch 173/200\n",
      "4/4 [==============================] - 0s 2ms/step - loss: 0.1455 - accuracy: 0.9643\n",
      "Epoch 174/200\n",
      "4/4 [==============================] - 0s 2ms/step - loss: 0.1404 - accuracy: 0.9732\n",
      "Epoch 175/200\n",
      "4/4 [==============================] - 0s 3ms/step - loss: 0.1426 - accuracy: 0.9643\n",
      "Epoch 176/200\n",
      "4/4 [==============================] - 0s 2ms/step - loss: 0.1373 - accuracy: 0.9732\n",
      "Epoch 177/200\n",
      "4/4 [==============================] - 0s 3ms/step - loss: 0.1517 - accuracy: 0.9643\n",
      "Epoch 178/200\n",
      "4/4 [==============================] - 0s 2ms/step - loss: 0.1405 - accuracy: 0.9643\n",
      "Epoch 179/200\n",
      "4/4 [==============================] - 0s 2ms/step - loss: 0.1369 - accuracy: 0.9732\n",
      "Epoch 180/200\n",
      "4/4 [==============================] - 0s 2ms/step - loss: 0.1436 - accuracy: 0.9821\n",
      "Epoch 181/200\n",
      "4/4 [==============================] - 0s 2ms/step - loss: 0.1472 - accuracy: 0.9554\n",
      "Epoch 182/200\n",
      "4/4 [==============================] - 0s 2ms/step - loss: 0.1438 - accuracy: 0.9732\n",
      "Epoch 183/200\n",
      "4/4 [==============================] - 0s 2ms/step - loss: 0.1310 - accuracy: 0.9821\n",
      "Epoch 184/200\n",
      "4/4 [==============================] - 0s 2ms/step - loss: 0.1311 - accuracy: 0.9732\n",
      "Epoch 185/200\n",
      "4/4 [==============================] - 0s 2ms/step - loss: 0.1287 - accuracy: 0.9732\n",
      "Epoch 186/200\n",
      "4/4 [==============================] - 0s 2ms/step - loss: 0.1342 - accuracy: 0.9732\n",
      "Epoch 187/200\n",
      "4/4 [==============================] - 0s 2ms/step - loss: 0.1363 - accuracy: 0.9554\n",
      "Epoch 188/200\n",
      "4/4 [==============================] - 0s 2ms/step - loss: 0.1438 - accuracy: 0.9732\n",
      "Epoch 189/200\n",
      "4/4 [==============================] - 0s 2ms/step - loss: 0.1365 - accuracy: 0.9821\n",
      "Epoch 190/200\n",
      "4/4 [==============================] - 0s 2ms/step - loss: 0.1263 - accuracy: 0.9732\n",
      "Epoch 191/200\n",
      "4/4 [==============================] - 0s 2ms/step - loss: 0.1253 - accuracy: 0.9821\n",
      "Epoch 192/200\n",
      "4/4 [==============================] - 0s 3ms/step - loss: 0.1422 - accuracy: 0.9732\n",
      "Epoch 193/200\n",
      "4/4 [==============================] - 0s 2ms/step - loss: 0.1250 - accuracy: 0.9732\n",
      "Epoch 194/200\n",
      "4/4 [==============================] - 0s 2ms/step - loss: 0.1211 - accuracy: 0.9732\n",
      "Epoch 195/200\n",
      "4/4 [==============================] - 0s 2ms/step - loss: 0.1208 - accuracy: 0.9821\n",
      "Epoch 196/200\n",
      "4/4 [==============================] - 0s 3ms/step - loss: 0.1277 - accuracy: 0.9732\n",
      "Epoch 197/200\n",
      "4/4 [==============================] - 0s 3ms/step - loss: 0.1200 - accuracy: 0.9821\n",
      "Epoch 198/200\n",
      "4/4 [==============================] - 0s 2ms/step - loss: 0.1307 - accuracy: 0.9643\n",
      "Epoch 199/200\n",
      "4/4 [==============================] - 0s 4ms/step - loss: 0.1197 - accuracy: 0.9732\n",
      "Epoch 200/200\n",
      "4/4 [==============================] - 0s 2ms/step - loss: 0.1178 - accuracy: 0.9821\n",
      "2/2 [==============================] - 0s 3ms/step - loss: 0.1956 - accuracy: 0.9474\n",
      "[0.19559599459171295, 0.9473684430122375]\n"
     ]
    }
   ],
   "source": [
    "from tensorflow.keras.optimizers import SGD\n",
    "\n",
    "sgd = SGD(lr=0.01)\n",
    "\n",
    "model.compile(loss='categorical_crossentropy', optimizer=sgd, metrics=['accuracy'])\n",
    "\n",
    "model.fit(X_train, y_train, epochs=200, batch_size=32)\n",
    "score = model.evaluate(X_test, y_test, batch_size=32) # extract loss and accuracy from test data evaluation\n",
    "print(score)"
   ]
  },
  {
   "cell_type": "code",
   "execution_count": 46,
   "id": "327a882c",
   "metadata": {},
   "outputs": [
    {
     "name": "stdout",
     "output_type": "stream",
     "text": [
      "2/2 [==============================] - 0s 3ms/step - loss: 0.1956 - accuracy: 0.9474\n"
     ]
    }
   ],
   "source": [
    "score = model.evaluate(X_test, y_test, batch_size = 32)"
   ]
  },
  {
   "cell_type": "code",
   "execution_count": 47,
   "id": "0be553cb",
   "metadata": {},
   "outputs": [
    {
     "name": "stdout",
     "output_type": "stream",
     "text": [
      "The model gives a loss of 0.19559599459171295 and test set accuracy score 0.9473684430122375\n"
     ]
    }
   ],
   "source": [
    "print(\"The model gives a loss of\", score[0], \"and test set accuracy score\", score[1])"
   ]
  },
  {
   "cell_type": "code",
   "execution_count": 48,
   "id": "163e93f4",
   "metadata": {},
   "outputs": [
    {
     "name": "stdout",
     "output_type": "stream",
     "text": [
      "[[2.11190650e-06 1.94937438e-02 9.80504155e-01]\n",
      " [9.06884018e-03 9.19021249e-01 7.19099566e-02]\n",
      " [9.93955910e-01 6.04404043e-03 1.04344281e-07]\n",
      " [1.33307606e-06 3.45640779e-02 9.65434611e-01]\n",
      " [9.87723470e-01 1.22756641e-02 8.40709220e-07]\n",
      " [1.18259862e-07 6.07643882e-03 9.93923485e-01]\n",
      " [9.89172816e-01 1.08266203e-02 6.40318547e-07]\n",
      " [2.52096402e-03 9.02636170e-01 9.48428288e-02]\n",
      " [1.84463395e-03 8.49526763e-01 1.48628578e-01]\n",
      " [1.10821370e-02 9.50653553e-01 3.82643342e-02]\n",
      " [4.36358641e-06 3.91096994e-02 9.60885882e-01]\n",
      " [3.56104528e-03 9.20518935e-01 7.59200752e-02]\n",
      " [1.36181701e-03 7.23803818e-01 2.74834424e-01]\n",
      " [2.04541208e-03 8.22797477e-01 1.75157189e-01]\n",
      " [1.04714721e-03 6.67425573e-01 3.31527293e-01]\n",
      " [9.88545477e-01 1.14538465e-02 7.04931551e-07]\n",
      " [1.56911113e-03 7.22871661e-01 2.75559217e-01]\n",
      " [1.19764986e-03 5.67803979e-01 4.30998355e-01]\n",
      " [9.84032571e-01 1.59654636e-02 1.93663550e-06]\n",
      " [9.92866039e-01 7.13367946e-03 1.83983232e-07]\n",
      " [1.41562505e-05 5.69559336e-02 9.43029940e-01]\n",
      " [8.90405092e-04 5.60798407e-01 4.38311219e-01]\n",
      " [9.72580194e-01 2.74152625e-02 4.46803097e-06]\n",
      " [9.78006124e-01 2.19888892e-02 4.97370593e-06]\n",
      " [2.68274336e-04 3.58024299e-01 6.41707420e-01]\n",
      " [9.87945318e-01 1.20538026e-02 9.51248069e-07]\n",
      " [9.83003855e-01 1.69948433e-02 1.33535843e-06]\n",
      " [5.36833424e-03 9.27674711e-01 6.69569895e-02]\n",
      " [2.77284738e-02 9.20261204e-01 5.20103313e-02]\n",
      " [9.85922933e-01 1.40758799e-02 1.17553259e-06]\n",
      " [1.84645396e-05 1.11922830e-01 8.88058722e-01]\n",
      " [5.74886566e-04 4.45483834e-01 5.53941250e-01]\n",
      " [9.89845157e-01 1.01543572e-02 4.78947698e-07]\n",
      " [1.87358630e-04 3.15912127e-01 6.83900535e-01]\n",
      " [1.13803844e-06 1.81273744e-02 9.81871486e-01]\n",
      " [3.88979004e-03 7.55445421e-01 2.40664810e-01]\n",
      " [9.92882013e-01 7.11786840e-03 1.53926024e-07]\n",
      " [4.38592942e-05 1.33248925e-01 8.66707265e-01]]\n",
      "[2 1 0 2 0 2 0 1 1 1 2 1 1 1 1 0 1 1 0 0 2 1 0 0 2 0 0 1 1 0 2 2 0 2 2 1 0\n",
      " 2]\n"
     ]
    }
   ],
   "source": [
    "ypreds = model.predict(X_test)\n",
    "print(ypreds) #gives prediction of each category, largest is selected for predict_classes()\n",
    "ypreds_classindex = np.argmax(model.predict(X_test), axis=-1)\n",
    "print(ypreds_classindex) \n"
   ]
  },
  {
   "cell_type": "code",
   "execution_count": 49,
   "id": "dd67badc",
   "metadata": {},
   "outputs": [],
   "source": [
    "#Getting predictions:\n",
    "labels = [\"setosa\", \"versicolor\", \"virginica\"]\n",
    "y_pred = []\n",
    "for object in ypreds_classindex:\n",
    "    y_pred.append((labels[object]))"
   ]
  },
  {
   "cell_type": "code",
   "execution_count": 50,
   "id": "d16e9f61",
   "metadata": {},
   "outputs": [
    {
     "data": {
      "text/plain": [
       "['virginica',\n",
       " 'versicolor',\n",
       " 'setosa',\n",
       " 'virginica',\n",
       " 'setosa',\n",
       " 'virginica',\n",
       " 'setosa',\n",
       " 'versicolor',\n",
       " 'versicolor',\n",
       " 'versicolor',\n",
       " 'virginica',\n",
       " 'versicolor',\n",
       " 'versicolor',\n",
       " 'versicolor',\n",
       " 'versicolor',\n",
       " 'setosa',\n",
       " 'versicolor',\n",
       " 'versicolor',\n",
       " 'setosa',\n",
       " 'setosa',\n",
       " 'virginica',\n",
       " 'versicolor',\n",
       " 'setosa',\n",
       " 'setosa',\n",
       " 'virginica',\n",
       " 'setosa',\n",
       " 'setosa',\n",
       " 'versicolor',\n",
       " 'versicolor',\n",
       " 'setosa',\n",
       " 'virginica',\n",
       " 'virginica',\n",
       " 'setosa',\n",
       " 'virginica',\n",
       " 'virginica',\n",
       " 'versicolor',\n",
       " 'setosa',\n",
       " 'virginica']"
      ]
     },
     "execution_count": 50,
     "metadata": {},
     "output_type": "execute_result"
    }
   ],
   "source": [
    "#Prediction values\n",
    "y_pred"
   ]
  },
  {
   "cell_type": "code",
   "execution_count": 51,
   "id": "6b1c03c0",
   "metadata": {},
   "outputs": [],
   "source": [
    "from tensorflow.keras.wrappers.scikit_learn import KerasClassifier\n",
    "from sklearn.model_selection import GridSearchCV\n",
    "def create_model(hiddennodes=1, learn_rate=0.01):\n",
    "\t# create model\n",
    "\tmodel = Sequential()\n",
    "\tmodel.add(Dense(hiddennodes, input_dim=4, activation='relu'))\n",
    "\tmodel.add(Dense(8, activation='relu'))\n",
    "\tmodel.add(Dense(3, activation='softmax'))\n",
    "\t# Compile model\n",
    "\toptimizer = SGD(learning_rate=learn_rate)\n",
    "\tmodel.compile(loss='categorical_crossentropy', optimizer=optimizer, metrics=['accuracy'])\n",
    "\treturn model"
   ]
  },
  {
   "cell_type": "code",
   "execution_count": 52,
   "id": "5bf38b9c",
   "metadata": {},
   "outputs": [
    {
     "name": "stderr",
     "output_type": "stream",
     "text": [
      "<ipython-input-52-994162572c20>:3: DeprecationWarning: KerasClassifier is deprecated, use Sci-Keras (https://github.com/adriangb/scikeras) instead.\n",
      "  model = KerasClassifier(build_fn=create_model, epochs=100, verbose=0)\n"
     ]
    }
   ],
   "source": [
    "learn_rate = [0.001, 0.01, 0.1]\n",
    "param_grid = dict(hiddennodes=[10,20,30, 40], learn_rate=learn_rate)\n",
    "model = KerasClassifier(build_fn=create_model, epochs=100, verbose=0)\n",
    "grid = GridSearchCV(estimator=model, param_grid=param_grid)\n",
    "grid_result = grid.fit(X_train, y_train)"
   ]
  },
  {
   "cell_type": "code",
   "execution_count": 53,
   "id": "aab66756",
   "metadata": {},
   "outputs": [
    {
     "name": "stdout",
     "output_type": "stream",
     "text": [
      "Best model cross validation score: 0.954545 using {'hiddennodes': 20, 'learn_rate': 0.01}\n"
     ]
    }
   ],
   "source": [
    "print(\"Best model cross validation score: %f using %s\" % (grid_result.best_score_, grid_result.best_params_))"
   ]
  },
  {
   "cell_type": "markdown",
   "id": "184e0955",
   "metadata": {},
   "source": [
    "According to GridSearchCV, the best model has nodes hiddennodes 20 and a learning rate of 0.1. This best model gives a cross validation score of 0.954545, which is very high. I use these parameters (hiddennodes': 20, 'learn_rate': 0.01) to run a new model:"
   ]
  },
  {
   "cell_type": "code",
   "execution_count": 54,
   "id": "c3ef7502",
   "metadata": {},
   "outputs": [
    {
     "name": "stdout",
     "output_type": "stream",
     "text": [
      "Epoch 1/200\n"
     ]
    },
    {
     "name": "stderr",
     "output_type": "stream",
     "text": [
      "/opt/anaconda3/lib/python3.8/site-packages/keras/optimizer_v2/gradient_descent.py:102: UserWarning: The `lr` argument is deprecated, use `learning_rate` instead.\n",
      "  super(SGD, self).__init__(name, **kwargs)\n"
     ]
    },
    {
     "name": "stdout",
     "output_type": "stream",
     "text": [
      "4/4 [==============================] - 0s 3ms/step - loss: 2.0793 - accuracy: 0.3125\n",
      "Epoch 2/200\n",
      "4/4 [==============================] - 0s 8ms/step - loss: 0.9591 - accuracy: 0.5536\n",
      "Epoch 3/200\n",
      "4/4 [==============================] - 0s 8ms/step - loss: 0.8259 - accuracy: 0.8482\n",
      "Epoch 4/200\n",
      "4/4 [==============================] - 0s 5ms/step - loss: 0.7410 - accuracy: 0.6964\n",
      "Epoch 5/200\n",
      "4/4 [==============================] - 0s 3ms/step - loss: 0.6583 - accuracy: 0.6875\n",
      "Epoch 6/200\n",
      "4/4 [==============================] - 0s 4ms/step - loss: 0.6303 - accuracy: 0.6875\n",
      "Epoch 7/200\n",
      "4/4 [==============================] - 0s 3ms/step - loss: 0.4953 - accuracy: 0.7321\n",
      "Epoch 8/200\n",
      "4/4 [==============================] - 0s 4ms/step - loss: 0.4513 - accuracy: 0.8661\n",
      "Epoch 9/200\n",
      "4/4 [==============================] - 0s 4ms/step - loss: 0.4075 - accuracy: 0.8036\n",
      "Epoch 10/200\n",
      "4/4 [==============================] - 0s 7ms/step - loss: 0.3839 - accuracy: 0.8571\n",
      "Epoch 11/200\n",
      "4/4 [==============================] - 0s 5ms/step - loss: 0.6726 - accuracy: 0.6607\n",
      "Epoch 12/200\n",
      "4/4 [==============================] - 0s 5ms/step - loss: 0.4406 - accuracy: 0.7946\n",
      "Epoch 13/200\n",
      "4/4 [==============================] - 0s 6ms/step - loss: 0.3256 - accuracy: 0.9286\n",
      "Epoch 14/200\n",
      "4/4 [==============================] - 0s 11ms/step - loss: 0.5521 - accuracy: 0.6518\n",
      "Epoch 15/200\n",
      "4/4 [==============================] - 0s 5ms/step - loss: 0.7281 - accuracy: 0.6786\n",
      "Epoch 16/200\n",
      "4/4 [==============================] - 0s 4ms/step - loss: 0.3944 - accuracy: 0.7857\n",
      "Epoch 17/200\n",
      "4/4 [==============================] - 0s 7ms/step - loss: 0.3229 - accuracy: 0.8929\n",
      "Epoch 18/200\n",
      "4/4 [==============================] - 0s 7ms/step - loss: 0.2688 - accuracy: 0.9375\n",
      "Epoch 19/200\n",
      "4/4 [==============================] - 0s 8ms/step - loss: 0.5064 - accuracy: 0.8304\n",
      "Epoch 20/200\n",
      "4/4 [==============================] - 0s 6ms/step - loss: 0.5503 - accuracy: 0.6696\n",
      "Epoch 21/200\n",
      "4/4 [==============================] - 0s 6ms/step - loss: 0.4566 - accuracy: 0.7054\n",
      "Epoch 22/200\n",
      "4/4 [==============================] - 0s 6ms/step - loss: 0.4185 - accuracy: 0.7679\n",
      "Epoch 23/200\n",
      "4/4 [==============================] - 0s 6ms/step - loss: 0.3620 - accuracy: 0.8125\n",
      "Epoch 24/200\n",
      "4/4 [==============================] - 0s 6ms/step - loss: 0.2313 - accuracy: 0.9911\n",
      "Epoch 25/200\n",
      "4/4 [==============================] - 0s 5ms/step - loss: 0.5834 - accuracy: 0.7232\n",
      "Epoch 26/200\n",
      "4/4 [==============================] - 0s 17ms/step - loss: 0.3183 - accuracy: 0.9018\n",
      "Epoch 27/200\n",
      "4/4 [==============================] - ETA: 0s - loss: 0.1611 - accuracy: 0.96 - 0s 5ms/step - loss: 0.2661 - accuracy: 0.9196\n",
      "Epoch 28/200\n",
      "4/4 [==============================] - 0s 6ms/step - loss: 0.2012 - accuracy: 0.9554\n",
      "Epoch 29/200\n",
      "4/4 [==============================] - 0s 6ms/step - loss: 0.2675 - accuracy: 0.9018\n",
      "Epoch 30/200\n",
      "4/4 [==============================] - 0s 7ms/step - loss: 0.5500 - accuracy: 0.7411\n",
      "Epoch 31/200\n",
      "4/4 [==============================] - 0s 10ms/step - loss: 0.3335 - accuracy: 0.8839\n",
      "Epoch 32/200\n",
      "4/4 [==============================] - 0s 6ms/step - loss: 0.2948 - accuracy: 0.8929\n",
      "Epoch 33/200\n",
      "4/4 [==============================] - 0s 8ms/step - loss: 0.2956 - accuracy: 0.8571\n",
      "Epoch 34/200\n",
      "4/4 [==============================] - 0s 10ms/step - loss: 0.6073 - accuracy: 0.6964\n",
      "Epoch 35/200\n",
      "4/4 [==============================] - 0s 10ms/step - loss: 0.3327 - accuracy: 0.8393\n",
      "Epoch 36/200\n",
      "4/4 [==============================] - 0s 3ms/step - loss: 0.5633 - accuracy: 0.7589\n",
      "Epoch 37/200\n",
      "4/4 [==============================] - 0s 2ms/step - loss: 0.3906 - accuracy: 0.7679\n",
      "Epoch 38/200\n",
      "4/4 [==============================] - 0s 6ms/step - loss: 0.2392 - accuracy: 0.9286\n",
      "Epoch 39/200\n",
      "4/4 [==============================] - 0s 5ms/step - loss: 0.5765 - accuracy: 0.7321\n",
      "Epoch 40/200\n",
      "4/4 [==============================] - 0s 6ms/step - loss: 0.3951 - accuracy: 0.8036\n",
      "Epoch 41/200\n",
      "4/4 [==============================] - 0s 5ms/step - loss: 0.1995 - accuracy: 0.9732\n",
      "Epoch 42/200\n",
      "4/4 [==============================] - 0s 11ms/step - loss: 0.5923 - accuracy: 0.6696\n",
      "Epoch 43/200\n",
      "4/4 [==============================] - 0s 6ms/step - loss: 0.4083 - accuracy: 0.7768\n",
      "Epoch 44/200\n",
      "4/4 [==============================] - 0s 8ms/step - loss: 0.3033 - accuracy: 0.9018\n",
      "Epoch 45/200\n",
      "4/4 [==============================] - 0s 6ms/step - loss: 0.1569 - accuracy: 0.9732\n",
      "Epoch 46/200\n",
      "4/4 [==============================] - 0s 6ms/step - loss: 0.4654 - accuracy: 0.8482\n",
      "Epoch 47/200\n",
      "4/4 [==============================] - 0s 4ms/step - loss: 0.4088 - accuracy: 0.7500\n",
      "Epoch 48/200\n",
      "4/4 [==============================] - 0s 3ms/step - loss: 0.2734 - accuracy: 0.9018\n",
      "Epoch 49/200\n",
      "4/4 [==============================] - 0s 8ms/step - loss: 0.1463 - accuracy: 0.9732\n",
      "Epoch 50/200\n",
      "4/4 [==============================] - 0s 7ms/step - loss: 0.3884 - accuracy: 0.8214\n",
      "Epoch 51/200\n",
      "4/4 [==============================] - ETA: 0s - loss: 0.2624 - accuracy: 0.87 - 0s 7ms/step - loss: 0.2057 - accuracy: 0.9464\n",
      "Epoch 52/200\n",
      "4/4 [==============================] - 0s 6ms/step - loss: 0.2223 - accuracy: 0.9196\n",
      "Epoch 53/200\n",
      "4/4 [==============================] - 0s 5ms/step - loss: 0.6195 - accuracy: 0.7679\n",
      "Epoch 54/200\n",
      "4/4 [==============================] - 0s 6ms/step - loss: 0.3773 - accuracy: 0.7946\n",
      "Epoch 55/200\n",
      "4/4 [==============================] - 0s 8ms/step - loss: 0.2662 - accuracy: 0.9018\n",
      "Epoch 56/200\n",
      "4/4 [==============================] - 0s 5ms/step - loss: 0.1361 - accuracy: 0.9732\n",
      "Epoch 57/200\n",
      "4/4 [==============================] - ETA: 0s - loss: 0.2761 - accuracy: 0.87 - 0s 7ms/step - loss: 0.3134 - accuracy: 0.8661\n",
      "Epoch 58/200\n",
      "4/4 [==============================] - 0s 5ms/step - loss: 0.1162 - accuracy: 0.9732\n",
      "Epoch 59/200\n",
      "4/4 [==============================] - 0s 6ms/step - loss: 0.1041 - accuracy: 0.9821\n",
      "Epoch 60/200\n",
      "4/4 [==============================] - 0s 3ms/step - loss: 0.1057 - accuracy: 0.9554\n",
      "Epoch 61/200\n",
      "4/4 [==============================] - 0s 6ms/step - loss: 1.6966 - accuracy: 0.5268\n",
      "Epoch 62/200\n",
      "4/4 [==============================] - 0s 12ms/step - loss: 0.3538 - accuracy: 0.8482\n",
      "Epoch 63/200\n",
      "4/4 [==============================] - 0s 6ms/step - loss: 0.3496 - accuracy: 0.8304\n",
      "Epoch 64/200\n",
      "4/4 [==============================] - 0s 8ms/step - loss: 0.3247 - accuracy: 0.8750\n",
      "Epoch 65/200\n",
      "4/4 [==============================] - 0s 6ms/step - loss: 0.3173 - accuracy: 0.8750\n",
      "Epoch 66/200\n",
      "4/4 [==============================] - 0s 7ms/step - loss: 0.2862 - accuracy: 0.9464\n",
      "Epoch 67/200\n",
      "4/4 [==============================] - 0s 5ms/step - loss: 0.2947 - accuracy: 0.9018\n",
      "Epoch 68/200\n",
      "4/4 [==============================] - 0s 6ms/step - loss: 0.2959 - accuracy: 0.8929\n",
      "Epoch 69/200\n",
      "4/4 [==============================] - 0s 2ms/step - loss: 0.3150 - accuracy: 0.8214\n",
      "Epoch 70/200\n",
      "4/4 [==============================] - 0s 5ms/step - loss: 0.2611 - accuracy: 0.9554\n",
      "Epoch 71/200\n",
      "4/4 [==============================] - 0s 2ms/step - loss: 0.2888 - accuracy: 0.8839\n",
      "Epoch 72/200\n",
      "4/4 [==============================] - 0s 8ms/step - loss: 0.2906 - accuracy: 0.8661\n",
      "Epoch 73/200\n",
      "4/4 [==============================] - 0s 8ms/step - loss: 0.3086 - accuracy: 0.8571\n",
      "Epoch 74/200\n",
      "4/4 [==============================] - 0s 11ms/step - loss: 0.2305 - accuracy: 0.9732\n",
      "Epoch 75/200\n",
      "4/4 [==============================] - 0s 5ms/step - loss: 0.2312 - accuracy: 0.9643\n",
      "Epoch 76/200\n",
      "4/4 [==============================] - 0s 8ms/step - loss: 0.2239 - accuracy: 0.9554\n",
      "Epoch 77/200\n",
      "4/4 [==============================] - 0s 4ms/step - loss: 0.2340 - accuracy: 0.9286\n",
      "Epoch 78/200\n",
      "4/4 [==============================] - 0s 6ms/step - loss: 0.1971 - accuracy: 0.9732\n",
      "Epoch 79/200\n",
      "4/4 [==============================] - 0s 4ms/step - loss: 0.2413 - accuracy: 0.9196\n",
      "Epoch 80/200\n",
      "4/4 [==============================] - 0s 2ms/step - loss: 0.4819 - accuracy: 0.7143\n",
      "Epoch 81/200\n",
      "4/4 [==============================] - 0s 6ms/step - loss: 0.2487 - accuracy: 0.9107\n",
      "Epoch 82/200\n",
      "4/4 [==============================] - 0s 4ms/step - loss: 0.2327 - accuracy: 0.8929\n",
      "Epoch 83/200\n"
     ]
    },
    {
     "name": "stdout",
     "output_type": "stream",
     "text": [
      "4/4 [==============================] - 0s 5ms/step - loss: 0.2676 - accuracy: 0.8839\n",
      "Epoch 84/200\n",
      "4/4 [==============================] - 0s 6ms/step - loss: 0.1903 - accuracy: 0.9643\n",
      "Epoch 85/200\n",
      "4/4 [==============================] - 0s 6ms/step - loss: 0.1690 - accuracy: 0.9732\n",
      "Epoch 86/200\n",
      "4/4 [==============================] - 0s 11ms/step - loss: 0.1652 - accuracy: 0.9732\n",
      "Epoch 87/200\n",
      "4/4 [==============================] - 0s 6ms/step - loss: 0.1743 - accuracy: 0.9643\n",
      "Epoch 88/200\n",
      "4/4 [==============================] - 0s 6ms/step - loss: 0.1776 - accuracy: 0.9732\n",
      "Epoch 89/200\n",
      "4/4 [==============================] - 0s 8ms/step - loss: 0.3346 - accuracy: 0.8393\n",
      "Epoch 90/200\n",
      "4/4 [==============================] - 0s 15ms/step - loss: 0.1959 - accuracy: 0.9196\n",
      "Epoch 91/200\n",
      "4/4 [==============================] - 0s 10ms/step - loss: 0.1640 - accuracy: 0.9732\n",
      "Epoch 92/200\n",
      "4/4 [==============================] - 0s 5ms/step - loss: 0.2857 - accuracy: 0.8482\n",
      "Epoch 93/200\n",
      "4/4 [==============================] - 0s 49ms/step - loss: 0.3457 - accuracy: 0.8125\n",
      "Epoch 94/200\n",
      "4/4 [==============================] - 0s 4ms/step - loss: 0.2198 - accuracy: 0.9286\n",
      "Epoch 95/200\n",
      "4/4 [==============================] - 0s 5ms/step - loss: 0.1726 - accuracy: 0.9643\n",
      "Epoch 96/200\n",
      "4/4 [==============================] - 0s 6ms/step - loss: 0.3343 - accuracy: 0.8571\n",
      "Epoch 97/200\n",
      "4/4 [==============================] - 0s 4ms/step - loss: 0.1999 - accuracy: 0.9107\n",
      "Epoch 98/200\n",
      "4/4 [==============================] - 0s 4ms/step - loss: 0.4088 - accuracy: 0.8036\n",
      "Epoch 99/200\n",
      "4/4 [==============================] - 0s 3ms/step - loss: 0.3132 - accuracy: 0.8304\n",
      "Epoch 100/200\n",
      "4/4 [==============================] - 0s 4ms/step - loss: 0.1665 - accuracy: 0.9643\n",
      "Epoch 101/200\n",
      "4/4 [==============================] - 0s 6ms/step - loss: 0.1593 - accuracy: 0.9554\n",
      "Epoch 102/200\n",
      "4/4 [==============================] - 0s 4ms/step - loss: 0.2400 - accuracy: 0.9018\n",
      "Epoch 103/200\n",
      "4/4 [==============================] - 0s 3ms/step - loss: 0.1911 - accuracy: 0.9286\n",
      "Epoch 104/200\n",
      "4/4 [==============================] - 0s 7ms/step - loss: 0.1627 - accuracy: 0.9375\n",
      "Epoch 105/200\n",
      "4/4 [==============================] - 0s 7ms/step - loss: 0.1313 - accuracy: 0.9821\n",
      "Epoch 106/200\n",
      "4/4 [==============================] - 0s 10ms/step - loss: 0.1395 - accuracy: 0.9732\n",
      "Epoch 107/200\n",
      "4/4 [==============================] - 0s 8ms/step - loss: 0.2778 - accuracy: 0.8929\n",
      "Epoch 108/200\n",
      "4/4 [==============================] - 0s 9ms/step - loss: 0.1350 - accuracy: 0.9554\n",
      "Epoch 109/200\n",
      "4/4 [==============================] - 0s 5ms/step - loss: 0.1339 - accuracy: 0.9554\n",
      "Epoch 110/200\n",
      "4/4 [==============================] - 0s 5ms/step - loss: 0.1567 - accuracy: 0.9286\n",
      "Epoch 111/200\n",
      "4/4 [==============================] - 0s 6ms/step - loss: 0.1641 - accuracy: 0.9375\n",
      "Epoch 112/200\n",
      "4/4 [==============================] - 0s 8ms/step - loss: 0.6258 - accuracy: 0.6786\n",
      "Epoch 113/200\n",
      "4/4 [==============================] - 0s 5ms/step - loss: 0.2104 - accuracy: 0.9286\n",
      "Epoch 114/200\n",
      "4/4 [==============================] - 0s 6ms/step - loss: 0.1381 - accuracy: 0.9643\n",
      "Epoch 115/200\n",
      "4/4 [==============================] - 0s 14ms/step - loss: 0.1198 - accuracy: 0.9821\n",
      "Epoch 116/200\n",
      "4/4 [==============================] - 0s 5ms/step - loss: 0.1712 - accuracy: 0.9375\n",
      "Epoch 117/200\n",
      "4/4 [==============================] - 0s 7ms/step - loss: 0.1078 - accuracy: 0.9643\n",
      "Epoch 118/200\n",
      "4/4 [==============================] - 0s 4ms/step - loss: 0.2068 - accuracy: 0.8839\n",
      "Epoch 119/200\n",
      "4/4 [==============================] - 0s 7ms/step - loss: 0.1698 - accuracy: 0.9464\n",
      "Epoch 120/200\n",
      "4/4 [==============================] - 0s 4ms/step - loss: 0.1179 - accuracy: 0.9732\n",
      "Epoch 121/200\n",
      "4/4 [==============================] - 0s 5ms/step - loss: 0.1462 - accuracy: 0.9375\n",
      "Epoch 122/200\n",
      "4/4 [==============================] - 0s 4ms/step - loss: 0.0975 - accuracy: 0.9821\n",
      "Epoch 123/200\n",
      "4/4 [==============================] - 0s 4ms/step - loss: 0.0945 - accuracy: 0.9821\n",
      "Epoch 124/200\n",
      "4/4 [==============================] - 0s 2ms/step - loss: 0.3819 - accuracy: 0.8125\n",
      "Epoch 125/200\n",
      "4/4 [==============================] - 0s 4ms/step - loss: 0.1946 - accuracy: 0.9286\n",
      "Epoch 126/200\n",
      "4/4 [==============================] - 0s 5ms/step - loss: 0.0952 - accuracy: 0.9732\n",
      "Epoch 127/200\n",
      "4/4 [==============================] - 0s 5ms/step - loss: 0.0940 - accuracy: 0.9821\n",
      "Epoch 128/200\n",
      "4/4 [==============================] - 0s 4ms/step - loss: 0.0930 - accuracy: 0.9821\n",
      "Epoch 129/200\n",
      "4/4 [==============================] - 0s 4ms/step - loss: 0.0960 - accuracy: 0.9821\n",
      "Epoch 130/200\n",
      "4/4 [==============================] - 0s 3ms/step - loss: 0.0920 - accuracy: 0.9732\n",
      "Epoch 131/200\n",
      "4/4 [==============================] - 0s 7ms/step - loss: 0.1801 - accuracy: 0.9107\n",
      "Epoch 132/200\n",
      "4/4 [==============================] - 0s 4ms/step - loss: 0.7320 - accuracy: 0.6964\n",
      "Epoch 133/200\n",
      "4/4 [==============================] - 0s 5ms/step - loss: 0.1005 - accuracy: 0.9911\n",
      "Epoch 134/200\n",
      "4/4 [==============================] - 0s 6ms/step - loss: 0.1034 - accuracy: 0.9732\n",
      "Epoch 135/200\n",
      "4/4 [==============================] - 0s 4ms/step - loss: 0.1295 - accuracy: 0.9464\n",
      "Epoch 136/200\n",
      "4/4 [==============================] - 0s 2ms/step - loss: 0.7399 - accuracy: 0.7143\n",
      "Epoch 137/200\n",
      "4/4 [==============================] - 0s 3ms/step - loss: 0.1191 - accuracy: 0.9643\n",
      "Epoch 138/200\n",
      "4/4 [==============================] - 0s 8ms/step - loss: 0.1064 - accuracy: 0.9821\n",
      "Epoch 139/200\n",
      "4/4 [==============================] - 0s 5ms/step - loss: 0.1113 - accuracy: 0.9821\n",
      "Epoch 140/200\n",
      "4/4 [==============================] - 0s 4ms/step - loss: 0.1249 - accuracy: 0.9375\n",
      "Epoch 141/200\n",
      "4/4 [==============================] - 0s 5ms/step - loss: 0.1022 - accuracy: 0.9821\n",
      "Epoch 142/200\n",
      "4/4 [==============================] - 0s 4ms/step - loss: 0.1478 - accuracy: 0.9464\n",
      "Epoch 143/200\n",
      "4/4 [==============================] - 0s 8ms/step - loss: 0.2009 - accuracy: 0.8839\n",
      "Epoch 144/200\n",
      "4/4 [==============================] - 0s 3ms/step - loss: 0.1732 - accuracy: 0.9286\n",
      "Epoch 145/200\n",
      "4/4 [==============================] - 0s 9ms/step - loss: 0.0988 - accuracy: 0.9732\n",
      "Epoch 146/200\n",
      "4/4 [==============================] - 0s 11ms/step - loss: 0.1040 - accuracy: 0.9732\n",
      "Epoch 147/200\n",
      "4/4 [==============================] - 0s 7ms/step - loss: 0.1018 - accuracy: 0.9732\n",
      "Epoch 148/200\n",
      "4/4 [==============================] - 0s 4ms/step - loss: 0.0904 - accuracy: 0.9821\n",
      "Epoch 149/200\n",
      "4/4 [==============================] - 0s 3ms/step - loss: 0.0906 - accuracy: 0.9821\n",
      "Epoch 150/200\n",
      "4/4 [==============================] - 0s 5ms/step - loss: 0.1191 - accuracy: 0.9643\n",
      "Epoch 151/200\n",
      "4/4 [==============================] - 0s 8ms/step - loss: 0.0912 - accuracy: 0.9821\n",
      "Epoch 152/200\n",
      "4/4 [==============================] - 0s 4ms/step - loss: 0.1622 - accuracy: 0.9375\n",
      "Epoch 153/200\n",
      "4/4 [==============================] - 0s 4ms/step - loss: 0.1929 - accuracy: 0.9018\n",
      "Epoch 154/200\n",
      "4/4 [==============================] - 0s 2ms/step - loss: 0.0842 - accuracy: 0.9821\n",
      "Epoch 155/200\n",
      "4/4 [==============================] - 0s 3ms/step - loss: 0.0910 - accuracy: 0.9732\n",
      "Epoch 156/200\n",
      "4/4 [==============================] - 0s 6ms/step - loss: 0.6366 - accuracy: 0.6964\n",
      "Epoch 157/200\n",
      "4/4 [==============================] - 0s 3ms/step - loss: 0.2179 - accuracy: 0.8839\n",
      "Epoch 158/200\n",
      "4/4 [==============================] - 0s 3ms/step - loss: 0.1355 - accuracy: 0.9554\n",
      "Epoch 159/200\n",
      "4/4 [==============================] - 0s 4ms/step - loss: 0.1023 - accuracy: 0.9643\n",
      "Epoch 160/200\n",
      "4/4 [==============================] - 0s 4ms/step - loss: 0.0891 - accuracy: 0.9821\n",
      "Epoch 161/200\n",
      "4/4 [==============================] - 0s 4ms/step - loss: 0.1133 - accuracy: 0.9464\n",
      "Epoch 162/200\n",
      "4/4 [==============================] - 0s 6ms/step - loss: 0.0805 - accuracy: 0.9911\n",
      "Epoch 163/200\n",
      "4/4 [==============================] - 0s 4ms/step - loss: 0.0755 - accuracy: 0.9821\n",
      "Epoch 164/200\n",
      "4/4 [==============================] - 0s 5ms/step - loss: 0.0883 - accuracy: 0.9643\n",
      "Epoch 165/200\n",
      "4/4 [==============================] - 0s 3ms/step - loss: 0.0978 - accuracy: 0.9554\n"
     ]
    },
    {
     "name": "stdout",
     "output_type": "stream",
     "text": [
      "Epoch 166/200\n",
      "4/4 [==============================] - 0s 5ms/step - loss: 0.1049 - accuracy: 0.9643\n",
      "Epoch 167/200\n",
      "4/4 [==============================] - 0s 8ms/step - loss: 0.1078 - accuracy: 0.9643\n",
      "Epoch 168/200\n",
      "4/4 [==============================] - 0s 5ms/step - loss: 0.0860 - accuracy: 0.9821\n",
      "Epoch 169/200\n",
      "4/4 [==============================] - 0s 6ms/step - loss: 0.1268 - accuracy: 0.9464\n",
      "Epoch 170/200\n",
      "4/4 [==============================] - 0s 5ms/step - loss: 0.1613 - accuracy: 0.9196\n",
      "Epoch 171/200\n",
      "4/4 [==============================] - 0s 9ms/step - loss: 0.0707 - accuracy: 0.9821\n",
      "Epoch 172/200\n",
      "4/4 [==============================] - 0s 8ms/step - loss: 0.0757 - accuracy: 0.9821\n",
      "Epoch 173/200\n",
      "4/4 [==============================] - 0s 6ms/step - loss: 0.0796 - accuracy: 0.9732\n",
      "Epoch 174/200\n",
      "4/4 [==============================] - 0s 5ms/step - loss: 0.0848 - accuracy: 0.9821\n",
      "Epoch 175/200\n",
      "4/4 [==============================] - 0s 4ms/step - loss: 0.0816 - accuracy: 0.9821\n",
      "Epoch 176/200\n",
      "4/4 [==============================] - 0s 5ms/step - loss: 0.0679 - accuracy: 0.9821\n",
      "Epoch 177/200\n",
      "4/4 [==============================] - 0s 4ms/step - loss: 0.3476 - accuracy: 0.8304\n",
      "Epoch 178/200\n",
      "4/4 [==============================] - 0s 5ms/step - loss: 0.0707 - accuracy: 0.9821\n",
      "Epoch 179/200\n",
      "4/4 [==============================] - 0s 5ms/step - loss: 0.0674 - accuracy: 0.9821\n",
      "Epoch 180/200\n",
      "4/4 [==============================] - 0s 4ms/step - loss: 0.1865 - accuracy: 0.9286\n",
      "Epoch 181/200\n",
      "4/4 [==============================] - 0s 7ms/step - loss: 0.1661 - accuracy: 0.9196\n",
      "Epoch 182/200\n",
      "4/4 [==============================] - 0s 4ms/step - loss: 0.3300 - accuracy: 0.8839\n",
      "Epoch 183/200\n",
      "4/4 [==============================] - 0s 5ms/step - loss: 0.0840 - accuracy: 0.9643\n",
      "Epoch 184/200\n",
      "4/4 [==============================] - 0s 4ms/step - loss: 0.0821 - accuracy: 0.9821\n",
      "Epoch 185/200\n",
      "4/4 [==============================] - 0s 5ms/step - loss: 0.0677 - accuracy: 0.9821\n",
      "Epoch 186/200\n",
      "4/4 [==============================] - 0s 4ms/step - loss: 0.0876 - accuracy: 0.9821\n",
      "Epoch 187/200\n",
      "4/4 [==============================] - 0s 5ms/step - loss: 0.0746 - accuracy: 0.9732\n",
      "Epoch 188/200\n",
      "4/4 [==============================] - 0s 6ms/step - loss: 0.2025 - accuracy: 0.9286\n",
      "Epoch 189/200\n",
      "4/4 [==============================] - 0s 4ms/step - loss: 0.3436 - accuracy: 0.8571\n",
      "Epoch 190/200\n",
      "4/4 [==============================] - 0s 6ms/step - loss: 0.0806 - accuracy: 0.9821\n",
      "Epoch 191/200\n",
      "4/4 [==============================] - 0s 5ms/step - loss: 0.0724 - accuracy: 0.9732\n",
      "Epoch 192/200\n",
      "4/4 [==============================] - 0s 5ms/step - loss: 0.1201 - accuracy: 0.9464\n",
      "Epoch 193/200\n",
      "4/4 [==============================] - 0s 4ms/step - loss: 0.0694 - accuracy: 0.9821\n",
      "Epoch 194/200\n",
      "4/4 [==============================] - ETA: 0s - loss: 0.0746 - accuracy: 0.96 - 0s 9ms/step - loss: 0.0633 - accuracy: 0.9821\n",
      "Epoch 195/200\n",
      "4/4 [==============================] - 0s 5ms/step - loss: 0.0632 - accuracy: 0.9732\n",
      "Epoch 196/200\n",
      "4/4 [==============================] - 0s 5ms/step - loss: 0.1259 - accuracy: 0.9375\n",
      "Epoch 197/200\n",
      "4/4 [==============================] - 0s 5ms/step - loss: 0.0800 - accuracy: 0.9732\n",
      "Epoch 198/200\n",
      "4/4 [==============================] - 0s 5ms/step - loss: 0.1005 - accuracy: 0.9554\n",
      "Epoch 199/200\n",
      "4/4 [==============================] - 0s 4ms/step - loss: 0.0698 - accuracy: 0.9732\n",
      "Epoch 200/200\n",
      "4/4 [==============================] - 0s 5ms/step - loss: 0.0660 - accuracy: 0.9821\n",
      "2/2 [==============================] - 0s 4ms/step - loss: 0.1274 - accuracy: 0.9474\n",
      "[0.1273823231458664, 0.9473684430122375]\n"
     ]
    }
   ],
   "source": [
    "model_best = Sequential()\n",
    "model_best.add(Dense(20, activation='relu', input_dim = 4))\n",
    "model_best.add(Dense(8, activation='relu'))\n",
    "model_best.add(Dense(3, activation='softmax'))\n",
    "sgd = SGD(lr=0.1)  # define a learning rate for optimization\n",
    "\n",
    "model_best.compile(loss='categorical_crossentropy',\n",
    "              optimizer=sgd,\n",
    "              metrics=['accuracy'])\n",
    "\n",
    "model_best.fit(X_train, y_train, epochs=200, batch_size=32)\n",
    "score_best = model_best.evaluate(X_test, y_test, batch_size=32) # Evaluating best model using test set\n",
    "print(score_best)"
   ]
  },
  {
   "cell_type": "code",
   "execution_count": 55,
   "id": "c548490a",
   "metadata": {},
   "outputs": [
    {
     "name": "stdout",
     "output_type": "stream",
     "text": [
      "The model gives a loss of 0.1273823231458664 and test set accuracy score 0.9473684430122375\n"
     ]
    }
   ],
   "source": [
    "print(\"The model gives a loss of\", score_best[0], \"and test set accuracy score\", score_best[1])"
   ]
  },
  {
   "cell_type": "markdown",
   "id": "d22109b1",
   "metadata": {},
   "source": [
    "***Conclusion:*** As we add more hiddennodes, the model gets more complex. This would very likely give a high training set score but we are unable to generalize the model to new unseen data. In that case, due to overfitting, the test set score will be lower than the training set score. We have to find a good balance between the test set score and complexity of the model.\n",
    "\n",
    "After running GridSearchCV on the data, I found that 20 nodes with 0.01 learning rate were the optimum parameters for this model. However, if we run the model again, it might give a different result. To control for this randomness, I set a global seed at the beginning of this notebook."
   ]
  }
 ],
 "metadata": {
  "kernelspec": {
   "display_name": "Python 3",
   "language": "python",
   "name": "python3"
  },
  "language_info": {
   "codemirror_mode": {
    "name": "ipython",
    "version": 3
   },
   "file_extension": ".py",
   "mimetype": "text/x-python",
   "name": "python",
   "nbconvert_exporter": "python",
   "pygments_lexer": "ipython3",
   "version": "3.8.8"
  }
 },
 "nbformat": 4,
 "nbformat_minor": 5
}
