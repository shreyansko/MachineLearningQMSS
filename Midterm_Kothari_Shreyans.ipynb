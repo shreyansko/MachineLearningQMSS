{
 "cells": [
  {
   "cell_type": "markdown",
   "id": "f602698b",
   "metadata": {},
   "source": [
    "# Machine Learning for Social Sciences: Midterm Exam"
   ]
  },
  {
   "cell_type": "markdown",
   "id": "78907352",
   "metadata": {},
   "source": [
    "**Name:** Shreyans Kothari |\n",
    "**Uni:** sk4819 |\n",
    "**Date:** October 28th, 2021 "
   ]
  },
  {
   "cell_type": "code",
   "execution_count": 1,
   "id": "21f58871",
   "metadata": {},
   "outputs": [],
   "source": [
    "import os\n",
    "import pandas as pd\n",
    "import numpy as np\n",
    "import matplotlib.pyplot as plt\n",
    "import seaborn as sns"
   ]
  },
  {
   "cell_type": "code",
   "execution_count": 2,
   "id": "659b1495",
   "metadata": {},
   "outputs": [],
   "source": [
    "os.chdir(\"/Users/shreyanskothari/Desktop/Machine Learning for Social Sciences/Midterm\")"
   ]
  },
  {
   "cell_type": "markdown",
   "id": "15f7be1d",
   "metadata": {},
   "source": [
    "### 1) Importing spam dataset and reading first six rows"
   ]
  },
  {
   "cell_type": "code",
   "execution_count": 3,
   "id": "cf1afdc9",
   "metadata": {},
   "outputs": [
    {
     "data": {
      "text/html": [
       "<div>\n",
       "<style scoped>\n",
       "    .dataframe tbody tr th:only-of-type {\n",
       "        vertical-align: middle;\n",
       "    }\n",
       "\n",
       "    .dataframe tbody tr th {\n",
       "        vertical-align: top;\n",
       "    }\n",
       "\n",
       "    .dataframe thead th {\n",
       "        text-align: right;\n",
       "    }\n",
       "</style>\n",
       "<table border=\"1\" class=\"dataframe\">\n",
       "  <thead>\n",
       "    <tr style=\"text-align: right;\">\n",
       "      <th></th>\n",
       "      <th>word_freq_make:</th>\n",
       "      <th>word_freq_address:</th>\n",
       "      <th>word_freq_all:</th>\n",
       "      <th>word_freq_3d:</th>\n",
       "      <th>word_freq_our:</th>\n",
       "      <th>word_freq_over:</th>\n",
       "      <th>word_freq_remove:</th>\n",
       "      <th>word_freq_internet:</th>\n",
       "      <th>word_freq_order:</th>\n",
       "      <th>word_freq_mail:</th>\n",
       "      <th>...</th>\n",
       "      <th>char_freq_;:</th>\n",
       "      <th>char_freq_(:</th>\n",
       "      <th>char_freq_[:</th>\n",
       "      <th>char_freq_!:</th>\n",
       "      <th>char_freq_$:</th>\n",
       "      <th>char_freq_#:</th>\n",
       "      <th>capital_run_length_average:</th>\n",
       "      <th>capital_run_length_longest:</th>\n",
       "      <th>capital_run_length_total:</th>\n",
       "      <th>spam</th>\n",
       "    </tr>\n",
       "  </thead>\n",
       "  <tbody>\n",
       "    <tr>\n",
       "      <th>0</th>\n",
       "      <td>0.00</td>\n",
       "      <td>0.64</td>\n",
       "      <td>0.64</td>\n",
       "      <td>0.0</td>\n",
       "      <td>0.32</td>\n",
       "      <td>0.00</td>\n",
       "      <td>0.00</td>\n",
       "      <td>0.00</td>\n",
       "      <td>0.00</td>\n",
       "      <td>0.00</td>\n",
       "      <td>...</td>\n",
       "      <td>0.00</td>\n",
       "      <td>0.000</td>\n",
       "      <td>0.0</td>\n",
       "      <td>0.778</td>\n",
       "      <td>0.000</td>\n",
       "      <td>0.000</td>\n",
       "      <td>3.756</td>\n",
       "      <td>61</td>\n",
       "      <td>278</td>\n",
       "      <td>1</td>\n",
       "    </tr>\n",
       "    <tr>\n",
       "      <th>1</th>\n",
       "      <td>0.21</td>\n",
       "      <td>0.28</td>\n",
       "      <td>0.50</td>\n",
       "      <td>0.0</td>\n",
       "      <td>0.14</td>\n",
       "      <td>0.28</td>\n",
       "      <td>0.21</td>\n",
       "      <td>0.07</td>\n",
       "      <td>0.00</td>\n",
       "      <td>0.94</td>\n",
       "      <td>...</td>\n",
       "      <td>0.00</td>\n",
       "      <td>0.132</td>\n",
       "      <td>0.0</td>\n",
       "      <td>0.372</td>\n",
       "      <td>0.180</td>\n",
       "      <td>0.048</td>\n",
       "      <td>5.114</td>\n",
       "      <td>101</td>\n",
       "      <td>1028</td>\n",
       "      <td>1</td>\n",
       "    </tr>\n",
       "    <tr>\n",
       "      <th>2</th>\n",
       "      <td>0.06</td>\n",
       "      <td>0.00</td>\n",
       "      <td>0.71</td>\n",
       "      <td>0.0</td>\n",
       "      <td>1.23</td>\n",
       "      <td>0.19</td>\n",
       "      <td>0.19</td>\n",
       "      <td>0.12</td>\n",
       "      <td>0.64</td>\n",
       "      <td>0.25</td>\n",
       "      <td>...</td>\n",
       "      <td>0.01</td>\n",
       "      <td>0.143</td>\n",
       "      <td>0.0</td>\n",
       "      <td>0.276</td>\n",
       "      <td>0.184</td>\n",
       "      <td>0.010</td>\n",
       "      <td>9.821</td>\n",
       "      <td>485</td>\n",
       "      <td>2259</td>\n",
       "      <td>1</td>\n",
       "    </tr>\n",
       "    <tr>\n",
       "      <th>3</th>\n",
       "      <td>0.00</td>\n",
       "      <td>0.00</td>\n",
       "      <td>0.00</td>\n",
       "      <td>0.0</td>\n",
       "      <td>0.63</td>\n",
       "      <td>0.00</td>\n",
       "      <td>0.31</td>\n",
       "      <td>0.63</td>\n",
       "      <td>0.31</td>\n",
       "      <td>0.63</td>\n",
       "      <td>...</td>\n",
       "      <td>0.00</td>\n",
       "      <td>0.137</td>\n",
       "      <td>0.0</td>\n",
       "      <td>0.137</td>\n",
       "      <td>0.000</td>\n",
       "      <td>0.000</td>\n",
       "      <td>3.537</td>\n",
       "      <td>40</td>\n",
       "      <td>191</td>\n",
       "      <td>1</td>\n",
       "    </tr>\n",
       "    <tr>\n",
       "      <th>4</th>\n",
       "      <td>0.00</td>\n",
       "      <td>0.00</td>\n",
       "      <td>0.00</td>\n",
       "      <td>0.0</td>\n",
       "      <td>0.63</td>\n",
       "      <td>0.00</td>\n",
       "      <td>0.31</td>\n",
       "      <td>0.63</td>\n",
       "      <td>0.31</td>\n",
       "      <td>0.63</td>\n",
       "      <td>...</td>\n",
       "      <td>0.00</td>\n",
       "      <td>0.135</td>\n",
       "      <td>0.0</td>\n",
       "      <td>0.135</td>\n",
       "      <td>0.000</td>\n",
       "      <td>0.000</td>\n",
       "      <td>3.537</td>\n",
       "      <td>40</td>\n",
       "      <td>191</td>\n",
       "      <td>1</td>\n",
       "    </tr>\n",
       "    <tr>\n",
       "      <th>5</th>\n",
       "      <td>0.00</td>\n",
       "      <td>0.00</td>\n",
       "      <td>0.00</td>\n",
       "      <td>0.0</td>\n",
       "      <td>1.85</td>\n",
       "      <td>0.00</td>\n",
       "      <td>0.00</td>\n",
       "      <td>1.85</td>\n",
       "      <td>0.00</td>\n",
       "      <td>0.00</td>\n",
       "      <td>...</td>\n",
       "      <td>0.00</td>\n",
       "      <td>0.223</td>\n",
       "      <td>0.0</td>\n",
       "      <td>0.000</td>\n",
       "      <td>0.000</td>\n",
       "      <td>0.000</td>\n",
       "      <td>3.000</td>\n",
       "      <td>15</td>\n",
       "      <td>54</td>\n",
       "      <td>1</td>\n",
       "    </tr>\n",
       "  </tbody>\n",
       "</table>\n",
       "<p>6 rows × 58 columns</p>\n",
       "</div>"
      ],
      "text/plain": [
       "   word_freq_make:  word_freq_address:  word_freq_all:  word_freq_3d:  \\\n",
       "0             0.00                0.64            0.64            0.0   \n",
       "1             0.21                0.28            0.50            0.0   \n",
       "2             0.06                0.00            0.71            0.0   \n",
       "3             0.00                0.00            0.00            0.0   \n",
       "4             0.00                0.00            0.00            0.0   \n",
       "5             0.00                0.00            0.00            0.0   \n",
       "\n",
       "   word_freq_our:  word_freq_over:  word_freq_remove:  word_freq_internet:  \\\n",
       "0            0.32             0.00               0.00                 0.00   \n",
       "1            0.14             0.28               0.21                 0.07   \n",
       "2            1.23             0.19               0.19                 0.12   \n",
       "3            0.63             0.00               0.31                 0.63   \n",
       "4            0.63             0.00               0.31                 0.63   \n",
       "5            1.85             0.00               0.00                 1.85   \n",
       "\n",
       "   word_freq_order:  word_freq_mail:  ...  char_freq_;:  char_freq_(:  \\\n",
       "0              0.00             0.00  ...          0.00         0.000   \n",
       "1              0.00             0.94  ...          0.00         0.132   \n",
       "2              0.64             0.25  ...          0.01         0.143   \n",
       "3              0.31             0.63  ...          0.00         0.137   \n",
       "4              0.31             0.63  ...          0.00         0.135   \n",
       "5              0.00             0.00  ...          0.00         0.223   \n",
       "\n",
       "   char_freq_[:  char_freq_!:  char_freq_$:  char_freq_#:  \\\n",
       "0           0.0         0.778         0.000         0.000   \n",
       "1           0.0         0.372         0.180         0.048   \n",
       "2           0.0         0.276         0.184         0.010   \n",
       "3           0.0         0.137         0.000         0.000   \n",
       "4           0.0         0.135         0.000         0.000   \n",
       "5           0.0         0.000         0.000         0.000   \n",
       "\n",
       "   capital_run_length_average:  capital_run_length_longest:  \\\n",
       "0                        3.756                           61   \n",
       "1                        5.114                          101   \n",
       "2                        9.821                          485   \n",
       "3                        3.537                           40   \n",
       "4                        3.537                           40   \n",
       "5                        3.000                           15   \n",
       "\n",
       "   capital_run_length_total:  spam  \n",
       "0                        278     1  \n",
       "1                       1028     1  \n",
       "2                       2259     1  \n",
       "3                        191     1  \n",
       "4                        191     1  \n",
       "5                         54     1  \n",
       "\n",
       "[6 rows x 58 columns]"
      ]
     },
     "execution_count": 3,
     "metadata": {},
     "output_type": "execute_result"
    }
   ],
   "source": [
    "spam = pd.read_csv(\"spam_dataset.csv\")\n",
    "spam.head(6)"
   ]
  },
  {
   "cell_type": "code",
   "execution_count": 4,
   "id": "59c0aa64",
   "metadata": {},
   "outputs": [
    {
     "data": {
      "text/html": [
       "<div>\n",
       "<style scoped>\n",
       "    .dataframe tbody tr th:only-of-type {\n",
       "        vertical-align: middle;\n",
       "    }\n",
       "\n",
       "    .dataframe tbody tr th {\n",
       "        vertical-align: top;\n",
       "    }\n",
       "\n",
       "    .dataframe thead th {\n",
       "        text-align: right;\n",
       "    }\n",
       "</style>\n",
       "<table border=\"1\" class=\"dataframe\">\n",
       "  <thead>\n",
       "    <tr style=\"text-align: right;\">\n",
       "      <th></th>\n",
       "      <th>word_freq_make:</th>\n",
       "      <th>word_freq_address:</th>\n",
       "      <th>word_freq_all:</th>\n",
       "      <th>word_freq_3d:</th>\n",
       "      <th>word_freq_our:</th>\n",
       "      <th>word_freq_over:</th>\n",
       "      <th>word_freq_remove:</th>\n",
       "      <th>word_freq_internet:</th>\n",
       "      <th>word_freq_order:</th>\n",
       "      <th>word_freq_mail:</th>\n",
       "      <th>...</th>\n",
       "      <th>char_freq_;:</th>\n",
       "      <th>char_freq_(:</th>\n",
       "      <th>char_freq_[:</th>\n",
       "      <th>char_freq_!:</th>\n",
       "      <th>char_freq_$:</th>\n",
       "      <th>char_freq_#:</th>\n",
       "      <th>capital_run_length_average:</th>\n",
       "      <th>capital_run_length_longest:</th>\n",
       "      <th>capital_run_length_total:</th>\n",
       "      <th>spam</th>\n",
       "    </tr>\n",
       "  </thead>\n",
       "  <tbody>\n",
       "    <tr>\n",
       "      <th>4595</th>\n",
       "      <td>0.00</td>\n",
       "      <td>0.0</td>\n",
       "      <td>1.19</td>\n",
       "      <td>0.0</td>\n",
       "      <td>0.00</td>\n",
       "      <td>0.00</td>\n",
       "      <td>0.0</td>\n",
       "      <td>0.0</td>\n",
       "      <td>0.0</td>\n",
       "      <td>0.0</td>\n",
       "      <td>...</td>\n",
       "      <td>0.000</td>\n",
       "      <td>0.000</td>\n",
       "      <td>0.0</td>\n",
       "      <td>0.000</td>\n",
       "      <td>0.0</td>\n",
       "      <td>0.0</td>\n",
       "      <td>1.000</td>\n",
       "      <td>1</td>\n",
       "      <td>24</td>\n",
       "      <td>0</td>\n",
       "    </tr>\n",
       "    <tr>\n",
       "      <th>4596</th>\n",
       "      <td>0.31</td>\n",
       "      <td>0.0</td>\n",
       "      <td>0.62</td>\n",
       "      <td>0.0</td>\n",
       "      <td>0.00</td>\n",
       "      <td>0.31</td>\n",
       "      <td>0.0</td>\n",
       "      <td>0.0</td>\n",
       "      <td>0.0</td>\n",
       "      <td>0.0</td>\n",
       "      <td>...</td>\n",
       "      <td>0.000</td>\n",
       "      <td>0.232</td>\n",
       "      <td>0.0</td>\n",
       "      <td>0.000</td>\n",
       "      <td>0.0</td>\n",
       "      <td>0.0</td>\n",
       "      <td>1.142</td>\n",
       "      <td>3</td>\n",
       "      <td>88</td>\n",
       "      <td>0</td>\n",
       "    </tr>\n",
       "    <tr>\n",
       "      <th>4597</th>\n",
       "      <td>0.00</td>\n",
       "      <td>0.0</td>\n",
       "      <td>0.00</td>\n",
       "      <td>0.0</td>\n",
       "      <td>0.00</td>\n",
       "      <td>0.00</td>\n",
       "      <td>0.0</td>\n",
       "      <td>0.0</td>\n",
       "      <td>0.0</td>\n",
       "      <td>0.0</td>\n",
       "      <td>...</td>\n",
       "      <td>0.000</td>\n",
       "      <td>0.000</td>\n",
       "      <td>0.0</td>\n",
       "      <td>0.353</td>\n",
       "      <td>0.0</td>\n",
       "      <td>0.0</td>\n",
       "      <td>1.555</td>\n",
       "      <td>4</td>\n",
       "      <td>14</td>\n",
       "      <td>0</td>\n",
       "    </tr>\n",
       "    <tr>\n",
       "      <th>4598</th>\n",
       "      <td>0.30</td>\n",
       "      <td>0.0</td>\n",
       "      <td>0.30</td>\n",
       "      <td>0.0</td>\n",
       "      <td>0.00</td>\n",
       "      <td>0.00</td>\n",
       "      <td>0.0</td>\n",
       "      <td>0.0</td>\n",
       "      <td>0.0</td>\n",
       "      <td>0.0</td>\n",
       "      <td>...</td>\n",
       "      <td>0.102</td>\n",
       "      <td>0.718</td>\n",
       "      <td>0.0</td>\n",
       "      <td>0.000</td>\n",
       "      <td>0.0</td>\n",
       "      <td>0.0</td>\n",
       "      <td>1.404</td>\n",
       "      <td>6</td>\n",
       "      <td>118</td>\n",
       "      <td>0</td>\n",
       "    </tr>\n",
       "    <tr>\n",
       "      <th>4599</th>\n",
       "      <td>0.96</td>\n",
       "      <td>0.0</td>\n",
       "      <td>0.00</td>\n",
       "      <td>0.0</td>\n",
       "      <td>0.32</td>\n",
       "      <td>0.00</td>\n",
       "      <td>0.0</td>\n",
       "      <td>0.0</td>\n",
       "      <td>0.0</td>\n",
       "      <td>0.0</td>\n",
       "      <td>...</td>\n",
       "      <td>0.000</td>\n",
       "      <td>0.057</td>\n",
       "      <td>0.0</td>\n",
       "      <td>0.000</td>\n",
       "      <td>0.0</td>\n",
       "      <td>0.0</td>\n",
       "      <td>1.147</td>\n",
       "      <td>5</td>\n",
       "      <td>78</td>\n",
       "      <td>0</td>\n",
       "    </tr>\n",
       "    <tr>\n",
       "      <th>4600</th>\n",
       "      <td>0.00</td>\n",
       "      <td>0.0</td>\n",
       "      <td>0.65</td>\n",
       "      <td>0.0</td>\n",
       "      <td>0.00</td>\n",
       "      <td>0.00</td>\n",
       "      <td>0.0</td>\n",
       "      <td>0.0</td>\n",
       "      <td>0.0</td>\n",
       "      <td>0.0</td>\n",
       "      <td>...</td>\n",
       "      <td>0.000</td>\n",
       "      <td>0.000</td>\n",
       "      <td>0.0</td>\n",
       "      <td>0.125</td>\n",
       "      <td>0.0</td>\n",
       "      <td>0.0</td>\n",
       "      <td>1.250</td>\n",
       "      <td>5</td>\n",
       "      <td>40</td>\n",
       "      <td>0</td>\n",
       "    </tr>\n",
       "  </tbody>\n",
       "</table>\n",
       "<p>6 rows × 58 columns</p>\n",
       "</div>"
      ],
      "text/plain": [
       "      word_freq_make:  word_freq_address:  word_freq_all:  word_freq_3d:  \\\n",
       "4595             0.00                 0.0            1.19            0.0   \n",
       "4596             0.31                 0.0            0.62            0.0   \n",
       "4597             0.00                 0.0            0.00            0.0   \n",
       "4598             0.30                 0.0            0.30            0.0   \n",
       "4599             0.96                 0.0            0.00            0.0   \n",
       "4600             0.00                 0.0            0.65            0.0   \n",
       "\n",
       "      word_freq_our:  word_freq_over:  word_freq_remove:  word_freq_internet:  \\\n",
       "4595            0.00             0.00                0.0                  0.0   \n",
       "4596            0.00             0.31                0.0                  0.0   \n",
       "4597            0.00             0.00                0.0                  0.0   \n",
       "4598            0.00             0.00                0.0                  0.0   \n",
       "4599            0.32             0.00                0.0                  0.0   \n",
       "4600            0.00             0.00                0.0                  0.0   \n",
       "\n",
       "      word_freq_order:  word_freq_mail:  ...  char_freq_;:  char_freq_(:  \\\n",
       "4595               0.0              0.0  ...         0.000         0.000   \n",
       "4596               0.0              0.0  ...         0.000         0.232   \n",
       "4597               0.0              0.0  ...         0.000         0.000   \n",
       "4598               0.0              0.0  ...         0.102         0.718   \n",
       "4599               0.0              0.0  ...         0.000         0.057   \n",
       "4600               0.0              0.0  ...         0.000         0.000   \n",
       "\n",
       "      char_freq_[:  char_freq_!:  char_freq_$:  char_freq_#:  \\\n",
       "4595           0.0         0.000           0.0           0.0   \n",
       "4596           0.0         0.000           0.0           0.0   \n",
       "4597           0.0         0.353           0.0           0.0   \n",
       "4598           0.0         0.000           0.0           0.0   \n",
       "4599           0.0         0.000           0.0           0.0   \n",
       "4600           0.0         0.125           0.0           0.0   \n",
       "\n",
       "      capital_run_length_average:  capital_run_length_longest:  \\\n",
       "4595                        1.000                            1   \n",
       "4596                        1.142                            3   \n",
       "4597                        1.555                            4   \n",
       "4598                        1.404                            6   \n",
       "4599                        1.147                            5   \n",
       "4600                        1.250                            5   \n",
       "\n",
       "      capital_run_length_total:  spam  \n",
       "4595                         24     0  \n",
       "4596                         88     0  \n",
       "4597                         14     0  \n",
       "4598                        118     0  \n",
       "4599                         78     0  \n",
       "4600                         40     0  \n",
       "\n",
       "[6 rows x 58 columns]"
      ]
     },
     "execution_count": 4,
     "metadata": {},
     "output_type": "execute_result"
    }
   ],
   "source": [
    "spam.tail(6)"
   ]
  },
  {
   "cell_type": "code",
   "execution_count": 5,
   "id": "af654ff7",
   "metadata": {},
   "outputs": [
    {
     "data": {
      "text/plain": [
       "(4601, 58)"
      ]
     },
     "execution_count": 5,
     "metadata": {},
     "output_type": "execute_result"
    }
   ],
   "source": [
    "spam.shape"
   ]
  },
  {
   "cell_type": "markdown",
   "id": "65f018da",
   "metadata": {},
   "source": [
    "**'george' and the area code '650' are indicators of \n",
    "\tnon-spam. \n",
    "    \n",
    "    Number of Instances: 4601 (1813 Spam = 39.4%)\n",
    "    \n",
    "    Number of Attributes: 58 (57 continuous, 1 nominal class label)"
   ]
  },
  {
   "cell_type": "markdown",
   "id": "74ea76b6",
   "metadata": {},
   "source": [
    "### 2) Which three variables in the dataset will be important predictors in a model of spam? Why?"
   ]
  },
  {
   "cell_type": "markdown",
   "id": "1bca0a15",
   "metadata": {},
   "source": [
    "Exploring the variables:\n",
    "- word_freq_WORD = percentage of words in the e-mail that match WORD\n",
    "    - 100 * (number of times the WORD appears in the e-mail) / total number of words in e-mail\n",
    "- char_freq_CHAR = percentage of characters in the e-mail that match CHAR\n",
    "- capital_run_length_average = average length of uninterrupted sequences of capital letters\n",
    "- capital_run_length_longest = length of longest uninterrupted sequence of capital letters\n",
    "- capital_run_length_total = sum of length of uninterrupted sequences of capital letters \n",
    "    - = total number of capital letters in the e-mail\n",
    "- spam = denotes whether the e-mail was considered spam (1) or not (0)"
   ]
  },
  {
   "cell_type": "code",
   "execution_count": 6,
   "id": "9c5b45c9",
   "metadata": {},
   "outputs": [
    {
     "data": {
      "text/plain": [
       "Index(['word_freq_make:', 'word_freq_address:', 'word_freq_all:',\n",
       "       'word_freq_3d:', 'word_freq_our:', 'word_freq_over:',\n",
       "       'word_freq_remove:', 'word_freq_internet:', 'word_freq_order:',\n",
       "       'word_freq_mail:', 'word_freq_receive:', 'word_freq_will:',\n",
       "       'word_freq_people:', 'word_freq_report:', 'word_freq_addresses:',\n",
       "       'word_freq_free:', 'word_freq_business:', 'word_freq_email:',\n",
       "       'word_freq_you:', 'word_freq_credit:', 'word_freq_your:',\n",
       "       'word_freq_font:', 'word_freq_000:', 'word_freq_money:',\n",
       "       'word_freq_hp:', 'word_freq_hpl:', 'word_freq_george:',\n",
       "       'word_freq_650:', 'word_freq_lab:', 'word_freq_labs:',\n",
       "       'word_freq_telnet:', 'word_freq_857:', 'word_freq_data:',\n",
       "       'word_freq_415:', 'word_freq_85:', 'word_freq_technology:',\n",
       "       'word_freq_1999:', 'word_freq_parts:', 'word_freq_pm:',\n",
       "       'word_freq_direct:', 'word_freq_cs:', 'word_freq_meeting:',\n",
       "       'word_freq_original:', 'word_freq_project:', 'word_freq_re:',\n",
       "       'word_freq_edu:', 'word_freq_table:', 'word_freq_conference:',\n",
       "       'char_freq_;:', 'char_freq_(:', 'char_freq_[:', 'char_freq_!:',\n",
       "       'char_freq_$:', 'char_freq_#:', 'capital_run_length_average:',\n",
       "       'capital_run_length_longest:', 'capital_run_length_total:', 'spam'],\n",
       "      dtype='object')"
      ]
     },
     "execution_count": 6,
     "metadata": {},
     "output_type": "execute_result"
    }
   ],
   "source": [
    "spam.columns"
   ]
  },
  {
   "cell_type": "markdown",
   "id": "16da6dfa",
   "metadata": {},
   "source": [
    "The three most important variables for predicting spam will be char_freq_$:, word_freq_meeting:, and capital_run_length_average:. \n",
    "\n",
    "- char_freq_$: This variable measures the percentage of characters in the e-mail that match the dollar sign. Most of the spam emails (especially the ones asking for money) would list a dollar amount: the amount of money the spammers ask for (for example: if it is some form of phishing) or the amount of money the spam sender would want to \"send to us\" if we \"click on the included link.\" The dollar sign could also be a common character in corporate marketing emails- emails about changes in price of goods or about some marketing campaign.\n",
    "- word_freq_meeting: This variable measures the percentage of words in the e-mail that match the word 'meeting'. I don't expect a lot of spam emails to use the word 'meetings'; the \"spam concept [in this email databse] is diverse: advertisements for products/web sites, make money fast schemes, chain letters, pornography...\" but spam emails don't generally tend to ask for / want to schedule meetings of any kind. Phishing email would focus on getting money in some form or another, and most other types of spam would want the user to access their website. The emails that do mention the word 'meeting' are very likely emails that the user recieved to schedule meetings with colleagues, friends, and family. \n",
    "- capital_run_length_average: this variable measures the average length of uninterrupted sequence of capital letters. In a non-spam email, you would not expect a lot of letters in capital simultaneously in a sentence. Emails tend to be a more formal mode of communication, especially in comparision to texts. I would expect a lot of words in all-caps if we were analyzing a phone text corpus. However, capital letters seem very uncharacteristic of a non-spam email. \n",
    "---\n",
    "***Note: word_freq_george would be a great indicator for the spam filter. However, it could lead to overfitting (and would most likely not be able to accurately predict data on unseen data) since these emails come from \"filed work and personal e-mails\" from the creator and donor: George Forman.*** "
   ]
  },
  {
   "cell_type": "markdown",
   "id": "4f281187",
   "metadata": {},
   "source": [
    "### 3) Visualize the univariate distribution of each of the variables in the previous question."
   ]
  },
  {
   "cell_type": "code",
   "execution_count": 7,
   "id": "71e88b7e",
   "metadata": {},
   "outputs": [],
   "source": [
    "%matplotlib inline"
   ]
  },
  {
   "cell_type": "code",
   "execution_count": 8,
   "id": "a5c75e83",
   "metadata": {},
   "outputs": [
    {
     "data": {
      "text/plain": [
       "Text(0, 0.5, 'Average Length of Capital Letters')"
      ]
     },
     "execution_count": 8,
     "metadata": {},
     "output_type": "execute_result"
    },
    {
     "data": {
      "image/png": "[encoded data removed]",
      "text/plain": [
       "<Figure size 432x288 with 1 Axes>"
      ]
     },
     "metadata": {
      "needs_background": "light"
     },
     "output_type": "display_data"
    }
   ],
   "source": [
    "#Visualizing the distribution of capital_run_length_average:\n",
    "plt.scatter(spam.index, spam['capital_run_length_average:'])\n",
    "plt.title(\"Average length of uninterrupted sequences of capital letters\")\n",
    "plt.xlabel(\"Index\")\n",
    "plt.ylabel(\"Average Length of Capital Letters\")"
   ]
  },
  {
   "cell_type": "code",
   "execution_count": 9,
   "id": "13bb3c10",
   "metadata": {},
   "outputs": [
    {
     "data": {
      "text/plain": [
       "Text(0, 0.5, 'Average Length of Capital Letters')"
      ]
     },
     "execution_count": 9,
     "metadata": {},
     "output_type": "execute_result"
    },
    {
     "data": {
      "image/png": "[encoded data removed]",
      "text/plain": [
       "<Figure size 432x288 with 1 Axes>"
      ]
     },
     "metadata": {
      "needs_background": "light"
     },
     "output_type": "display_data"
    }
   ],
   "source": [
    "#Visualizing the distribution of capital_run_length_average, grouped by spam and not-spam\n",
    "sns.stripplot(x = spam['spam'], y = spam['capital_run_length_average:'])\n",
    "plt.title(\"Average length of uninterrupted sequences of capital letters, grouped by spam\")\n",
    "plt.xlabel(\"Spam\")\n",
    "plt.ylabel(\"Average Length of Capital Letters\")"
   ]
  },
  {
   "cell_type": "code",
   "execution_count": 10,
   "id": "8e95339b",
   "metadata": {},
   "outputs": [
    {
     "data": {
      "text/plain": [
       "Text(0, 0.5, 'Percentage of words')"
      ]
     },
     "execution_count": 10,
     "metadata": {},
     "output_type": "execute_result"
    },
    {
     "data": {
      "image/png": "[encoded data removed]",
      "text/plain": [
       "<Figure size 432x288 with 1 Axes>"
      ]
     },
     "metadata": {
      "needs_background": "light"
     },
     "output_type": "display_data"
    }
   ],
   "source": [
    "#Visualizing the distribution of word_freq_meeting\n",
    "plt.scatter(spam.index, spam['word_freq_meeting:'])\n",
    "plt.title(\"Percentage of words in the e-mail that match the word 'meeting'\")\n",
    "plt.xlabel(\"Index\")\n",
    "plt.ylabel(\"Percentage of words\")"
   ]
  },
  {
   "cell_type": "code",
   "execution_count": 11,
   "id": "ac4d533d",
   "metadata": {},
   "outputs": [
    {
     "data": {
      "text/plain": [
       "Text(0, 0.5, 'Percentage of words')"
      ]
     },
     "execution_count": 11,
     "metadata": {},
     "output_type": "execute_result"
    },
    {
     "data": {
      "image/png": "[encoded data removed]",
      "text/plain": [
       "<Figure size 432x288 with 1 Axes>"
      ]
     },
     "metadata": {
      "needs_background": "light"
     },
     "output_type": "display_data"
    }
   ],
   "source": [
    "#Visualizing the distribution of word_freq_meeting, grouped by spam and not-spam\n",
    "sns.stripplot(x = spam['spam'], y = spam['word_freq_meeting:'])\n",
    "plt.title(\"Percentage of words in the e-mail that match the word 'meeting', grouped by Spam\")\n",
    "plt.xlabel(\"Spam\")\n",
    "plt.ylabel(\"Percentage of words\")"
   ]
  },
  {
   "cell_type": "code",
   "execution_count": 12,
   "id": "898efba1",
   "metadata": {},
   "outputs": [
    {
     "data": {
      "text/plain": [
       "Text(0, 0.5, 'Percentage of characters')"
      ]
     },
     "execution_count": 12,
     "metadata": {},
     "output_type": "execute_result"
    },
    {
     "data": {
      "image/png": "[encoded data removed]",
      "text/plain": [
       "<Figure size 432x288 with 1 Axes>"
      ]
     },
     "metadata": {
      "needs_background": "light"
     },
     "output_type": "display_data"
    }
   ],
   "source": [
    "#Visualizing the distribution of char_freq_$:\n",
    "plt.scatter(spam.index, spam['char_freq_$:'])\n",
    "plt.title(\"Percentage of characters in the e-mail that match '$'\")\n",
    "plt.xlabel(\"Index\")\n",
    "plt.ylabel(\"Percentage of characters\")"
   ]
  },
  {
   "cell_type": "code",
   "execution_count": 13,
   "id": "e8ef181d",
   "metadata": {},
   "outputs": [
    {
     "data": {
      "text/plain": [
       "Text(0, 0.5, 'Percentage of characters')"
      ]
     },
     "execution_count": 13,
     "metadata": {},
     "output_type": "execute_result"
    },
    {
     "data": {
      "image/png": "[encoded data removed]",
      "text/plain": [
       "<Figure size 432x288 with 1 Axes>"
      ]
     },
     "metadata": {
      "needs_background": "light"
     },
     "output_type": "display_data"
    }
   ],
   "source": [
    "#Visualizing the distribution of char_freq_$:, grouped by spam and not-spam\n",
    "sns.stripplot(x = spam['spam'], y = spam['char_freq_$:'])\n",
    "plt.title(\"Percentage of characters in the e-mail that match '$', grouped by Spam\")\n",
    "plt.xlabel(\"Spam\")\n",
    "plt.ylabel(\"Percentage of characters\")"
   ]
  },
  {
   "cell_type": "markdown",
   "id": "0407ffe8",
   "metadata": {},
   "source": [
    "### 4) Name each of the supervised learning models that we have learned thus far that are used to predict dependent variables like \"spam\""
   ]
  },
  {
   "cell_type": "markdown",
   "id": "901a73d0",
   "metadata": {},
   "source": [
    "To predict targets like spam, we need the model to be able to conduct classification. So far, we have learned the following classification models:\n",
    "- knn\n",
    "- Logistic Regression (unpenalized)\n",
    "- Penalized Logistic Regression\n",
    "- Support Vector Machines\n",
    "- Decision Trees\n",
    "- Bagged Trees\n",
    "- Random Forests"
   ]
  },
  {
   "cell_type": "markdown",
   "id": "d70e46f4",
   "metadata": {},
   "source": [
    "### 5) Describe the importance of training and test data. Why do we seperate data into these subsets?"
   ]
  },
  {
   "cell_type": "markdown",
   "id": "ad439b0f",
   "metadata": {},
   "source": [
    "In Machine Learning, we split the data between a training set and test set. The models for regression or classification of the target is done using the features in the training set. The objective behind creation of models is not just to perform well on the training set, but to perform well on all unseen data. This is where the test set comes in- these are observations that are set aside before the machine learning model is trained. Once the model is created, we run it on the this test set to assess the model's true accuracy. If we don't set aside a test-set before creating and running a model, we could easily fall in the trap of overfitting where the model would give a very high prediction score on our dataset but would perform poorly on any unseen data. The model would remember the data it is trained on, and thus it would always give the right prediction; just because it performs extremely well on this set would give us no information on whether it would \"generalize\" well on new data. "
   ]
  },
  {
   "cell_type": "markdown",
   "id": "0dbe392a",
   "metadata": {},
   "source": [
    "### 6) What is k-fold cross validation and what do we use it for?"
   ]
  },
  {
   "cell_type": "markdown",
   "id": "dc144066",
   "metadata": {},
   "source": [
    "Cross validation is a method used to assess the accuracy of the prediction model and to generalize the model accuracy on a given data set. Cross validation is deemed to be a more \"stable\" form of testing the accuracy of the model than the traditional train-test-set split method. There's always a chance that the high (or low) training and test-score we receive from splitting the data into just a train and test-set is due to chance; cross-validation allows us to minimize these uncertainties. \n",
    "\n",
    "\n",
    "In k-fold cross validation, the data is first split into k number of equal folds (or parts). The model is then run k number of times; each time a new fold is used as a test set and the rest of the folds are used as the training set to train the model. For example, in the case of a 6-fold cross validation, the data would be split into 6 equal folds and each of the 6 folds will be set aside once as the test set while all other folds are used for training the model. If we use the 1st fold as a test-set, then folds 2-5 will be used to train the model and the accuracy score will be calculated for that model. The next time, a new model will be trained using the folds 1, 3, 4 and 5, and the 2nd fold will be used as the test-set. An accuracy score is computed for each of these k models and then averaged to get the k-fold cross validation score. "
   ]
  },
  {
   "cell_type": "markdown",
   "id": "2887def2",
   "metadata": {},
   "source": [
    "### 7) How is k-fold cross validation different from stratified k-fold cross-valdiation?"
   ]
  },
  {
   "cell_type": "markdown",
   "id": "9eafc8c1",
   "metadata": {},
   "source": [
    "The biggest difference between k-fold cross validation and stratified cross-validation is in how the data is split for the two evaluation methods. Under k-fold cross validation, the data is split into k equal folds, irrespective of the order of the data in the dataset. If the data is organized in a way where (like in the case of the spam dataset) all of the features that correspond to 1 (or the first class) are located at the top of the dataset and all the features that are associated with 0 (or the second class) are located at the tail of the dataset then running a k-fold cross-validation would give us an extremely poor accuracy score.   \n",
    "\n",
    "In stratified k-fold cross validation, the data is split between the different folds on the basis of the proportion of distribution of the classes in the entire dataset. For example, if in the entire dataset 40% of the observations correspond to the first class, then 40% of the observations in each fold would also correspond to the first class. \n",
    "\n",
    "Stratified k-fold cross validation tends to give more reliable estimates of the generalization performance of the model. "
   ]
  },
  {
   "cell_type": "markdown",
   "id": "946171f2",
   "metadata": {},
   "source": [
    "### 8) Choose one model from question four.  Split the data into training and test subsets.  Build a model with the three variables in the dataset that you think will be good predictors of \"spam\".  Describe why you chose any particular parameters for your model (e.g.- if you used KNN how did you decide to choose a specific value for k).  Run the model and evaluate prediction error in two ways: A) On test data directly and B) using k-fold cross-validation. "
   ]
  },
  {
   "cell_type": "code",
   "execution_count": 14,
   "id": "00f792ac",
   "metadata": {},
   "outputs": [
    {
     "name": "stdout",
     "output_type": "stream",
     "text": [
      "(4601, 58)\n",
      "(4601, 3)\n",
      "(4601,)\n"
     ]
    }
   ],
   "source": [
    "from sklearn.model_selection import train_test_split\n",
    "y = spam[\"spam\"]\n",
    "X = spam[[\"capital_run_length_average:\", \"word_freq_meeting:\", \"char_freq_$:\"]]\n",
    "print(spam.shape)\n",
    "print(X.shape)\n",
    "print(y.shape)"
   ]
  },
  {
   "cell_type": "code",
   "execution_count": 15,
   "id": "b8670285",
   "metadata": {},
   "outputs": [
    {
     "data": {
      "text/html": [
       "<div>\n",
       "<style scoped>\n",
       "    .dataframe tbody tr th:only-of-type {\n",
       "        vertical-align: middle;\n",
       "    }\n",
       "\n",
       "    .dataframe tbody tr th {\n",
       "        vertical-align: top;\n",
       "    }\n",
       "\n",
       "    .dataframe thead th {\n",
       "        text-align: right;\n",
       "    }\n",
       "</style>\n",
       "<table border=\"1\" class=\"dataframe\">\n",
       "  <thead>\n",
       "    <tr style=\"text-align: right;\">\n",
       "      <th></th>\n",
       "      <th>capital_run_length_average:</th>\n",
       "      <th>word_freq_meeting:</th>\n",
       "      <th>char_freq_$:</th>\n",
       "    </tr>\n",
       "  </thead>\n",
       "  <tbody>\n",
       "    <tr>\n",
       "      <th>0</th>\n",
       "      <td>3.756</td>\n",
       "      <td>0.0</td>\n",
       "      <td>0.000</td>\n",
       "    </tr>\n",
       "    <tr>\n",
       "      <th>1</th>\n",
       "      <td>5.114</td>\n",
       "      <td>0.0</td>\n",
       "      <td>0.180</td>\n",
       "    </tr>\n",
       "    <tr>\n",
       "      <th>2</th>\n",
       "      <td>9.821</td>\n",
       "      <td>0.0</td>\n",
       "      <td>0.184</td>\n",
       "    </tr>\n",
       "    <tr>\n",
       "      <th>3</th>\n",
       "      <td>3.537</td>\n",
       "      <td>0.0</td>\n",
       "      <td>0.000</td>\n",
       "    </tr>\n",
       "    <tr>\n",
       "      <th>4</th>\n",
       "      <td>3.537</td>\n",
       "      <td>0.0</td>\n",
       "      <td>0.000</td>\n",
       "    </tr>\n",
       "    <tr>\n",
       "      <th>5</th>\n",
       "      <td>3.000</td>\n",
       "      <td>0.0</td>\n",
       "      <td>0.000</td>\n",
       "    </tr>\n",
       "  </tbody>\n",
       "</table>\n",
       "</div>"
      ],
      "text/plain": [
       "   capital_run_length_average:  word_freq_meeting:  char_freq_$:\n",
       "0                        3.756                 0.0         0.000\n",
       "1                        5.114                 0.0         0.180\n",
       "2                        9.821                 0.0         0.184\n",
       "3                        3.537                 0.0         0.000\n",
       "4                        3.537                 0.0         0.000\n",
       "5                        3.000                 0.0         0.000"
      ]
     },
     "execution_count": 15,
     "metadata": {},
     "output_type": "execute_result"
    }
   ],
   "source": [
    "X.head(6)"
   ]
  },
  {
   "cell_type": "code",
   "execution_count": 16,
   "id": "01d864d1",
   "metadata": {},
   "outputs": [
    {
     "name": "stdout",
     "output_type": "stream",
     "text": [
      "(3450, 3)\n",
      "(1151, 3)\n",
      "(3450,)\n",
      "(1151,)\n"
     ]
    }
   ],
   "source": [
    "X_train, X_test, y_train, y_test = train_test_split(X, y, random_state= 0)\n",
    "print(X_train.shape)\n",
    "print(X_test.shape)\n",
    "print(y_train.shape)\n",
    "print(y_test.shape)"
   ]
  },
  {
   "cell_type": "markdown",
   "id": "59d07e0c",
   "metadata": {},
   "source": [
    "KNN Classifier"
   ]
  },
  {
   "cell_type": "code",
   "execution_count": 17,
   "id": "5758e0fc",
   "metadata": {},
   "outputs": [
    {
     "name": "stdout",
     "output_type": "stream",
     "text": [
      "Best mean cross-validation score: 0.8165217391304347\n",
      "Best parameter: {'n_neighbors': 8}\n",
      "\n",
      "Test-set Score: 0.8184187662901824\n",
      "Cross Validation Score on Training-set:0.8165217391304347\n"
     ]
    }
   ],
   "source": [
    "from sklearn.neighbors import KNeighborsClassifier\n",
    "from sklearn.model_selection import GridSearchCV\n",
    "from sklearn.model_selection import cross_val_score\n",
    "#running GridSearchCV to get best parameter (k) for model\n",
    "param_grid = {'n_neighbors': np.arange(1, 10, 1)}\n",
    "grid_knn = GridSearchCV(KNeighborsClassifier(), param_grid)\n",
    "grid_knn.fit(X_train, y_train)\n",
    "print(\"Best mean cross-validation score: {}\".format(grid_knn.best_score_))\n",
    "print(\"Best parameter: {}\\n\".format(grid_knn.best_params_))\n",
    "\n",
    "#Running model with 8 neighbors\n",
    "knn = KNeighborsClassifier(n_neighbors=8)\n",
    "knn.fit(X_train, y_train)\n",
    "print(\"Test-set Score: {}\".format(knn.score(X_test, y_test)))\n",
    "print(\"Cross Validation Score on Training-set:{}\".format(np.mean(cross_val_score(KNeighborsClassifier(n_neighbors=8), X_train, y_train))))"
   ]
  },
  {
   "cell_type": "code",
   "execution_count": 18,
   "id": "3d2219a9",
   "metadata": {
    "scrolled": true
   },
   "outputs": [
    {
     "name": "stdout",
     "output_type": "stream",
     "text": [
      "Test-set Score (Scaled): 0.8192875760208514\n",
      "Cross Validation Score on (Scaled) Training-set:0.8179710144927537\n"
     ]
    }
   ],
   "source": [
    "#Scaling values\n",
    "from sklearn.preprocessing import StandardScaler\n",
    "scaler = StandardScaler().fit(X_train)\n",
    "X_train_scaled = scaler.transform(X_train)\n",
    "X_test_scaled = scaler.transform(X_test)\n",
    "\n",
    "knn.fit(X_train_scaled, y_train)\n",
    "print(\"Test-set Score (Scaled): {}\".format(knn.score(X_test_scaled, y_test)))\n",
    "print(\"Cross Validation Score on (Scaled) Training-set:{}\".format(np.mean(cross_val_score(KNeighborsClassifier(n_neighbors=8), X_train_scaled, y_train))))"
   ]
  },
  {
   "cell_type": "markdown",
   "id": "89b2cd7d",
   "metadata": {},
   "source": [
    "**Conclusion**: I chose to run a knn classifier model for classification of spam using three variables: \"capital_run_length_average:\", \"word_freq_meeting:\", \"char_freq_$:\" from the spam dataset. I ran GridSearchCV to get the best parameter for the model that would give the highest accuracy: 8 neighbors. Setting the parameter to 8 neighbors, I ran the knn model to get the test score and the cross-validation (on training set) score. Then, I scaled the values using StandardScaler and ran the knn model again using 8 neighbors.\n",
    "\n",
    "The scaled knn model with 8 neighbors had better test score and cross validation score than the unscaled knn model with 8 neighbors.  "
   ]
  },
  {
   "cell_type": "markdown",
   "id": "04a3e1aa",
   "metadata": {},
   "source": [
    "### 9) Choose a second model from question four.  Using the same three variables in the dataset that you think will be good predictors of \"spam\".  Describe why you chose any particular parameters for your model (e.g.- if you used KNN how did you decide to choose a specific value for k).  Run the model and evaluate prediction error in two ways: A) On test data directly and B) using k-fold cross-validation.  Did this model predict test data better than your previous model?"
   ]
  },
  {
   "cell_type": "markdown",
   "id": "fc9f915e",
   "metadata": {},
   "source": [
    "Unpenalized Logistic Regression"
   ]
  },
  {
   "cell_type": "code",
   "execution_count": 19,
   "id": "1ea676cf",
   "metadata": {},
   "outputs": [
    {
     "name": "stdout",
     "output_type": "stream",
     "text": [
      "Test-set Score: 0.8001737619461338\n",
      "Cross Validation Score on Training-set: 0.8092753623188406\n",
      "Logistic Regression Coefficients: [[ 0.19936313 -4.22726542 13.35078286]]\n"
     ]
    }
   ],
   "source": [
    "from sklearn.linear_model import LogisticRegression\n",
    "logreg = LogisticRegression(max_iter= 100000,penalty= 'none')\n",
    "logreg.fit(X_train, y_train)\n",
    "print(\"Test-set Score: {}\".format(logreg.score(X_test, y_test)))\n",
    "print(\"Cross Validation Score on Training-set: {}\".format(np.mean(cross_val_score(LogisticRegression(max_iter= 100000, penalty = 'none'), X_train, y_train))))\n",
    "print(\"Logistic Regression Coefficients: {}\".format(logreg.coef_))"
   ]
  },
  {
   "cell_type": "markdown",
   "id": "dd1fd79e",
   "metadata": {},
   "source": [
    "**Conclusion:** For the second model, I chose to run an unpenalized logistic regression model. I didn't have to choose any parameters for this model since it is an unpenalized logistic regression model. I ran the model on the same three variables I chose for the first model. This model predicted data worse than the last model (almost 2% less prediction accuracy on the test set compared to knn model with 8 neighbors)."
   ]
  },
  {
   "cell_type": "markdown",
   "id": "4988f45b",
   "metadata": {},
   "source": [
    "### 10) Choose a third model from question four.  Using the same three variables in the dataset that you think will be good predictors of \"spam\".  Describe why you chose any particular parameters for your model (e.g.- if you used KNN how did you decide to choose a specific value for k). Run the model and evaluate prediction error in two ways: A) On test data directly and B) using k-fold cross-validation.  Did this model predict test data better than your previous models?"
   ]
  },
  {
   "cell_type": "markdown",
   "id": "f9e75ceb",
   "metadata": {},
   "source": [
    "Penalized Logistic Regression"
   ]
  },
  {
   "cell_type": "code",
   "execution_count": 20,
   "id": "e16d7d47",
   "metadata": {},
   "outputs": [
    {
     "name": "stdout",
     "output_type": "stream",
     "text": [
      "Best mean cross-validation score: 0.8095652173913044\n",
      "Best parameter: {'C': 100}\n",
      "\n"
     ]
    }
   ],
   "source": [
    "#Running GridSearchCV to get the best model parameter using scaled values\n",
    "param_grid = {'C': [0.001, 0.01, 0.1, 1, 10, 100, 1000] }\n",
    "grid_plogreg = GridSearchCV(LogisticRegression(penalty ='l2', max_iter = 10000), param_grid)\n",
    "grid_plogreg.fit(X_train_scaled, y_train)\n",
    "print(\"Best mean cross-validation score: {}\".format(grid_plogreg.best_score_))\n",
    "print(\"Best parameter: {}\\n\".format(grid_plogreg.best_params_))"
   ]
  },
  {
   "cell_type": "code",
   "execution_count": 21,
   "id": "80596c21",
   "metadata": {},
   "outputs": [
    {
     "name": "stdout",
     "output_type": "stream",
     "text": [
      "Best mean cross-validation score: 0.8092753623188406\n",
      "Best parameter: {'C': 1000}\n",
      "\n"
     ]
    }
   ],
   "source": [
    "#Running GridSearchCV to get the best model parameter using unscaled values\n",
    "param_grid = {'C': [0.001, 0.01, 0.1, 1, 10, 100, 1000] }\n",
    "grid_plogreg = GridSearchCV(LogisticRegression(penalty ='l2', max_iter = 10000), param_grid)\n",
    "grid_plogreg.fit(X_train, y_train)\n",
    "print(\"Best mean cross-validation score: {}\".format(grid_plogreg.best_score_))\n",
    "print(\"Best parameter: {}\\n\".format(grid_plogreg.best_params_))"
   ]
  },
  {
   "cell_type": "markdown",
   "id": "9d7b3a5b",
   "metadata": {},
   "source": [
    "**GridSearchCV gives a slightly better mean gridsearch cross validation score with scaled values of x and y. Thus, we choose our parameter C = 100.**"
   ]
  },
  {
   "cell_type": "code",
   "execution_count": 22,
   "id": "ca7caf10",
   "metadata": {},
   "outputs": [
    {
     "name": "stdout",
     "output_type": "stream",
     "text": [
      "(Scaled) Test-set Score: 0.7993049522154648\n",
      "Cross Validation Score on (Scaled) Training-set: 0.8095652173913044\n",
      "L2 Penalized Logistic Regression Coefficients (Scaled): [[ 5.52604133 -3.39040846  3.4231632 ]]\n"
     ]
    }
   ],
   "source": [
    "#Running an (l2) penalized logistic regression with parameter C = 100 using scaled values\n",
    "plogreg = LogisticRegression(C = 100, max_iter= 10000, penalty = 'l2')\n",
    "plogreg.fit(X_train_scaled, y_train)\n",
    "print(\"(Scaled) Test-set Score: {}\".format(plogreg.score(X_test_scaled, y_test)))\n",
    "print(\"Cross Validation Score on (Scaled) Training-set: {}\".format(np.mean(cross_val_score(LogisticRegression(C = 100, max_iter= 10000, penalty = 'l2'), X_train_scaled, y_train))))\n",
    "print(\"L2 Penalized Logistic Regression Coefficients (Scaled): {}\".format(plogreg.coef_))"
   ]
  },
  {
   "cell_type": "code",
   "execution_count": 23,
   "id": "2217aaa2",
   "metadata": {},
   "outputs": [
    {
     "name": "stdout",
     "output_type": "stream",
     "text": [
      "Test-set Score: 0.8010425716768028\n",
      "Cross Validation Score on Training-set: 0.8089855072463769\n",
      "L2 Penalized Logistic Regression Coefficients: [[ 0.19958669 -4.18683236 13.27699574]]\n"
     ]
    }
   ],
   "source": [
    "#Running an (l2) penalized logistic regression with parameter C = 100 using unscaled values\n",
    "plogreg.fit(X_train, y_train)\n",
    "print(\"Test-set Score: {}\".format(plogreg.score(X_test, y_test)))\n",
    "print(\"Cross Validation Score on Training-set: {}\".format(np.mean(cross_val_score(LogisticRegression(C = 100, max_iter= 10000, penalty = 'l2'), X_train, y_train))))\n",
    "print(\"L2 Penalized Logistic Regression Coefficients: {}\".format(plogreg.coef_))"
   ]
  },
  {
   "cell_type": "markdown",
   "id": "490456fb",
   "metadata": {},
   "source": [
    "**Conclusion:** For the third model, I ran a penalized logistic regression with l2 penalty. I ran gridsearchCV twice: once with scaled values and once with unscaled values to get the best parameter C. The scaled mean gridsearch cross validation had a slightly better score so I chose to use the parameter chosen by that model: C = 100.\n",
    "\n",
    "I then ran the l2 penalized model twice with C = 100: once with scaled values and once with unscaled values. Of the two models, the scaled values model with C = 100 gave a better cross validation score on the training data. However, the unscaled value model with C = 100 gave a slightly better Test-set score. \n",
    "\n",
    "The unscaled l2 penalized logistic regression model with C = 100 predicted better on the test set but had a minimally worse cross validation score than the unpenalized logsitic regression model. However, the knn scaled model with 8 neighbors has the highest test score and cross validation score of all three models. "
   ]
  },
  {
   "cell_type": "markdown",
   "id": "bc87a8e2",
   "metadata": {},
   "source": [
    "### 11) Choose a fourth model from question four.  Using the same three variables in the dataset that you think will be good predictors of \"spam\".  Describe why you chose any particular parameters for your model (e.g.- if you used KNN how did you decide to choose a specific value for k). Run the model and evaluate prediction error in two ways: A) On test data directly and B) using k-fold cross-validation.  Did this model predict test data better than your previous models?"
   ]
  },
  {
   "cell_type": "markdown",
   "id": "177b7cb7",
   "metadata": {},
   "source": [
    "Support Vector Machines"
   ]
  },
  {
   "cell_type": "code",
   "execution_count": 24,
   "id": "12bdf1e9",
   "metadata": {},
   "outputs": [
    {
     "name": "stdout",
     "output_type": "stream",
     "text": [
      "Best mean cross-validation score: 0.8168115942028986\n",
      "Best parameter: {'C': 1000, 'gamma': 1, 'kernel': 'rbf'}\n",
      "\n"
     ]
    }
   ],
   "source": [
    "#Running GridSearchCV to get best parameters for the SVM model with scaled values\n",
    "from sklearn.svm import SVC\n",
    "param_grid = {'C': [0.1, 1, 10, 100, 1000],\n",
    "              'gamma': [1, 0.1, 0.01, 0.001, 0.0001],\n",
    "              'kernel': ['linear','rbf']}\n",
    "grid_svc = GridSearchCV(SVC(), param_grid)\n",
    "grid_svc.fit(X_train_scaled, y_train)\n",
    "print(\"Best mean cross-validation score: {}\".format(grid_svc.best_score_))\n",
    "print(\"Best parameter: {}\\n\".format(grid_svc.best_params_))"
   ]
  },
  {
   "cell_type": "code",
   "execution_count": 25,
   "id": "905d6401",
   "metadata": {},
   "outputs": [
    {
     "name": "stdout",
     "output_type": "stream",
     "text": [
      "Test-set score: 0.8088618592528236\n",
      "Cross Validation Score on Training-set: 0.8168115942028986\n"
     ]
    }
   ],
   "source": [
    "#Running SVM with C = 1000, gamma = 1, and kernel = rbf\n",
    "model = SVC(C = 1000, gamma = 1, kernel = 'rbf')\n",
    "model.fit(X_train_scaled, y_train)\n",
    "print(\"Test-set score: {}\".format(model.score(X_test_scaled, y_test)))\n",
    "print(\"Cross Validation Score on Training-set: {}\".format(np.mean(cross_val_score(SVC(C = 1000, gamma = 1, kernel = 'rbf'), X_train_scaled, y_train))))"
   ]
  },
  {
   "cell_type": "markdown",
   "id": "302f0a73",
   "metadata": {},
   "source": [
    "***Conclusion:*** I chose to run a Support Vector Classifier (SVM Classifier) model. First, I ran GridSearchCV to get the best parameters (C = 1000, gamma = 1, kernel = rbf). Then I used these parameters to run the Support Vector Classifier using scaled values of the train and test set. \n",
    "\n",
    "SVM Test score and cross validation score are a lot higher than both penalized and unpenalized logistic regression model's test scores and cross validation scores. However, the scaled knn model with 8 neighbors still has higher prediction accuracy score on both the test-set and cross validation when compared to the Support Vector Classifier model. "
   ]
  },
  {
   "cell_type": "markdown",
   "id": "e0dc5cb2",
   "metadata": {},
   "source": [
    "### 12) Now rerun your best model from questions 8 through 11, but this time add three new variables to the model that you think will increase prediction accuracy.   Did this model predict test data better than your previous models? "
   ]
  },
  {
   "cell_type": "markdown",
   "id": "df1d85ea",
   "metadata": {},
   "source": [
    "Running Knn with three additional variables: word_freq_conference:, word_freq_project:, word_freq_money:\n",
    "\n",
    "I added these three variables because I think they should improve the predicive power and accuracy of the model. "
   ]
  },
  {
   "cell_type": "code",
   "execution_count": 26,
   "id": "92603dc4",
   "metadata": {},
   "outputs": [
    {
     "name": "stdout",
     "output_type": "stream",
     "text": [
      "(4601, 58)\n",
      "(4601, 6)\n",
      "(4601,)\n"
     ]
    }
   ],
   "source": [
    "#Creating new X with the six variables\n",
    "X = spam[[\"capital_run_length_average:\", \"word_freq_meeting:\", \"char_freq_$:\", \"word_freq_conference:\", \"word_freq_project:\", \"word_freq_money:\"]]\n",
    "print(spam.shape)\n",
    "print(X.shape)\n",
    "print(y.shape)"
   ]
  },
  {
   "cell_type": "code",
   "execution_count": 27,
   "id": "a3d91e59",
   "metadata": {},
   "outputs": [
    {
     "data": {
      "text/html": [
       "<div>\n",
       "<style scoped>\n",
       "    .dataframe tbody tr th:only-of-type {\n",
       "        vertical-align: middle;\n",
       "    }\n",
       "\n",
       "    .dataframe tbody tr th {\n",
       "        vertical-align: top;\n",
       "    }\n",
       "\n",
       "    .dataframe thead th {\n",
       "        text-align: right;\n",
       "    }\n",
       "</style>\n",
       "<table border=\"1\" class=\"dataframe\">\n",
       "  <thead>\n",
       "    <tr style=\"text-align: right;\">\n",
       "      <th></th>\n",
       "      <th>capital_run_length_average:</th>\n",
       "      <th>word_freq_meeting:</th>\n",
       "      <th>char_freq_$:</th>\n",
       "      <th>word_freq_conference:</th>\n",
       "      <th>word_freq_project:</th>\n",
       "      <th>word_freq_money:</th>\n",
       "    </tr>\n",
       "  </thead>\n",
       "  <tbody>\n",
       "    <tr>\n",
       "      <th>0</th>\n",
       "      <td>3.756</td>\n",
       "      <td>0.0</td>\n",
       "      <td>0.000</td>\n",
       "      <td>0.0</td>\n",
       "      <td>0.0</td>\n",
       "      <td>0.00</td>\n",
       "    </tr>\n",
       "    <tr>\n",
       "      <th>1</th>\n",
       "      <td>5.114</td>\n",
       "      <td>0.0</td>\n",
       "      <td>0.180</td>\n",
       "      <td>0.0</td>\n",
       "      <td>0.0</td>\n",
       "      <td>0.43</td>\n",
       "    </tr>\n",
       "    <tr>\n",
       "      <th>2</th>\n",
       "      <td>9.821</td>\n",
       "      <td>0.0</td>\n",
       "      <td>0.184</td>\n",
       "      <td>0.0</td>\n",
       "      <td>0.0</td>\n",
       "      <td>0.06</td>\n",
       "    </tr>\n",
       "    <tr>\n",
       "      <th>3</th>\n",
       "      <td>3.537</td>\n",
       "      <td>0.0</td>\n",
       "      <td>0.000</td>\n",
       "      <td>0.0</td>\n",
       "      <td>0.0</td>\n",
       "      <td>0.00</td>\n",
       "    </tr>\n",
       "    <tr>\n",
       "      <th>4</th>\n",
       "      <td>3.537</td>\n",
       "      <td>0.0</td>\n",
       "      <td>0.000</td>\n",
       "      <td>0.0</td>\n",
       "      <td>0.0</td>\n",
       "      <td>0.00</td>\n",
       "    </tr>\n",
       "  </tbody>\n",
       "</table>\n",
       "</div>"
      ],
      "text/plain": [
       "   capital_run_length_average:  word_freq_meeting:  char_freq_$:  \\\n",
       "0                        3.756                 0.0         0.000   \n",
       "1                        5.114                 0.0         0.180   \n",
       "2                        9.821                 0.0         0.184   \n",
       "3                        3.537                 0.0         0.000   \n",
       "4                        3.537                 0.0         0.000   \n",
       "\n",
       "   word_freq_conference:  word_freq_project:  word_freq_money:  \n",
       "0                    0.0                 0.0              0.00  \n",
       "1                    0.0                 0.0              0.43  \n",
       "2                    0.0                 0.0              0.06  \n",
       "3                    0.0                 0.0              0.00  \n",
       "4                    0.0                 0.0              0.00  "
      ]
     },
     "execution_count": 27,
     "metadata": {},
     "output_type": "execute_result"
    }
   ],
   "source": [
    "X.head()"
   ]
  },
  {
   "cell_type": "code",
   "execution_count": 28,
   "id": "817bff53",
   "metadata": {},
   "outputs": [
    {
     "name": "stdout",
     "output_type": "stream",
     "text": [
      "(3450, 6)\n",
      "(1151, 6)\n",
      "(3450,)\n",
      "(1151,)\n"
     ]
    }
   ],
   "source": [
    "X_train, X_test, y_train, y_test = train_test_split(X, y, random_state= 0)\n",
    "print(X_train.shape)\n",
    "print(X_test.shape)\n",
    "print(y_train.shape)\n",
    "print(y_test.shape)"
   ]
  },
  {
   "cell_type": "code",
   "execution_count": 29,
   "id": "2d1d7122",
   "metadata": {},
   "outputs": [
    {
     "name": "stdout",
     "output_type": "stream",
     "text": [
      "(3450, 6)\n",
      "(1151, 6)\n"
     ]
    }
   ],
   "source": [
    "#Scaling valuesusing StandardScaler\n",
    "scaler = StandardScaler().fit(X_train)\n",
    "X_train_scaled = scaler.transform(X_train)\n",
    "X_test_scaled = scaler.transform(X_test)\n",
    "print(X_train_scaled.shape)\n",
    "print(X_test_scaled.shape)"
   ]
  },
  {
   "cell_type": "code",
   "execution_count": 30,
   "id": "9b030efd",
   "metadata": {},
   "outputs": [
    {
     "name": "stdout",
     "output_type": "stream",
     "text": [
      "Best mean cross-validation score: 0.8371014492753623\n",
      "Best parameter: {'n_neighbors': 8}\n"
     ]
    }
   ],
   "source": [
    "#Running GridSearchCV \n",
    "param_grid = {'n_neighbors': np.arange(1, 10, 1)}\n",
    "grid_knn = GridSearchCV(KNeighborsClassifier(), param_grid)\n",
    "grid_knn.fit(X_train_scaled, y_train)\n",
    "print(\"Best mean cross-validation score: {}\".format(grid_knn.best_score_))\n",
    "print(\"Best parameter: {}\".format(grid_knn.best_params_))"
   ]
  },
  {
   "cell_type": "code",
   "execution_count": 31,
   "id": "06200abb",
   "metadata": {},
   "outputs": [
    {
     "name": "stdout",
     "output_type": "stream",
     "text": [
      "Test-set score: 0.8218940052128584\n",
      "Cross Validation Score on Training-set: 0.8371014492753623\n"
     ]
    }
   ],
   "source": [
    "#Running a knn model with 8 neighbors\n",
    "knn = KNeighborsClassifier(n_neighbors=8)\n",
    "knn.fit(X_train_scaled, y_train)\n",
    "print(\"Test-set score: {}\".format(knn.score(X_test_scaled, y_test)))\n",
    "print(\"Cross Validation Score on Training-set: {}\".format(np.mean(cross_val_score(KNeighborsClassifier(n_neighbors=8), X_train_scaled, y_train))))"
   ]
  },
  {
   "cell_type": "markdown",
   "id": "517ba159",
   "metadata": {},
   "source": [
    "***Conclusion:*** Yes, this model does predict data more acurately than the previous best model. The knn model with just three neighbors had a test score of 0.819 and cross-validation score of 0.818. The new knn model with 6 variables has a test score of 0.823 and a cross-validation score of 0.837. "
   ]
  },
  {
   "cell_type": "markdown",
   "id": "7b3eaa19",
   "metadata": {},
   "source": [
    "### 13) Rerun all your other models with this final set of six variables, evaluate prediction error, and choose a final model.  Why did you select this model among all of the models that you ran?"
   ]
  },
  {
   "cell_type": "code",
   "execution_count": 32,
   "id": "dc1db688",
   "metadata": {},
   "outputs": [
    {
     "name": "stdout",
     "output_type": "stream",
     "text": [
      "Test-set score: 0.8201563857515204\n",
      "Cross-validation score on Training Set: 0.8257971014492753\n"
     ]
    }
   ],
   "source": [
    "#Logistic Regression (Unpenalized)\n",
    "logreg = LogisticRegression(max_iter= 100000, penalty = 'none')\n",
    "logreg.fit(X_train, y_train)\n",
    "print(\"Test-set score: {}\".format(logreg.score(X_test, y_test)))\n",
    "print(\"Cross-validation score on Training Set: {}\".format(np.mean(cross_val_score(LogisticRegression(max_iter= 100000, penalty = 'none'), X_train, y_train))))"
   ]
  },
  {
   "cell_type": "code",
   "execution_count": 33,
   "id": "a9e920a8",
   "metadata": {},
   "outputs": [
    {
     "name": "stdout",
     "output_type": "stream",
     "text": [
      "Best mean cross-validation score: 0.8257971014492753\n",
      "Best parameter: {'C': 1000}\n"
     ]
    }
   ],
   "source": [
    "#Penalized (L2) Logistic Regression - GridSearchCV\n",
    "param_grid = {'C': [0.001, 0.01, 0.1, 1, 10, 100, 1000] }\n",
    "grid_logreg = GridSearchCV(LogisticRegression(max_iter= 100000, penalty = 'l2'), param_grid)\n",
    "grid_logreg.fit(X_train_scaled, y_train)\n",
    "print(\"Best mean cross-validation score: {}\".format(grid_logreg.best_score_))\n",
    "print(\"Best parameter: {}\".format(grid_logreg.best_params_))"
   ]
  },
  {
   "cell_type": "code",
   "execution_count": 34,
   "id": "4f3f65f1",
   "metadata": {},
   "outputs": [
    {
     "name": "stdout",
     "output_type": "stream",
     "text": [
      "Test-set score: 0.8201563857515204\n",
      "Cross-validation score on Training Set: 0.8257971014492753\n"
     ]
    }
   ],
   "source": [
    "#Penalized (L2) Logistic Regression with C = 1000\n",
    "plogreg = LogisticRegression(max_iter= 100000, penalty = 'l2', C = 1000)\n",
    "plogreg.fit(X_train_scaled, y_train)\n",
    "print(\"Test-set score: {}\".format(plogreg.score(X_test_scaled, y_test)))\n",
    "print(\"Cross-validation score on Training Set: {}\".format(np.mean(cross_val_score(LogisticRegression(max_iter= 100000, penalty = 'l2', C = 1000), X_train_scaled, y_train))))"
   ]
  },
  {
   "cell_type": "code",
   "execution_count": 35,
   "id": "400d1cd4",
   "metadata": {},
   "outputs": [
    {
     "name": "stdout",
     "output_type": "stream",
     "text": [
      "Best mean cross-validation score: 0.8371014492753623\n",
      "Best parameter: {'C': 100, 'gamma': 0.1, 'kernel': 'rbf'}\n",
      "\n"
     ]
    }
   ],
   "source": [
    "#Support Vector Machine Classifier - GridSearchCV\n",
    "param_grid = {'C': [0.1, 1, 10, 100, 1000],\n",
    "              'gamma': [1, 0.1, 0.01, 0.001, 0.0001],\n",
    "              'kernel': ['linear','rbf']}\n",
    "grid_svc = GridSearchCV(SVC(), param_grid)\n",
    "grid_svc.fit(X_train_scaled, y_train)\n",
    "print(\"Best mean cross-validation score: {}\".format(grid_svc.best_score_))\n",
    "print(\"Best parameter: {}\\n\".format(grid_svc.best_params_))"
   ]
  },
  {
   "cell_type": "code",
   "execution_count": 36,
   "id": "8e5409d1",
   "metadata": {},
   "outputs": [
    {
     "name": "stdout",
     "output_type": "stream",
     "text": [
      "Test-set score: 0.8227628149435273\n",
      "Cross-validation score on Training Set: 0.8371014492753623\n"
     ]
    }
   ],
   "source": [
    "model = SVC(C = 100, gamma = 0.1, kernel = 'rbf')\n",
    "model.fit(X_train_scaled, y_train)\n",
    "print(\"Test-set score: {}\".format(model.score(X_test_scaled, y_test)))\n",
    "print(\"Cross-validation score on Training Set: {}\".format(np.mean(cross_val_score(SVC(C = 100, gamma = 0.1, kernel = 'rbf'), X_train_scaled, y_train))))"
   ]
  },
  {
   "cell_type": "markdown",
   "id": "d8c2d9a9",
   "metadata": {},
   "source": [
    "***Conclusion:*** Of all the models, the Support Vector Classifier with C = 100, gamma = 0.1, and kernel = 'rbf' has the highest test-set score and cross-validation score. The knn model with 8 neighbors is the only one that is comparable to the SCV model: however, the knn model's test-set score is slighlty less than the SVM's test-set score. Surprisingly, both of the knn model with 8 neigbbors and the SVC model have the exact same cross-validation set score. \n",
    "___\n",
    "#### Final model: Support Vector Classifier with C = 100, gamma = 0.1, kernel = 'rbf', and scaled values."
   ]
  },
  {
   "cell_type": "markdown",
   "id": "717bfd4c",
   "metadata": {},
   "source": [
    "### 14) What variable that currently is not in your model, if included, would be likely to increase your final model's predictive power?  For this answer try to speculate about a variable outside the variables available in the data that would improve you model."
   ]
  },
  {
   "cell_type": "markdown",
   "id": "b03b1e4b",
   "metadata": {},
   "source": [
    "Some common characteristics of Spam emails include:\n",
    "- Asking for private information (bank account, financial information, etc.) over email\n",
    "- A bizarre string of numbers in the email address\n",
    "- A lot of grammatical errors\n",
    "\n",
    "A variable that is able to capture any of these charcateristics would prove to be very useful in creating a spam detection/classification model. For the first case, a variable that captures the percentage of times 'word_freq_bank:' or 'word_freq_account:'occur in the email could be useful. \n",
    "\n",
    "Additionally, most spam emails are sent in bulk and the greetings don't tend to contain the name of the receiver; if a variable can be created that captures if a greeting in a new email contains the reciever's name or not could be a great feature variable for a spam classification model. "
   ]
  },
  {
   "cell_type": "markdown",
   "id": "9f298ce9",
   "metadata": {},
   "source": [
    "### 15) Lastly, you have listed each of the models that we have learned to use to predict dependent variables like spam.  List each model we have focused on in class thus far that you could use to evaluate data with a continuous dependent variable. "
   ]
  },
  {
   "cell_type": "markdown",
   "id": "b1ff5f18",
   "metadata": {},
   "source": [
    "Models that can have a continuous dependent variable:  \n",
    "- knn\n",
    "- linear regression\n",
    "- ridge\n",
    "- lasso\n",
    "- SVM"
   ]
  }
 ],
 "metadata": {
  "kernelspec": {
   "display_name": "Python 3",
   "language": "python",
   "name": "python3"
  },
  "language_info": {
   "codemirror_mode": {
    "name": "ipython",
    "version": 3
   },
   "file_extension": ".py",
   "mimetype": "text/x-python",
   "name": "python",
   "nbconvert_exporter": "python",
   "pygments_lexer": "ipython3",
   "version": "3.8.8"
  }
 },
 "nbformat": 4,
 "nbformat_minor": 5
}
