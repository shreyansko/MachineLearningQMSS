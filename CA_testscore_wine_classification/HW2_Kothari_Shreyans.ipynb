{
 "cells": [
  {
   "cell_type": "markdown",
   "id": "6452bba6",
   "metadata": {},
   "source": [
    "## Part 1: Regression on California Test Scores"
   ]
  },
  {
   "cell_type": "code",
   "execution_count": 1,
   "id": "81543f03",
   "metadata": {},
   "outputs": [],
   "source": [
    "import pandas as pd\n",
    "import matplotlib as mpl\n",
    "import numpy as np"
   ]
  },
  {
   "cell_type": "markdown",
   "id": "9df88f6b",
   "metadata": {},
   "source": [
    "Importing the Califronia Test Score data set"
   ]
  },
  {
   "cell_type": "code",
   "execution_count": 2,
   "id": "865c8e6e",
   "metadata": {},
   "outputs": [
    {
     "data": {
      "text/html": [
       "<div>\n",
       "<style scoped>\n",
       "    .dataframe tbody tr th:only-of-type {\n",
       "        vertical-align: middle;\n",
       "    }\n",
       "\n",
       "    .dataframe tbody tr th {\n",
       "        vertical-align: top;\n",
       "    }\n",
       "\n",
       "    .dataframe thead th {\n",
       "        text-align: right;\n",
       "    }\n",
       "</style>\n",
       "<table border=\"1\" class=\"dataframe\">\n",
       "  <thead>\n",
       "    <tr style=\"text-align: right;\">\n",
       "      <th></th>\n",
       "      <th>Unnamed: 0</th>\n",
       "      <th>distcod</th>\n",
       "      <th>county</th>\n",
       "      <th>district</th>\n",
       "      <th>grspan</th>\n",
       "      <th>enrltot</th>\n",
       "      <th>teachers</th>\n",
       "      <th>calwpct</th>\n",
       "      <th>mealpct</th>\n",
       "      <th>computer</th>\n",
       "      <th>testscr</th>\n",
       "      <th>compstu</th>\n",
       "      <th>expnstu</th>\n",
       "      <th>str</th>\n",
       "      <th>avginc</th>\n",
       "      <th>elpct</th>\n",
       "      <th>readscr</th>\n",
       "      <th>mathscr</th>\n",
       "    </tr>\n",
       "  </thead>\n",
       "  <tbody>\n",
       "    <tr>\n",
       "      <th>0</th>\n",
       "      <td>1</td>\n",
       "      <td>75119</td>\n",
       "      <td>Alameda</td>\n",
       "      <td>Sunol Glen Unified</td>\n",
       "      <td>KK-08</td>\n",
       "      <td>195</td>\n",
       "      <td>10.900000</td>\n",
       "      <td>0.510200</td>\n",
       "      <td>2.040800</td>\n",
       "      <td>67</td>\n",
       "      <td>690.799988</td>\n",
       "      <td>0.343590</td>\n",
       "      <td>6384.911133</td>\n",
       "      <td>17.889910</td>\n",
       "      <td>22.690001</td>\n",
       "      <td>0.000000</td>\n",
       "      <td>691.599976</td>\n",
       "      <td>690.000000</td>\n",
       "    </tr>\n",
       "    <tr>\n",
       "      <th>1</th>\n",
       "      <td>2</td>\n",
       "      <td>61499</td>\n",
       "      <td>Butte</td>\n",
       "      <td>Manzanita Elementary</td>\n",
       "      <td>KK-08</td>\n",
       "      <td>240</td>\n",
       "      <td>11.150000</td>\n",
       "      <td>15.416700</td>\n",
       "      <td>47.916698</td>\n",
       "      <td>101</td>\n",
       "      <td>661.200012</td>\n",
       "      <td>0.420833</td>\n",
       "      <td>5099.380859</td>\n",
       "      <td>21.524664</td>\n",
       "      <td>9.824000</td>\n",
       "      <td>4.583333</td>\n",
       "      <td>660.500000</td>\n",
       "      <td>661.900024</td>\n",
       "    </tr>\n",
       "    <tr>\n",
       "      <th>2</th>\n",
       "      <td>3</td>\n",
       "      <td>61549</td>\n",
       "      <td>Butte</td>\n",
       "      <td>Thermalito Union Elementary</td>\n",
       "      <td>KK-08</td>\n",
       "      <td>1550</td>\n",
       "      <td>82.900002</td>\n",
       "      <td>55.032299</td>\n",
       "      <td>76.322601</td>\n",
       "      <td>169</td>\n",
       "      <td>643.599976</td>\n",
       "      <td>0.109032</td>\n",
       "      <td>5501.954590</td>\n",
       "      <td>18.697226</td>\n",
       "      <td>8.978000</td>\n",
       "      <td>30.000002</td>\n",
       "      <td>636.299988</td>\n",
       "      <td>650.900024</td>\n",
       "    </tr>\n",
       "    <tr>\n",
       "      <th>3</th>\n",
       "      <td>4</td>\n",
       "      <td>61457</td>\n",
       "      <td>Butte</td>\n",
       "      <td>Golden Feather Union Elementary</td>\n",
       "      <td>KK-08</td>\n",
       "      <td>243</td>\n",
       "      <td>14.000000</td>\n",
       "      <td>36.475399</td>\n",
       "      <td>77.049202</td>\n",
       "      <td>85</td>\n",
       "      <td>647.700012</td>\n",
       "      <td>0.349794</td>\n",
       "      <td>7101.831055</td>\n",
       "      <td>17.357143</td>\n",
       "      <td>8.978000</td>\n",
       "      <td>0.000000</td>\n",
       "      <td>651.900024</td>\n",
       "      <td>643.500000</td>\n",
       "    </tr>\n",
       "    <tr>\n",
       "      <th>4</th>\n",
       "      <td>5</td>\n",
       "      <td>61523</td>\n",
       "      <td>Butte</td>\n",
       "      <td>Palermo Union Elementary</td>\n",
       "      <td>KK-08</td>\n",
       "      <td>1335</td>\n",
       "      <td>71.500000</td>\n",
       "      <td>33.108601</td>\n",
       "      <td>78.427002</td>\n",
       "      <td>171</td>\n",
       "      <td>640.849976</td>\n",
       "      <td>0.128090</td>\n",
       "      <td>5235.987793</td>\n",
       "      <td>18.671329</td>\n",
       "      <td>9.080333</td>\n",
       "      <td>13.857677</td>\n",
       "      <td>641.799988</td>\n",
       "      <td>639.900024</td>\n",
       "    </tr>\n",
       "    <tr>\n",
       "      <th>5</th>\n",
       "      <td>6</td>\n",
       "      <td>62042</td>\n",
       "      <td>Fresno</td>\n",
       "      <td>Burrel Union Elementary</td>\n",
       "      <td>KK-08</td>\n",
       "      <td>137</td>\n",
       "      <td>6.400000</td>\n",
       "      <td>12.318800</td>\n",
       "      <td>86.956497</td>\n",
       "      <td>25</td>\n",
       "      <td>605.550049</td>\n",
       "      <td>0.182482</td>\n",
       "      <td>5580.146973</td>\n",
       "      <td>21.406250</td>\n",
       "      <td>10.415000</td>\n",
       "      <td>12.408759</td>\n",
       "      <td>605.700012</td>\n",
       "      <td>605.400024</td>\n",
       "    </tr>\n",
       "    <tr>\n",
       "      <th>6</th>\n",
       "      <td>7</td>\n",
       "      <td>68536</td>\n",
       "      <td>San Joaquin</td>\n",
       "      <td>Holt Union Elementary</td>\n",
       "      <td>KK-08</td>\n",
       "      <td>195</td>\n",
       "      <td>10.000000</td>\n",
       "      <td>12.903200</td>\n",
       "      <td>94.623703</td>\n",
       "      <td>28</td>\n",
       "      <td>606.750000</td>\n",
       "      <td>0.143590</td>\n",
       "      <td>5253.331055</td>\n",
       "      <td>19.500000</td>\n",
       "      <td>6.577000</td>\n",
       "      <td>68.717949</td>\n",
       "      <td>604.500000</td>\n",
       "      <td>609.000000</td>\n",
       "    </tr>\n",
       "    <tr>\n",
       "      <th>7</th>\n",
       "      <td>8</td>\n",
       "      <td>63834</td>\n",
       "      <td>Kern</td>\n",
       "      <td>Vineland Elementary</td>\n",
       "      <td>KK-08</td>\n",
       "      <td>888</td>\n",
       "      <td>42.500000</td>\n",
       "      <td>18.806299</td>\n",
       "      <td>100.000000</td>\n",
       "      <td>66</td>\n",
       "      <td>609.000000</td>\n",
       "      <td>0.074324</td>\n",
       "      <td>4565.746094</td>\n",
       "      <td>20.894117</td>\n",
       "      <td>8.174000</td>\n",
       "      <td>46.959461</td>\n",
       "      <td>605.500000</td>\n",
       "      <td>612.500000</td>\n",
       "    </tr>\n",
       "    <tr>\n",
       "      <th>8</th>\n",
       "      <td>9</td>\n",
       "      <td>62331</td>\n",
       "      <td>Fresno</td>\n",
       "      <td>Orange Center Elementary</td>\n",
       "      <td>KK-08</td>\n",
       "      <td>379</td>\n",
       "      <td>19.000000</td>\n",
       "      <td>32.189999</td>\n",
       "      <td>93.139801</td>\n",
       "      <td>35</td>\n",
       "      <td>612.500000</td>\n",
       "      <td>0.092348</td>\n",
       "      <td>5355.548340</td>\n",
       "      <td>19.947369</td>\n",
       "      <td>7.385000</td>\n",
       "      <td>30.079157</td>\n",
       "      <td>608.900024</td>\n",
       "      <td>616.099976</td>\n",
       "    </tr>\n",
       "    <tr>\n",
       "      <th>9</th>\n",
       "      <td>10</td>\n",
       "      <td>67306</td>\n",
       "      <td>Sacramento</td>\n",
       "      <td>Del Paso Heights Elementary</td>\n",
       "      <td>KK-06</td>\n",
       "      <td>2247</td>\n",
       "      <td>108.000000</td>\n",
       "      <td>78.994202</td>\n",
       "      <td>87.316399</td>\n",
       "      <td>0</td>\n",
       "      <td>612.650024</td>\n",
       "      <td>0.000000</td>\n",
       "      <td>5036.211426</td>\n",
       "      <td>20.805555</td>\n",
       "      <td>11.613333</td>\n",
       "      <td>40.275921</td>\n",
       "      <td>611.900024</td>\n",
       "      <td>613.400024</td>\n",
       "    </tr>\n",
       "  </tbody>\n",
       "</table>\n",
       "</div>"
      ],
      "text/plain": [
       "   Unnamed: 0  distcod       county                         district grspan  \\\n",
       "0           1    75119      Alameda               Sunol Glen Unified  KK-08   \n",
       "1           2    61499        Butte             Manzanita Elementary  KK-08   \n",
       "2           3    61549        Butte      Thermalito Union Elementary  KK-08   \n",
       "3           4    61457        Butte  Golden Feather Union Elementary  KK-08   \n",
       "4           5    61523        Butte         Palermo Union Elementary  KK-08   \n",
       "5           6    62042       Fresno          Burrel Union Elementary  KK-08   \n",
       "6           7    68536  San Joaquin            Holt Union Elementary  KK-08   \n",
       "7           8    63834         Kern              Vineland Elementary  KK-08   \n",
       "8           9    62331       Fresno         Orange Center Elementary  KK-08   \n",
       "9          10    67306   Sacramento      Del Paso Heights Elementary  KK-06   \n",
       "\n",
       "   enrltot    teachers    calwpct     mealpct  computer     testscr   compstu  \\\n",
       "0      195   10.900000   0.510200    2.040800        67  690.799988  0.343590   \n",
       "1      240   11.150000  15.416700   47.916698       101  661.200012  0.420833   \n",
       "2     1550   82.900002  55.032299   76.322601       169  643.599976  0.109032   \n",
       "3      243   14.000000  36.475399   77.049202        85  647.700012  0.349794   \n",
       "4     1335   71.500000  33.108601   78.427002       171  640.849976  0.128090   \n",
       "5      137    6.400000  12.318800   86.956497        25  605.550049  0.182482   \n",
       "6      195   10.000000  12.903200   94.623703        28  606.750000  0.143590   \n",
       "7      888   42.500000  18.806299  100.000000        66  609.000000  0.074324   \n",
       "8      379   19.000000  32.189999   93.139801        35  612.500000  0.092348   \n",
       "9     2247  108.000000  78.994202   87.316399         0  612.650024  0.000000   \n",
       "\n",
       "       expnstu        str     avginc      elpct     readscr     mathscr  \n",
       "0  6384.911133  17.889910  22.690001   0.000000  691.599976  690.000000  \n",
       "1  5099.380859  21.524664   9.824000   4.583333  660.500000  661.900024  \n",
       "2  5501.954590  18.697226   8.978000  30.000002  636.299988  650.900024  \n",
       "3  7101.831055  17.357143   8.978000   0.000000  651.900024  643.500000  \n",
       "4  5235.987793  18.671329   9.080333  13.857677  641.799988  639.900024  \n",
       "5  5580.146973  21.406250  10.415000  12.408759  605.700012  605.400024  \n",
       "6  5253.331055  19.500000   6.577000  68.717949  604.500000  609.000000  \n",
       "7  4565.746094  20.894117   8.174000  46.959461  605.500000  612.500000  \n",
       "8  5355.548340  19.947369   7.385000  30.079157  608.900024  616.099976  \n",
       "9  5036.211426  20.805555  11.613333  40.275921  611.900024  613.400024  "
      ]
     },
     "execution_count": 2,
     "metadata": {},
     "output_type": "execute_result"
    }
   ],
   "source": [
    "cts = pd.read_csv(\"https://vincentarelbundock.github.io/Rdatasets/csv/Ecdat/Caschool.csv\")\n",
    "cts.head(10)"
   ]
  },
  {
   "cell_type": "markdown",
   "id": "660cdde5",
   "metadata": {},
   "source": [
    "### 1.1 Visualizing univariate distributions of the target: testscr with teachers per student, expenditure per student, and average income"
   ]
  },
  {
   "cell_type": "code",
   "execution_count": 3,
   "id": "2ced9d7c",
   "metadata": {},
   "outputs": [],
   "source": [
    "%matplotlib inline\n",
    "from matplotlib import pyplot as plt"
   ]
  },
  {
   "cell_type": "code",
   "execution_count": 4,
   "id": "949a22b1",
   "metadata": {},
   "outputs": [
    {
     "data": {
      "text/plain": [
       "Text(0.5, 1.0, 'Test scores')"
      ]
     },
     "execution_count": 4,
     "metadata": {},
     "output_type": "execute_result"
    },
    {
     "data": {
      "image/png": "[encoded data removed]",
      "text/plain": [
       "<Figure size 432x288 with 1 Axes>"
      ]
     },
     "metadata": {
      "needs_background": "light"
     },
     "output_type": "display_data"
    }
   ],
   "source": [
    "plt.hist(cts.testscr)\n",
    "plt.title(\"Test scores\")"
   ]
  },
  {
   "cell_type": "code",
   "execution_count": 5,
   "id": "14cee903",
   "metadata": {},
   "outputs": [
    {
     "data": {
      "text/plain": [
       "Text(0.5, 1.0, 'Teachers per students')"
      ]
     },
     "execution_count": 5,
     "metadata": {},
     "output_type": "execute_result"
    },
    {
     "data": {
      "image/png": "[encoded data removed]",
      "text/plain": [
       "<Figure size 432x288 with 1 Axes>"
      ]
     },
     "metadata": {
      "needs_background": "light"
     },
     "output_type": "display_data"
    }
   ],
   "source": [
    "plt.hist(cts.teachers)\n",
    "plt.title(\"Teachers per students\")"
   ]
  },
  {
   "cell_type": "code",
   "execution_count": 6,
   "id": "d81c1c83",
   "metadata": {},
   "outputs": [
    {
     "data": {
      "text/plain": [
       "Text(0.5, 1.0, 'Expenditure per student')"
      ]
     },
     "execution_count": 6,
     "metadata": {},
     "output_type": "execute_result"
    },
    {
     "data": {
      "image/png": "[encoded data removed]",
      "text/plain": [
       "<Figure size 432x288 with 1 Axes>"
      ]
     },
     "metadata": {
      "needs_background": "light"
     },
     "output_type": "display_data"
    }
   ],
   "source": [
    "plt.hist(cts.expnstu)\n",
    "plt.title(\"Expenditure per student\")"
   ]
  },
  {
   "cell_type": "code",
   "execution_count": 7,
   "id": "a7342076",
   "metadata": {},
   "outputs": [
    {
     "data": {
      "text/plain": [
       "Text(0.5, 1.0, 'District average income (in USD 1,000)')"
      ]
     },
     "execution_count": 7,
     "metadata": {},
     "output_type": "execute_result"
    },
    {
     "data": {
      "image/png": "[encoded data removed]",
      "text/plain": [
       "<Figure size 432x288 with 1 Axes>"
      ]
     },
     "metadata": {
      "needs_background": "light"
     },
     "output_type": "display_data"
    }
   ],
   "source": [
    "plt.hist(cts.avginc)\n",
    "plt.title(\"District average income (in USD 1,000)\")"
   ]
  },
  {
   "cell_type": "markdown",
   "id": "9d813e2b",
   "metadata": {},
   "source": [
    "### 1.2 Visualizing the dependency of testscr on each feature"
   ]
  },
  {
   "cell_type": "code",
   "execution_count": 8,
   "id": "1ee8349e",
   "metadata": {},
   "outputs": [
    {
     "data": {
      "text/plain": [
       "Text(0, 0.5, 'Test Scores')"
      ]
     },
     "execution_count": 8,
     "metadata": {},
     "output_type": "execute_result"
    },
    {
     "data": {
      "image/png": "[encoded data removed]",
      "text/plain": [
       "<Figure size 432x288 with 1 Axes>"
      ]
     },
     "metadata": {
      "needs_background": "light"
     },
     "output_type": "display_data"
    }
   ],
   "source": [
    "plt.scatter(data = cts, x = 'teachers', y = 'testscr')\n",
    "plt.title(\"Exploring test scores against teachers\")\n",
    "plt.xlabel(\"Teachers per students\")\n",
    "plt.ylabel(\"Test Scores\")"
   ]
  },
  {
   "cell_type": "markdown",
   "id": "c8e6fbb2",
   "metadata": {},
   "source": [
    "Exploring the relationship between test scores and expenditure per student"
   ]
  },
  {
   "cell_type": "code",
   "execution_count": 9,
   "id": "6045359a",
   "metadata": {},
   "outputs": [
    {
     "data": {
      "text/plain": [
       "Text(0, 0.5, 'Test Scores')"
      ]
     },
     "execution_count": 9,
     "metadata": {},
     "output_type": "execute_result"
    },
    {
     "data": {
      "image/png": "[encoded data removed]",
      "text/plain": [
       "<Figure size 432x288 with 1 Axes>"
      ]
     },
     "metadata": {
      "needs_background": "light"
     },
     "output_type": "display_data"
    }
   ],
   "source": [
    "plt.scatter(data = cts, x = 'expnstu', y = 'testscr')\n",
    "plt.title(\"Exploring test scores against expenditure per student\")\n",
    "plt.xlabel(\"Expenditure per students\")\n",
    "plt.ylabel(\"Test Scores\")"
   ]
  },
  {
   "cell_type": "markdown",
   "id": "5f4a7a6b",
   "metadata": {},
   "source": [
    "Exploring the relationship between test scores and average income"
   ]
  },
  {
   "cell_type": "code",
   "execution_count": 10,
   "id": "9c3cfce0",
   "metadata": {},
   "outputs": [
    {
     "data": {
      "text/plain": [
       "Text(0, 0.5, 'Test Scores')"
      ]
     },
     "execution_count": 10,
     "metadata": {},
     "output_type": "execute_result"
    },
    {
     "data": {
      "image/png": "[encoded data removed]",
      "text/plain": [
       "<Figure size 432x288 with 1 Axes>"
      ]
     },
     "metadata": {
      "needs_background": "light"
     },
     "output_type": "display_data"
    }
   ],
   "source": [
    "plt.scatter(data = cts, x = 'avginc', y = 'testscr')\n",
    "plt.title(\"Exploring test scores against average income\")\n",
    "plt.xlabel(\"average income\")\n",
    "plt.ylabel(\"Test Scores\")"
   ]
  },
  {
   "cell_type": "markdown",
   "id": "598dfda3",
   "metadata": {},
   "source": [
    "### 1.3 Splitting data and running models"
   ]
  },
  {
   "cell_type": "markdown",
   "id": "d2302e8f",
   "metadata": {},
   "source": [
    "Split data in training and test set. Build models that evaluate the relationship between all available X variables in the California test dataset and the target variable. Evaluate KNN for regression, Linear Regression (OLS), Ridge, and Lasso using cross-validation with the default parameters. Does scaling the data with the StandardScaler help?"
   ]
  },
  {
   "cell_type": "code",
   "execution_count": 11,
   "id": "453ed663",
   "metadata": {},
   "outputs": [],
   "source": [
    "y = cts['testscr']\n",
    "X = cts\n",
    "X = X.drop(['Unnamed: 0','distcod', 'county', 'district', 'grspan', 'testscr', 'readscr', 'mathscr'], axis = 1)"
   ]
  },
  {
   "cell_type": "code",
   "execution_count": 12,
   "id": "788c3cf6",
   "metadata": {},
   "outputs": [
    {
     "name": "stdout",
     "output_type": "stream",
     "text": [
      "0    690.799988\n",
      "1    661.200012\n",
      "2    643.599976\n",
      "3    647.700012\n",
      "4    640.849976\n",
      "Name: testscr, dtype: float64\n"
     ]
    },
    {
     "data": {
      "text/plain": [
       "count    420.000000\n",
       "mean     654.156548\n",
       "std       19.053348\n",
       "min      605.550049\n",
       "25%      640.049988\n",
       "50%      654.449982\n",
       "75%      666.662506\n",
       "max      706.750000\n",
       "Name: testscr, dtype: float64"
      ]
     },
     "execution_count": 12,
     "metadata": {},
     "output_type": "execute_result"
    }
   ],
   "source": [
    "print(y[0:5])\n",
    "y.describe()"
   ]
  },
  {
   "cell_type": "code",
   "execution_count": 13,
   "id": "ad840c79",
   "metadata": {},
   "outputs": [
    {
     "data": {
      "text/html": [
       "<div>\n",
       "<style scoped>\n",
       "    .dataframe tbody tr th:only-of-type {\n",
       "        vertical-align: middle;\n",
       "    }\n",
       "\n",
       "    .dataframe tbody tr th {\n",
       "        vertical-align: top;\n",
       "    }\n",
       "\n",
       "    .dataframe thead th {\n",
       "        text-align: right;\n",
       "    }\n",
       "</style>\n",
       "<table border=\"1\" class=\"dataframe\">\n",
       "  <thead>\n",
       "    <tr style=\"text-align: right;\">\n",
       "      <th></th>\n",
       "      <th>enrltot</th>\n",
       "      <th>teachers</th>\n",
       "      <th>calwpct</th>\n",
       "      <th>mealpct</th>\n",
       "      <th>computer</th>\n",
       "      <th>compstu</th>\n",
       "      <th>expnstu</th>\n",
       "      <th>str</th>\n",
       "      <th>avginc</th>\n",
       "      <th>elpct</th>\n",
       "    </tr>\n",
       "  </thead>\n",
       "  <tbody>\n",
       "    <tr>\n",
       "      <th>0</th>\n",
       "      <td>195</td>\n",
       "      <td>10.900000</td>\n",
       "      <td>0.510200</td>\n",
       "      <td>2.040800</td>\n",
       "      <td>67</td>\n",
       "      <td>0.343590</td>\n",
       "      <td>6384.911133</td>\n",
       "      <td>17.889910</td>\n",
       "      <td>22.690001</td>\n",
       "      <td>0.000000</td>\n",
       "    </tr>\n",
       "    <tr>\n",
       "      <th>1</th>\n",
       "      <td>240</td>\n",
       "      <td>11.150000</td>\n",
       "      <td>15.416700</td>\n",
       "      <td>47.916698</td>\n",
       "      <td>101</td>\n",
       "      <td>0.420833</td>\n",
       "      <td>5099.380859</td>\n",
       "      <td>21.524664</td>\n",
       "      <td>9.824000</td>\n",
       "      <td>4.583333</td>\n",
       "    </tr>\n",
       "    <tr>\n",
       "      <th>2</th>\n",
       "      <td>1550</td>\n",
       "      <td>82.900002</td>\n",
       "      <td>55.032299</td>\n",
       "      <td>76.322601</td>\n",
       "      <td>169</td>\n",
       "      <td>0.109032</td>\n",
       "      <td>5501.954590</td>\n",
       "      <td>18.697226</td>\n",
       "      <td>8.978000</td>\n",
       "      <td>30.000002</td>\n",
       "    </tr>\n",
       "    <tr>\n",
       "      <th>3</th>\n",
       "      <td>243</td>\n",
       "      <td>14.000000</td>\n",
       "      <td>36.475399</td>\n",
       "      <td>77.049202</td>\n",
       "      <td>85</td>\n",
       "      <td>0.349794</td>\n",
       "      <td>7101.831055</td>\n",
       "      <td>17.357143</td>\n",
       "      <td>8.978000</td>\n",
       "      <td>0.000000</td>\n",
       "    </tr>\n",
       "    <tr>\n",
       "      <th>4</th>\n",
       "      <td>1335</td>\n",
       "      <td>71.500000</td>\n",
       "      <td>33.108601</td>\n",
       "      <td>78.427002</td>\n",
       "      <td>171</td>\n",
       "      <td>0.128090</td>\n",
       "      <td>5235.987793</td>\n",
       "      <td>18.671329</td>\n",
       "      <td>9.080333</td>\n",
       "      <td>13.857677</td>\n",
       "    </tr>\n",
       "    <tr>\n",
       "      <th>5</th>\n",
       "      <td>137</td>\n",
       "      <td>6.400000</td>\n",
       "      <td>12.318800</td>\n",
       "      <td>86.956497</td>\n",
       "      <td>25</td>\n",
       "      <td>0.182482</td>\n",
       "      <td>5580.146973</td>\n",
       "      <td>21.406250</td>\n",
       "      <td>10.415000</td>\n",
       "      <td>12.408759</td>\n",
       "    </tr>\n",
       "    <tr>\n",
       "      <th>6</th>\n",
       "      <td>195</td>\n",
       "      <td>10.000000</td>\n",
       "      <td>12.903200</td>\n",
       "      <td>94.623703</td>\n",
       "      <td>28</td>\n",
       "      <td>0.143590</td>\n",
       "      <td>5253.331055</td>\n",
       "      <td>19.500000</td>\n",
       "      <td>6.577000</td>\n",
       "      <td>68.717949</td>\n",
       "    </tr>\n",
       "    <tr>\n",
       "      <th>7</th>\n",
       "      <td>888</td>\n",
       "      <td>42.500000</td>\n",
       "      <td>18.806299</td>\n",
       "      <td>100.000000</td>\n",
       "      <td>66</td>\n",
       "      <td>0.074324</td>\n",
       "      <td>4565.746094</td>\n",
       "      <td>20.894117</td>\n",
       "      <td>8.174000</td>\n",
       "      <td>46.959461</td>\n",
       "    </tr>\n",
       "    <tr>\n",
       "      <th>8</th>\n",
       "      <td>379</td>\n",
       "      <td>19.000000</td>\n",
       "      <td>32.189999</td>\n",
       "      <td>93.139801</td>\n",
       "      <td>35</td>\n",
       "      <td>0.092348</td>\n",
       "      <td>5355.548340</td>\n",
       "      <td>19.947369</td>\n",
       "      <td>7.385000</td>\n",
       "      <td>30.079157</td>\n",
       "    </tr>\n",
       "    <tr>\n",
       "      <th>9</th>\n",
       "      <td>2247</td>\n",
       "      <td>108.000000</td>\n",
       "      <td>78.994202</td>\n",
       "      <td>87.316399</td>\n",
       "      <td>0</td>\n",
       "      <td>0.000000</td>\n",
       "      <td>5036.211426</td>\n",
       "      <td>20.805555</td>\n",
       "      <td>11.613333</td>\n",
       "      <td>40.275921</td>\n",
       "    </tr>\n",
       "  </tbody>\n",
       "</table>\n",
       "</div>"
      ],
      "text/plain": [
       "   enrltot    teachers    calwpct     mealpct  computer   compstu  \\\n",
       "0      195   10.900000   0.510200    2.040800        67  0.343590   \n",
       "1      240   11.150000  15.416700   47.916698       101  0.420833   \n",
       "2     1550   82.900002  55.032299   76.322601       169  0.109032   \n",
       "3      243   14.000000  36.475399   77.049202        85  0.349794   \n",
       "4     1335   71.500000  33.108601   78.427002       171  0.128090   \n",
       "5      137    6.400000  12.318800   86.956497        25  0.182482   \n",
       "6      195   10.000000  12.903200   94.623703        28  0.143590   \n",
       "7      888   42.500000  18.806299  100.000000        66  0.074324   \n",
       "8      379   19.000000  32.189999   93.139801        35  0.092348   \n",
       "9     2247  108.000000  78.994202   87.316399         0  0.000000   \n",
       "\n",
       "       expnstu        str     avginc      elpct  \n",
       "0  6384.911133  17.889910  22.690001   0.000000  \n",
       "1  5099.380859  21.524664   9.824000   4.583333  \n",
       "2  5501.954590  18.697226   8.978000  30.000002  \n",
       "3  7101.831055  17.357143   8.978000   0.000000  \n",
       "4  5235.987793  18.671329   9.080333  13.857677  \n",
       "5  5580.146973  21.406250  10.415000  12.408759  \n",
       "6  5253.331055  19.500000   6.577000  68.717949  \n",
       "7  4565.746094  20.894117   8.174000  46.959461  \n",
       "8  5355.548340  19.947369   7.385000  30.079157  \n",
       "9  5036.211426  20.805555  11.613333  40.275921  "
      ]
     },
     "execution_count": 13,
     "metadata": {},
     "output_type": "execute_result"
    }
   ],
   "source": [
    "X.head(10)"
   ]
  },
  {
   "cell_type": "markdown",
   "id": "bf25af32",
   "metadata": {},
   "source": [
    "Splitting data into train and test"
   ]
  },
  {
   "cell_type": "code",
   "execution_count": 14,
   "id": "956599bd",
   "metadata": {},
   "outputs": [
    {
     "name": "stdout",
     "output_type": "stream",
     "text": [
      "(420, 10)\n"
     ]
    },
    {
     "data": {
      "text/plain": [
       "(315, 10)"
      ]
     },
     "execution_count": 14,
     "metadata": {},
     "output_type": "execute_result"
    }
   ],
   "source": [
    "from sklearn.model_selection import train_test_split\n",
    "\n",
    "X_train, X_test, y_train, y_test = train_test_split(X, y, random_state = 0)\n",
    "\n",
    "print(X.shape)\n",
    "X_train.shape"
   ]
  },
  {
   "cell_type": "code",
   "execution_count": 15,
   "id": "d07846d4",
   "metadata": {},
   "outputs": [],
   "source": [
    "from sklearn.model_selection import cross_val_score"
   ]
  },
  {
   "cell_type": "markdown",
   "id": "a95cdbb5",
   "metadata": {},
   "source": [
    "KNN Regression with CV:"
   ]
  },
  {
   "cell_type": "code",
   "execution_count": 16,
   "id": "2619bb3f",
   "metadata": {},
   "outputs": [
    {
     "name": "stdout",
     "output_type": "stream",
     "text": [
      "KNN Test Set Score: -0.024171618599885036\n",
      "Cross Validation Score: 0.056419691811426434\n"
     ]
    }
   ],
   "source": [
    "from sklearn.neighbors import KNeighborsRegressor\n",
    "knn = KNeighborsRegressor()\n",
    "knn.fit(X_train, y_train)\n",
    "print(\"KNN Test Set Score: {}\".format(knn.score(X_test, y_test)))\n",
    "print(\"Cross Validation Score: {}\".format(\n",
    "np.mean(cross_val_score(KNeighborsRegressor(), X_train, y_train))))"
   ]
  },
  {
   "cell_type": "markdown",
   "id": "64a89748",
   "metadata": {},
   "source": [
    "Linear Regression with CV:"
   ]
  },
  {
   "cell_type": "code",
   "execution_count": 17,
   "id": "c6e2c3df",
   "metadata": {},
   "outputs": [
    {
     "name": "stdout",
     "output_type": "stream",
     "text": [
      "lr.coef_: [-6.63772796e-04  6.98908851e-03 -1.36133678e-01 -3.28932668e-01\n",
      "  2.13560444e-03  9.76154170e+00  2.03541995e-03 -1.39945887e-01\n",
      "  6.05434670e-01 -2.04283374e-01]\n",
      "lr.intercept_: 655.8634637868303\n",
      "lr Test Set Score: 0.7993552953872123\n",
      "Cross Validation Score: 0.7944550222758906\n"
     ]
    }
   ],
   "source": [
    "from sklearn.linear_model import LinearRegression\n",
    "lr = LinearRegression()\n",
    "lr.fit(X_train, y_train)\n",
    "print(\"lr.coef_: {}\".format(lr.coef_)) #maintains order, first coeff is for x1, second for x2 and so on..\n",
    "print(\"lr.intercept_: {}\".format(lr.intercept_))\n",
    "print(\"lr Test Set Score: {}\".format(lr.score(X_test, y_test)))\n",
    "print(\"Cross Validation Score: {}\".format(np.mean(cross_val_score(LinearRegression(), X_train, y_train, scoring ='r2'))))"
   ]
  },
  {
   "cell_type": "markdown",
   "id": "328875b0",
   "metadata": {},
   "source": [
    "Lasso with CV:"
   ]
  },
  {
   "cell_type": "code",
   "execution_count": 18,
   "id": "067b2173",
   "metadata": {},
   "outputs": [
    {
     "name": "stdout",
     "output_type": "stream",
     "text": [
      "Number of features used: 8\n",
      "Index(['enrltot', 'teachers', 'calwpct', 'mealpct', 'computer', 'compstu',\n",
      "       'expnstu', 'str', 'avginc', 'elpct'],\n",
      "      dtype='object')\n",
      "Lasso Training set score: 0.8069571040719052\n",
      "Lasso Test set score: 0.7984165014866671\n",
      "Cross Validation Score: 0.7949246913086221\n"
     ]
    }
   ],
   "source": [
    "from sklearn.linear_model import Lasso\n",
    "lasso = Lasso(max_iter = 100000).fit(X_train, y_train)\n",
    "print(\"Number of features used: {}\".format(np.sum(lasso.coef_ != 0))) \n",
    "print(X.columns)\n",
    "print(\"Lasso Training set score: {}\".format(lasso.score(X_train, y_train)))\n",
    "print(\"Lasso Test set score: {}\".format(lasso.score(X_test, y_test)))\n",
    "print(\"Cross Validation Score: {}\".format(np.mean(cross_val_score(Lasso(max_iter = 10000), X_train, y_train, scoring ='r2'))))"
   ]
  },
  {
   "cell_type": "markdown",
   "id": "f98ed19c",
   "metadata": {},
   "source": [
    "Ridge with CV:"
   ]
  },
  {
   "cell_type": "code",
   "execution_count": 19,
   "id": "039d5b65",
   "metadata": {},
   "outputs": [
    {
     "name": "stdout",
     "output_type": "stream",
     "text": [
      "Ridge Training set score: 0.8079092551135484\n",
      "Ridge Test set score: 0.7991087392263193\n",
      "Cross Validation Score: 0.7942492744131302\n"
     ]
    }
   ],
   "source": [
    "from sklearn.linear_model import Ridge\n",
    "ridge = Ridge().fit(X_train, y_train)\n",
    "print(\"Ridge Training set score: {}\".format(ridge.score(X_train, y_train)))\n",
    "print(\"Ridge Test set score: {}\".format(ridge.score(X_test, y_test)))\n",
    "print(\"Cross Validation Score: {}\".format(np.mean(cross_val_score(Ridge(),X_train, y_train, scoring ='r2' ))))"
   ]
  },
  {
   "cell_type": "markdown",
   "id": "17d3ba1b",
   "metadata": {},
   "source": [
    "Scaling data with StandardScaler"
   ]
  },
  {
   "cell_type": "code",
   "execution_count": 20,
   "id": "25d892f6",
   "metadata": {},
   "outputs": [],
   "source": [
    "from sklearn.preprocessing import StandardScaler\n",
    "scaler = StandardScaler().fit(X_train)\n",
    "X_train_scaled = scaler.transform(X_train)\n",
    "X_test_scaled = scaler.transform(X_test)"
   ]
  },
  {
   "cell_type": "code",
   "execution_count": 21,
   "id": "53f641af",
   "metadata": {},
   "outputs": [
    {
     "name": "stdout",
     "output_type": "stream",
     "text": [
      "OLS Training set score: 0.8081261044509858\n",
      "KNN Training set score: 0.8224955889765936\n",
      "lasso Training set score: 0.7989991930195282\n",
      "ridge Training set score: 0.8081043323305925\n"
     ]
    }
   ],
   "source": [
    "lr.fit(X_train_scaled, y_train)\n",
    "knn.fit(X_train_scaled, y_train)\n",
    "lasso = Lasso().fit(X_train_scaled, y_train)\n",
    "ridge = Ridge().fit(X_train_scaled, y_train)\n",
    "print(\"OLS Training set score: {}\".format(lr.score(X_train_scaled, y_train)))\n",
    "print(\"KNN Training set score: {}\".format(knn.score(X_train_scaled, y_train)))\n",
    "print(\"lasso Training set score: {}\".format(lasso.score(X_train_scaled, y_train)))\n",
    "print(\"ridge Training set score: {}\".format(ridge.score(X_train_scaled, y_train)))"
   ]
  },
  {
   "cell_type": "code",
   "execution_count": 22,
   "id": "f7faa68d",
   "metadata": {},
   "outputs": [
    {
     "name": "stdout",
     "output_type": "stream",
     "text": [
      "OLS Test set score: 0.799355295387211\n",
      "KNN Test set score: 0.7291789280885017\n",
      "lasso Test set score: 0.7942528265835384\n",
      "ridge Test set score: 0.7987745139024802\n"
     ]
    }
   ],
   "source": [
    "print(\"OLS Test set score: {}\".format(lr.score(X_test_scaled, y_test)))\n",
    "print(\"KNN Test set score: {}\".format(knn.score(X_test_scaled, y_test)))\n",
    "print(\"lasso Test set score: {}\".format(lasso.score(X_test_scaled, y_test)))\n",
    "print(\"ridge Test set score: {}\".format(ridge.score(X_test_scaled, y_test)))"
   ]
  },
  {
   "cell_type": "code",
   "execution_count": 23,
   "id": "acf52289",
   "metadata": {},
   "outputs": [
    {
     "name": "stdout",
     "output_type": "stream",
     "text": [
      "KNN Cross Validation Score: 0.739300987428608\n",
      "Linear Regression Cross Validation Score: 0.7944550222758906\n",
      "Lasso Cross Validation Score: 0.7875164895598433\n",
      "Ridge Cross Validation Score: 0.7953573083684289\n"
     ]
    }
   ],
   "source": [
    "print(\"KNN Cross Validation Score: {}\".format(cross_val_score(KNeighborsRegressor(), X_train_scaled, y_train).mean()))\n",
    "print(\"Linear Regression Cross Validation Score: {}\".format(np.mean(cross_val_score(LinearRegression(), X_train_scaled, y_train, scoring ='r2'))))\n",
    "print(\"Lasso Cross Validation Score: {}\".format(np.mean(cross_val_score(Lasso(), X_train_scaled, y_train, scoring = 'r2'))))\n",
    "print(\"Ridge Cross Validation Score: {}\".format(np.mean(cross_val_score(Ridge(),X_train_scaled, y_train, scoring = 'r2' ))))"
   ]
  },
  {
   "cell_type": "markdown",
   "id": "ae4430de",
   "metadata": {},
   "source": [
    "Scaling the data affected the Cross Validation Score for each model differently. The biggest improvement was in the KNN model; before scaling, the test score was negative but after scaling the model started perfomring a lot better on the test set. The linear (OLS) model CV and test set score did not change after scaling. The lasso and ridge scores had a minimal reduction in their test scores after scaling."
   ]
  },
  {
   "cell_type": "markdown",
   "id": "b337d58d",
   "metadata": {},
   "source": [
    "### 1.4 Tuning Models with GridSearchCV"
   ]
  },
  {
   "cell_type": "code",
   "execution_count": 24,
   "id": "deea5b6d",
   "metadata": {},
   "outputs": [
    {
     "name": "stdout",
     "output_type": "stream",
     "text": [
      "best mean cross-validation score: 0.05764909413407917\n",
      "best parameters: {'n_neighbors': 6}\n",
      "test-set score: 0.007070614445355061\n"
     ]
    }
   ],
   "source": [
    "#KNN GridSearchCV with unscaled values\n",
    "from sklearn.model_selection import GridSearchCV\n",
    "param_grid = {'n_neighbors': np.arange(1, 10, 1)}\n",
    "grid_knn = GridSearchCV(KNeighborsRegressor(), param_grid)\n",
    "grid_knn.fit(X_train, y_train)\n",
    "print(\"best mean cross-validation score: {}\".format(grid_knn.best_score_))\n",
    "print(\"best parameters: {}\".format(grid_knn.best_params_))\n",
    "print(\"test-set score: {}\".format(grid_knn.score(X_test, y_test)))"
   ]
  },
  {
   "cell_type": "code",
   "execution_count": 25,
   "id": "1655a5e4",
   "metadata": {},
   "outputs": [
    {
     "name": "stdout",
     "output_type": "stream",
     "text": [
      "best mean cross-validation score: 0.7949909551604188\n",
      "best parameters: {'alpha': 0.7500000000000001}\n",
      "test-set score: 0.7984104412137029\n"
     ]
    }
   ],
   "source": [
    "#Lasso GridSearchCV with unscaled values\n",
    "lasso_params = {'alpha':np.arange(0.05, 1, 0.05)}\n",
    "grid_lasso = GridSearchCV(Lasso(max_iter =100000), lasso_params)\n",
    "grid_lasso.fit(X_train, y_train)\n",
    "print(\"best mean cross-validation score: {}\".format(grid_lasso.best_score_))\n",
    "print(\"best parameters: {}\".format(grid_lasso.best_params_))\n",
    "print(\"test-set score: {}\".format(grid_lasso.score(X_test, y_test)))"
   ]
  },
  {
   "cell_type": "code",
   "execution_count": 26,
   "id": "b6dbef4c",
   "metadata": {},
   "outputs": [
    {
     "name": "stdout",
     "output_type": "stream",
     "text": [
      "best mean cross-validation score: 0.7944579849808481\n",
      "best parameters: {'alpha': 0.05}\n",
      "test-set score: 0.7993488472140472\n"
     ]
    }
   ],
   "source": [
    "#Ridge GridSearchCV with unscaled values\n",
    "ridge_params = {'alpha':np.arange(0, 1, 0.05)}\n",
    "grid_ridge = GridSearchCV(Ridge(), ridge_params)\n",
    "grid_ridge.fit(X_train, y_train)\n",
    "print(\"best mean cross-validation score: {}\".format(grid_ridge.best_score_))\n",
    "print(\"best parameters: {}\".format(grid_ridge.best_params_))\n",
    "print(\"test-set score: {}\".format(grid_ridge.score(X_test, y_test)))"
   ]
  },
  {
   "cell_type": "code",
   "execution_count": 27,
   "id": "a966e746",
   "metadata": {},
   "outputs": [
    {
     "name": "stdout",
     "output_type": "stream",
     "text": [
      "best mean cross-validation score: 0.7531474075180512\n",
      "best parameters: {'n_neighbors': 8}\n",
      "test-set score: 0.7000286027040385\n"
     ]
    }
   ],
   "source": [
    "#KNN GridSearchCV with scaled values\n",
    "param_grid = {'n_neighbors': np.arange(1, 10, 1)}\n",
    "grid_knn_scaled = GridSearchCV(KNeighborsRegressor(), param_grid)\n",
    "grid_knn_scaled.fit(X_train_scaled, y_train)\n",
    "print(\"best mean cross-validation score: {}\".format(grid_knn_scaled.best_score_))\n",
    "print(\"best parameters: {}\".format(grid_knn_scaled.best_params_))\n",
    "print(\"test-set score: {}\".format(grid_knn_scaled.score(X_test_scaled, y_test)))\n"
   ]
  },
  {
   "cell_type": "code",
   "execution_count": 28,
   "id": "35099489",
   "metadata": {},
   "outputs": [
    {
     "name": "stdout",
     "output_type": "stream",
     "text": [
      "best mean cross-validation score: 0.7957126479196931\n",
      "best parameters: {'alpha': 0.1}\n",
      "test-set score: 0.7996757041748722\n"
     ]
    }
   ],
   "source": [
    "#Lasso GridSearchCV with scaled values\n",
    "lasso_params = {'alpha':np.arange(0.05, 1, 0.05)}\n",
    "grid_lasso_scaled = GridSearchCV(Lasso(), lasso_params)\n",
    "grid_lasso_scaled.fit(X_train_scaled, y_train)\n",
    "print(\"best mean cross-validation score: {}\".format(grid_lasso_scaled.best_score_))\n",
    "print(\"best parameters: {}\".format(grid_lasso_scaled.best_params_))\n",
    "print(\"test-set score: {}\".format(grid_lasso_scaled.score(X_test_scaled, y_test)))"
   ]
  },
  {
   "cell_type": "code",
   "execution_count": 29,
   "id": "ef9c7f67",
   "metadata": {},
   "outputs": [
    {
     "name": "stdout",
     "output_type": "stream",
     "text": [
      "best mean cross-validation score: 0.7953398931950223\n",
      "best parameters: {'alpha': 0.9500000000000001}\n",
      "test-set score: 0.798804528929947\n"
     ]
    }
   ],
   "source": [
    "#Ridge GridSearchCV with scaled values\n",
    "ridge_params = {'alpha':np.arange(0, 1, 0.05)}\n",
    "grid_ridge_scaled = GridSearchCV(Ridge(), ridge_params)\n",
    "grid_ridge_scaled.fit(X_train_scaled, y_train)\n",
    "print(\"best mean cross-validation score: {}\".format(grid_ridge_scaled.best_score_))\n",
    "print(\"best parameters: {}\".format(grid_ridge_scaled.best_params_))\n",
    "print(\"test-set score: {}\".format(grid_ridge_scaled.score(X_test_scaled, y_test)))"
   ]
  },
  {
   "cell_type": "markdown",
   "id": "8d2021f6",
   "metadata": {},
   "source": [
    "I ran GridSearchCV for KNN, Ridge and Lasso- with and without scaled values. The KNN results improve with both scaled and unscaled values but the scaled knn model has a bigger improvement. In the case of lasso, the values improve minimally with gridserachCV in both scaled and unscaled cases. In the case of Ridge, there is a bigger improvement in the unscaled model than in the scaled model. "
   ]
  },
  {
   "cell_type": "markdown",
   "id": "632b8f40",
   "metadata": {},
   "source": [
    "### 1.5 Comparing Linear Model Coefficients"
   ]
  },
  {
   "cell_type": "code",
   "execution_count": 30,
   "id": "eb91931d",
   "metadata": {},
   "outputs": [
    {
     "name": "stdout",
     "output_type": "stream",
     "text": [
      "Linear Regression Coefficients:\n",
      "[-2.65924605  1.3495415  -1.61906375 -8.97046881  0.93812036  0.64041941\n",
      "  1.30257187 -0.26138847  4.49027776 -3.7413484 ]\n"
     ]
    }
   ],
   "source": [
    "print(\"Linear Regression Coefficients:\\n{}\".format(LinearRegression().fit(X_train_scaled, y_train).coef_))"
   ]
  },
  {
   "cell_type": "code",
   "execution_count": 31,
   "id": "6b50f021",
   "metadata": {},
   "outputs": [
    {
     "name": "stdout",
     "output_type": "stream",
     "text": [
      "Lasso Coefficients:\n",
      "[-0.35138333 -0.         -1.45350443 -9.10949543  0.          0.75375122\n",
      "  1.19755278 -0.2914449   4.50101505 -3.6455013 ]\n"
     ]
    }
   ],
   "source": [
    "print(\"Lasso Coefficients:\\n{}\" .format( Lasso(alpha = 0.1).fit(X_train_scaled, y_train).coef_))"
   ]
  },
  {
   "cell_type": "markdown",
   "id": "3de0cb4e",
   "metadata": {},
   "source": [
    "The two best models - giving the highest test scores and cross valdiation scores - are the linear model with scaled values and the GridSearch Lasso model with scaled values. Although there is no virtual difference between the scaled and unscaled linear models, I chose to use the scaled version for the purpose of this comparision with the lasso scaled model. \n",
    "\n",
    "_____\n",
    "Both models - scaled linear regression, and scaled and tuned lasso - do agree on mealpct having the biggest effect on the feature. However, the lasso model zeroes out two of the features that the linear model considers important: teachers and computer. The rest of the features have similar degrees of influence on the target in both of these models. "
   ]
  },
  {
   "cell_type": "code",
   "execution_count": 32,
   "id": "d2e5c246",
   "metadata": {},
   "outputs": [
    {
     "data": {
      "text/plain": [
       "Index(['enrltot', 'teachers', 'calwpct', 'mealpct', 'computer', 'compstu',\n",
       "       'expnstu', 'str', 'avginc', 'elpct'],\n",
       "      dtype='object')"
      ]
     },
     "execution_count": 32,
     "metadata": {},
     "output_type": "execute_result"
    }
   ],
   "source": [
    "X_train.columns"
   ]
  },
  {
   "cell_type": "markdown",
   "id": "095f5c37",
   "metadata": {},
   "source": [
    "### 1.6 Final Model\n",
    "I would use the tuned Lasso model with scaled values with alpha set to 0.1. This model performs the best out of all the ones explored in this assignment: it has a test score of 0.7996 and a cross validation score of 0.7957. It is also easier to interpret and computationally more feasible than the other models due to reduced number of features."
   ]
  },
  {
   "cell_type": "markdown",
   "id": "0d30a970",
   "metadata": {},
   "source": [
    "## Part 2: Classification on red and white wine characteristics"
   ]
  },
  {
   "cell_type": "markdown",
   "id": "4b09f0ec",
   "metadata": {},
   "source": [
    "### Importing the files into separate dataframes "
   ]
  },
  {
   "cell_type": "code",
   "execution_count": 33,
   "id": "b070afea",
   "metadata": {},
   "outputs": [
    {
     "data": {
      "text/html": [
       "<div>\n",
       "<style scoped>\n",
       "    .dataframe tbody tr th:only-of-type {\n",
       "        vertical-align: middle;\n",
       "    }\n",
       "\n",
       "    .dataframe tbody tr th {\n",
       "        vertical-align: top;\n",
       "    }\n",
       "\n",
       "    .dataframe thead th {\n",
       "        text-align: right;\n",
       "    }\n",
       "</style>\n",
       "<table border=\"1\" class=\"dataframe\">\n",
       "  <thead>\n",
       "    <tr style=\"text-align: right;\">\n",
       "      <th></th>\n",
       "      <th>fixed acidity</th>\n",
       "      <th>volatile acidity</th>\n",
       "      <th>citric acid</th>\n",
       "      <th>residual sugar</th>\n",
       "      <th>chlorides</th>\n",
       "      <th>free sulfur dioxide</th>\n",
       "      <th>total sulfur dioxide</th>\n",
       "      <th>density</th>\n",
       "      <th>pH</th>\n",
       "      <th>sulphates</th>\n",
       "      <th>alcohol</th>\n",
       "      <th>quality</th>\n",
       "      <th>winetype</th>\n",
       "    </tr>\n",
       "  </thead>\n",
       "  <tbody>\n",
       "    <tr>\n",
       "      <th>0</th>\n",
       "      <td>7.4</td>\n",
       "      <td>0.70</td>\n",
       "      <td>0.00</td>\n",
       "      <td>1.9</td>\n",
       "      <td>0.076</td>\n",
       "      <td>11.0</td>\n",
       "      <td>34.0</td>\n",
       "      <td>0.9978</td>\n",
       "      <td>3.51</td>\n",
       "      <td>0.56</td>\n",
       "      <td>9.4</td>\n",
       "      <td>5</td>\n",
       "      <td>1</td>\n",
       "    </tr>\n",
       "    <tr>\n",
       "      <th>1</th>\n",
       "      <td>7.8</td>\n",
       "      <td>0.88</td>\n",
       "      <td>0.00</td>\n",
       "      <td>2.6</td>\n",
       "      <td>0.098</td>\n",
       "      <td>25.0</td>\n",
       "      <td>67.0</td>\n",
       "      <td>0.9968</td>\n",
       "      <td>3.20</td>\n",
       "      <td>0.68</td>\n",
       "      <td>9.8</td>\n",
       "      <td>5</td>\n",
       "      <td>1</td>\n",
       "    </tr>\n",
       "    <tr>\n",
       "      <th>2</th>\n",
       "      <td>7.8</td>\n",
       "      <td>0.76</td>\n",
       "      <td>0.04</td>\n",
       "      <td>2.3</td>\n",
       "      <td>0.092</td>\n",
       "      <td>15.0</td>\n",
       "      <td>54.0</td>\n",
       "      <td>0.9970</td>\n",
       "      <td>3.26</td>\n",
       "      <td>0.65</td>\n",
       "      <td>9.8</td>\n",
       "      <td>5</td>\n",
       "      <td>1</td>\n",
       "    </tr>\n",
       "    <tr>\n",
       "      <th>3</th>\n",
       "      <td>11.2</td>\n",
       "      <td>0.28</td>\n",
       "      <td>0.56</td>\n",
       "      <td>1.9</td>\n",
       "      <td>0.075</td>\n",
       "      <td>17.0</td>\n",
       "      <td>60.0</td>\n",
       "      <td>0.9980</td>\n",
       "      <td>3.16</td>\n",
       "      <td>0.58</td>\n",
       "      <td>9.8</td>\n",
       "      <td>6</td>\n",
       "      <td>1</td>\n",
       "    </tr>\n",
       "    <tr>\n",
       "      <th>4</th>\n",
       "      <td>7.4</td>\n",
       "      <td>0.70</td>\n",
       "      <td>0.00</td>\n",
       "      <td>1.9</td>\n",
       "      <td>0.076</td>\n",
       "      <td>11.0</td>\n",
       "      <td>34.0</td>\n",
       "      <td>0.9978</td>\n",
       "      <td>3.51</td>\n",
       "      <td>0.56</td>\n",
       "      <td>9.4</td>\n",
       "      <td>5</td>\n",
       "      <td>1</td>\n",
       "    </tr>\n",
       "  </tbody>\n",
       "</table>\n",
       "</div>"
      ],
      "text/plain": [
       "   fixed acidity  volatile acidity  citric acid  residual sugar  chlorides  \\\n",
       "0            7.4              0.70         0.00             1.9      0.076   \n",
       "1            7.8              0.88         0.00             2.6      0.098   \n",
       "2            7.8              0.76         0.04             2.3      0.092   \n",
       "3           11.2              0.28         0.56             1.9      0.075   \n",
       "4            7.4              0.70         0.00             1.9      0.076   \n",
       "\n",
       "   free sulfur dioxide  total sulfur dioxide  density    pH  sulphates  \\\n",
       "0                 11.0                  34.0   0.9978  3.51       0.56   \n",
       "1                 25.0                  67.0   0.9968  3.20       0.68   \n",
       "2                 15.0                  54.0   0.9970  3.26       0.65   \n",
       "3                 17.0                  60.0   0.9980  3.16       0.58   \n",
       "4                 11.0                  34.0   0.9978  3.51       0.56   \n",
       "\n",
       "   alcohol  quality  winetype  \n",
       "0      9.4        5         1  \n",
       "1      9.8        5         1  \n",
       "2      9.8        5         1  \n",
       "3      9.8        6         1  \n",
       "4      9.4        5         1  "
      ]
     },
     "execution_count": 33,
     "metadata": {},
     "output_type": "execute_result"
    }
   ],
   "source": [
    "redwine = pd.read_csv(\"https://archive.ics.uci.edu/ml/machine-learning-databases/wine-quality/winequality-red.csv\", sep=';')\n",
    "redwine['winetype'] = 1\n",
    "redwine.head(5)"
   ]
  },
  {
   "cell_type": "code",
   "execution_count": 34,
   "id": "0838de23",
   "metadata": {},
   "outputs": [
    {
     "data": {
      "text/html": [
       "<div>\n",
       "<style scoped>\n",
       "    .dataframe tbody tr th:only-of-type {\n",
       "        vertical-align: middle;\n",
       "    }\n",
       "\n",
       "    .dataframe tbody tr th {\n",
       "        vertical-align: top;\n",
       "    }\n",
       "\n",
       "    .dataframe thead th {\n",
       "        text-align: right;\n",
       "    }\n",
       "</style>\n",
       "<table border=\"1\" class=\"dataframe\">\n",
       "  <thead>\n",
       "    <tr style=\"text-align: right;\">\n",
       "      <th></th>\n",
       "      <th>fixed acidity</th>\n",
       "      <th>volatile acidity</th>\n",
       "      <th>citric acid</th>\n",
       "      <th>residual sugar</th>\n",
       "      <th>chlorides</th>\n",
       "      <th>free sulfur dioxide</th>\n",
       "      <th>total sulfur dioxide</th>\n",
       "      <th>density</th>\n",
       "      <th>pH</th>\n",
       "      <th>sulphates</th>\n",
       "      <th>alcohol</th>\n",
       "      <th>quality</th>\n",
       "      <th>winetype</th>\n",
       "    </tr>\n",
       "  </thead>\n",
       "  <tbody>\n",
       "    <tr>\n",
       "      <th>0</th>\n",
       "      <td>7.0</td>\n",
       "      <td>0.27</td>\n",
       "      <td>0.36</td>\n",
       "      <td>20.7</td>\n",
       "      <td>0.045</td>\n",
       "      <td>45.0</td>\n",
       "      <td>170.0</td>\n",
       "      <td>1.0010</td>\n",
       "      <td>3.00</td>\n",
       "      <td>0.45</td>\n",
       "      <td>8.8</td>\n",
       "      <td>6</td>\n",
       "      <td>0</td>\n",
       "    </tr>\n",
       "    <tr>\n",
       "      <th>1</th>\n",
       "      <td>6.3</td>\n",
       "      <td>0.30</td>\n",
       "      <td>0.34</td>\n",
       "      <td>1.6</td>\n",
       "      <td>0.049</td>\n",
       "      <td>14.0</td>\n",
       "      <td>132.0</td>\n",
       "      <td>0.9940</td>\n",
       "      <td>3.30</td>\n",
       "      <td>0.49</td>\n",
       "      <td>9.5</td>\n",
       "      <td>6</td>\n",
       "      <td>0</td>\n",
       "    </tr>\n",
       "    <tr>\n",
       "      <th>2</th>\n",
       "      <td>8.1</td>\n",
       "      <td>0.28</td>\n",
       "      <td>0.40</td>\n",
       "      <td>6.9</td>\n",
       "      <td>0.050</td>\n",
       "      <td>30.0</td>\n",
       "      <td>97.0</td>\n",
       "      <td>0.9951</td>\n",
       "      <td>3.26</td>\n",
       "      <td>0.44</td>\n",
       "      <td>10.1</td>\n",
       "      <td>6</td>\n",
       "      <td>0</td>\n",
       "    </tr>\n",
       "    <tr>\n",
       "      <th>3</th>\n",
       "      <td>7.2</td>\n",
       "      <td>0.23</td>\n",
       "      <td>0.32</td>\n",
       "      <td>8.5</td>\n",
       "      <td>0.058</td>\n",
       "      <td>47.0</td>\n",
       "      <td>186.0</td>\n",
       "      <td>0.9956</td>\n",
       "      <td>3.19</td>\n",
       "      <td>0.40</td>\n",
       "      <td>9.9</td>\n",
       "      <td>6</td>\n",
       "      <td>0</td>\n",
       "    </tr>\n",
       "    <tr>\n",
       "      <th>4</th>\n",
       "      <td>7.2</td>\n",
       "      <td>0.23</td>\n",
       "      <td>0.32</td>\n",
       "      <td>8.5</td>\n",
       "      <td>0.058</td>\n",
       "      <td>47.0</td>\n",
       "      <td>186.0</td>\n",
       "      <td>0.9956</td>\n",
       "      <td>3.19</td>\n",
       "      <td>0.40</td>\n",
       "      <td>9.9</td>\n",
       "      <td>6</td>\n",
       "      <td>0</td>\n",
       "    </tr>\n",
       "  </tbody>\n",
       "</table>\n",
       "</div>"
      ],
      "text/plain": [
       "   fixed acidity  volatile acidity  citric acid  residual sugar  chlorides  \\\n",
       "0            7.0              0.27         0.36            20.7      0.045   \n",
       "1            6.3              0.30         0.34             1.6      0.049   \n",
       "2            8.1              0.28         0.40             6.9      0.050   \n",
       "3            7.2              0.23         0.32             8.5      0.058   \n",
       "4            7.2              0.23         0.32             8.5      0.058   \n",
       "\n",
       "   free sulfur dioxide  total sulfur dioxide  density    pH  sulphates  \\\n",
       "0                 45.0                 170.0   1.0010  3.00       0.45   \n",
       "1                 14.0                 132.0   0.9940  3.30       0.49   \n",
       "2                 30.0                  97.0   0.9951  3.26       0.44   \n",
       "3                 47.0                 186.0   0.9956  3.19       0.40   \n",
       "4                 47.0                 186.0   0.9956  3.19       0.40   \n",
       "\n",
       "   alcohol  quality  winetype  \n",
       "0      8.8        6         0  \n",
       "1      9.5        6         0  \n",
       "2     10.1        6         0  \n",
       "3      9.9        6         0  \n",
       "4      9.9        6         0  "
      ]
     },
     "execution_count": 34,
     "metadata": {},
     "output_type": "execute_result"
    }
   ],
   "source": [
    "whitewine = pd.read_csv(\"https://archive.ics.uci.edu/ml/machine-learning-databases/wine-quality/winequality-white.csv\", sep=';')\n",
    "whitewine['winetype'] = 0\n",
    "whitewine.head(5)"
   ]
  },
  {
   "cell_type": "code",
   "execution_count": 35,
   "id": "ffef63ed",
   "metadata": {},
   "outputs": [],
   "source": [
    "wines = [redwine, whitewine]\n",
    "wine_char = pd.concat(wines)"
   ]
  },
  {
   "cell_type": "code",
   "execution_count": 36,
   "id": "8cbb7137",
   "metadata": {},
   "outputs": [
    {
     "data": {
      "text/plain": [
       "(1599, 13)"
      ]
     },
     "execution_count": 36,
     "metadata": {},
     "output_type": "execute_result"
    }
   ],
   "source": [
    "redwine.shape"
   ]
  },
  {
   "cell_type": "code",
   "execution_count": 37,
   "id": "e226a437",
   "metadata": {},
   "outputs": [
    {
     "data": {
      "text/plain": [
       "(4898, 13)"
      ]
     },
     "execution_count": 37,
     "metadata": {},
     "output_type": "execute_result"
    }
   ],
   "source": [
    "whitewine.shape"
   ]
  },
  {
   "cell_type": "code",
   "execution_count": 38,
   "id": "fb9a1fad",
   "metadata": {},
   "outputs": [
    {
     "data": {
      "text/plain": [
       "(6497, 13)"
      ]
     },
     "execution_count": 38,
     "metadata": {},
     "output_type": "execute_result"
    }
   ],
   "source": [
    "wine_char.shape"
   ]
  },
  {
   "cell_type": "markdown",
   "id": "4536a724",
   "metadata": {},
   "source": [
    "### 2.1: Visualizing univariate distribution"
   ]
  },
  {
   "cell_type": "code",
   "execution_count": 39,
   "id": "da1fae12",
   "metadata": {},
   "outputs": [
    {
     "data": {
      "text/plain": [
       "Index(['fixed acidity', 'volatile acidity', 'citric acid', 'residual sugar',\n",
       "       'chlorides', 'free sulfur dioxide', 'total sulfur dioxide', 'density',\n",
       "       'pH', 'sulphates', 'alcohol', 'quality', 'winetype'],\n",
       "      dtype='object')"
      ]
     },
     "execution_count": 39,
     "metadata": {},
     "output_type": "execute_result"
    }
   ],
   "source": [
    "wine_char.columns"
   ]
  },
  {
   "cell_type": "code",
   "execution_count": 40,
   "id": "a4b2e718",
   "metadata": {},
   "outputs": [
    {
     "data": {
      "text/plain": [
       "array([[<AxesSubplot:title={'center':'winetype'}>]], dtype=object)"
      ]
     },
     "execution_count": 40,
     "metadata": {},
     "output_type": "execute_result"
    },
    {
     "data": {
      "image/png": "[encoded data removed]",
      "text/plain": [
       "<Figure size 432x288 with 1 Axes>"
      ]
     },
     "metadata": {
      "needs_background": "light"
     },
     "output_type": "display_data"
    }
   ],
   "source": [
    "wine_char.hist(['winetype'])"
   ]
  },
  {
   "cell_type": "markdown",
   "id": "a7ca5d4b",
   "metadata": {},
   "source": [
    "Volatile Acidity"
   ]
  },
  {
   "cell_type": "code",
   "execution_count": 41,
   "id": "8e29b5dc",
   "metadata": {},
   "outputs": [
    {
     "data": {
      "text/plain": [
       "array([[<AxesSubplot:title={'center':'volatile acidity'}>]], dtype=object)"
      ]
     },
     "execution_count": 41,
     "metadata": {},
     "output_type": "execute_result"
    },
    {
     "data": {
      "image/png": "[encoded data removed]",
      "text/plain": [
       "<Figure size 432x288 with 2 Axes>"
      ]
     },
     "metadata": {
      "needs_background": "light"
     },
     "output_type": "display_data"
    },
    {
     "data": {
      "image/png": "[encoded data removed]",
      "text/plain": [
       "<Figure size 432x288 with 1 Axes>"
      ]
     },
     "metadata": {
      "needs_background": "light"
     },
     "output_type": "display_data"
    }
   ],
   "source": [
    "wine_char.hist(['volatile acidity'], by=wine_char['winetype'])\n",
    "wine_char.hist(['volatile acidity'])"
   ]
  },
  {
   "cell_type": "markdown",
   "id": "b5d93659",
   "metadata": {},
   "source": [
    "Residual Sugar"
   ]
  },
  {
   "cell_type": "code",
   "execution_count": 42,
   "id": "6eaebf64",
   "metadata": {},
   "outputs": [
    {
     "data": {
      "text/plain": [
       "array([[<AxesSubplot:title={'center':'residual sugar'}>]], dtype=object)"
      ]
     },
     "execution_count": 42,
     "metadata": {},
     "output_type": "execute_result"
    },
    {
     "data": {
      "image/png": "[encoded data removed]",
      "text/plain": [
       "<Figure size 432x288 with 2 Axes>"
      ]
     },
     "metadata": {
      "needs_background": "light"
     },
     "output_type": "display_data"
    },
    {
     "data": {
      "image/png": "[encoded data removed]",
      "text/plain": [
       "<Figure size 432x288 with 1 Axes>"
      ]
     },
     "metadata": {
      "needs_background": "light"
     },
     "output_type": "display_data"
    }
   ],
   "source": [
    "wine_char.hist(['residual sugar'], by=wine_char['winetype'])\n",
    "wine_char.hist(['residual sugar'])"
   ]
  },
  {
   "cell_type": "markdown",
   "id": "5204de08",
   "metadata": {},
   "source": [
    "Total Sulfur Dioxide"
   ]
  },
  {
   "cell_type": "code",
   "execution_count": 43,
   "id": "056b8246",
   "metadata": {},
   "outputs": [
    {
     "data": {
      "text/plain": [
       "array([[<AxesSubplot:title={'center':'total sulfur dioxide'}>]],\n",
       "      dtype=object)"
      ]
     },
     "execution_count": 43,
     "metadata": {},
     "output_type": "execute_result"
    },
    {
     "data": {
      "image/png": "[encoded data removed]",
      "text/plain": [
       "<Figure size 432x288 with 2 Axes>"
      ]
     },
     "metadata": {
      "needs_background": "light"
     },
     "output_type": "display_data"
    },
    {
     "data": {
      "image/png": "[encoded data removed]",
      "text/plain": [
       "<Figure size 432x288 with 1 Axes>"
      ]
     },
     "metadata": {
      "needs_background": "light"
     },
     "output_type": "display_data"
    }
   ],
   "source": [
    "wine_char.hist(['total sulfur dioxide'], by=wine_char['winetype'])\n",
    "wine_char.hist(['total sulfur dioxide'])"
   ]
  },
  {
   "cell_type": "markdown",
   "id": "57b958b3",
   "metadata": {},
   "source": [
    "### 2.2: Splitting data and running models"
   ]
  },
  {
   "cell_type": "code",
   "execution_count": 44,
   "id": "3a417fca",
   "metadata": {},
   "outputs": [],
   "source": [
    "y = wine_char['winetype']"
   ]
  },
  {
   "cell_type": "code",
   "execution_count": 45,
   "id": "7b64c850",
   "metadata": {},
   "outputs": [],
   "source": [
    "X = wine_char\n",
    "X = X.drop(['winetype'], axis = 1)"
   ]
  },
  {
   "cell_type": "code",
   "execution_count": 46,
   "id": "3818d1d0",
   "metadata": {
    "scrolled": true
   },
   "outputs": [
    {
     "data": {
      "text/plain": [
       "(6497, 12)"
      ]
     },
     "execution_count": 46,
     "metadata": {},
     "output_type": "execute_result"
    }
   ],
   "source": [
    "X.shape"
   ]
  },
  {
   "cell_type": "code",
   "execution_count": 47,
   "id": "dd221b5b",
   "metadata": {},
   "outputs": [
    {
     "data": {
      "text/html": [
       "<div>\n",
       "<style scoped>\n",
       "    .dataframe tbody tr th:only-of-type {\n",
       "        vertical-align: middle;\n",
       "    }\n",
       "\n",
       "    .dataframe tbody tr th {\n",
       "        vertical-align: top;\n",
       "    }\n",
       "\n",
       "    .dataframe thead th {\n",
       "        text-align: right;\n",
       "    }\n",
       "</style>\n",
       "<table border=\"1\" class=\"dataframe\">\n",
       "  <thead>\n",
       "    <tr style=\"text-align: right;\">\n",
       "      <th></th>\n",
       "      <th>fixed acidity</th>\n",
       "      <th>volatile acidity</th>\n",
       "      <th>citric acid</th>\n",
       "      <th>residual sugar</th>\n",
       "      <th>chlorides</th>\n",
       "      <th>free sulfur dioxide</th>\n",
       "      <th>total sulfur dioxide</th>\n",
       "      <th>density</th>\n",
       "      <th>pH</th>\n",
       "      <th>sulphates</th>\n",
       "      <th>alcohol</th>\n",
       "      <th>quality</th>\n",
       "    </tr>\n",
       "  </thead>\n",
       "  <tbody>\n",
       "    <tr>\n",
       "      <th>0</th>\n",
       "      <td>7.4</td>\n",
       "      <td>0.70</td>\n",
       "      <td>0.00</td>\n",
       "      <td>1.9</td>\n",
       "      <td>0.076</td>\n",
       "      <td>11.0</td>\n",
       "      <td>34.0</td>\n",
       "      <td>0.9978</td>\n",
       "      <td>3.51</td>\n",
       "      <td>0.56</td>\n",
       "      <td>9.4</td>\n",
       "      <td>5</td>\n",
       "    </tr>\n",
       "    <tr>\n",
       "      <th>1</th>\n",
       "      <td>7.8</td>\n",
       "      <td>0.88</td>\n",
       "      <td>0.00</td>\n",
       "      <td>2.6</td>\n",
       "      <td>0.098</td>\n",
       "      <td>25.0</td>\n",
       "      <td>67.0</td>\n",
       "      <td>0.9968</td>\n",
       "      <td>3.20</td>\n",
       "      <td>0.68</td>\n",
       "      <td>9.8</td>\n",
       "      <td>5</td>\n",
       "    </tr>\n",
       "    <tr>\n",
       "      <th>2</th>\n",
       "      <td>7.8</td>\n",
       "      <td>0.76</td>\n",
       "      <td>0.04</td>\n",
       "      <td>2.3</td>\n",
       "      <td>0.092</td>\n",
       "      <td>15.0</td>\n",
       "      <td>54.0</td>\n",
       "      <td>0.9970</td>\n",
       "      <td>3.26</td>\n",
       "      <td>0.65</td>\n",
       "      <td>9.8</td>\n",
       "      <td>5</td>\n",
       "    </tr>\n",
       "    <tr>\n",
       "      <th>3</th>\n",
       "      <td>11.2</td>\n",
       "      <td>0.28</td>\n",
       "      <td>0.56</td>\n",
       "      <td>1.9</td>\n",
       "      <td>0.075</td>\n",
       "      <td>17.0</td>\n",
       "      <td>60.0</td>\n",
       "      <td>0.9980</td>\n",
       "      <td>3.16</td>\n",
       "      <td>0.58</td>\n",
       "      <td>9.8</td>\n",
       "      <td>6</td>\n",
       "    </tr>\n",
       "    <tr>\n",
       "      <th>4</th>\n",
       "      <td>7.4</td>\n",
       "      <td>0.70</td>\n",
       "      <td>0.00</td>\n",
       "      <td>1.9</td>\n",
       "      <td>0.076</td>\n",
       "      <td>11.0</td>\n",
       "      <td>34.0</td>\n",
       "      <td>0.9978</td>\n",
       "      <td>3.51</td>\n",
       "      <td>0.56</td>\n",
       "      <td>9.4</td>\n",
       "      <td>5</td>\n",
       "    </tr>\n",
       "  </tbody>\n",
       "</table>\n",
       "</div>"
      ],
      "text/plain": [
       "   fixed acidity  volatile acidity  citric acid  residual sugar  chlorides  \\\n",
       "0            7.4              0.70         0.00             1.9      0.076   \n",
       "1            7.8              0.88         0.00             2.6      0.098   \n",
       "2            7.8              0.76         0.04             2.3      0.092   \n",
       "3           11.2              0.28         0.56             1.9      0.075   \n",
       "4            7.4              0.70         0.00             1.9      0.076   \n",
       "\n",
       "   free sulfur dioxide  total sulfur dioxide  density    pH  sulphates  \\\n",
       "0                 11.0                  34.0   0.9978  3.51       0.56   \n",
       "1                 25.0                  67.0   0.9968  3.20       0.68   \n",
       "2                 15.0                  54.0   0.9970  3.26       0.65   \n",
       "3                 17.0                  60.0   0.9980  3.16       0.58   \n",
       "4                 11.0                  34.0   0.9978  3.51       0.56   \n",
       "\n",
       "   alcohol  quality  \n",
       "0      9.4        5  \n",
       "1      9.8        5  \n",
       "2      9.8        5  \n",
       "3      9.8        6  \n",
       "4      9.4        5  "
      ]
     },
     "execution_count": 47,
     "metadata": {},
     "output_type": "execute_result"
    }
   ],
   "source": [
    "X.head(5)"
   ]
  },
  {
   "cell_type": "code",
   "execution_count": 48,
   "id": "aa2d2143",
   "metadata": {},
   "outputs": [],
   "source": [
    "#Renaming vriables for ease of analysis\n",
    "?X.rename"
   ]
  },
  {
   "cell_type": "code",
   "execution_count": 49,
   "id": "251c714f",
   "metadata": {},
   "outputs": [],
   "source": [
    "X = X.rename(columns = {\"fixed acidity\":\"fixed_acid\", \"volatile acidity\": \"volat_acid\", \"citric acid\":\"cit_acid\",\n",
    "                       \"residual sugar\": \"resid_sugar\", \"free sulfur dioxide\":\"free_sulf_diox\", \n",
    "                        \"total sulfur dioxide\": \"tot_sulf_diox\"})"
   ]
  },
  {
   "cell_type": "code",
   "execution_count": 50,
   "id": "016ee800",
   "metadata": {},
   "outputs": [
    {
     "data": {
      "text/html": [
       "<div>\n",
       "<style scoped>\n",
       "    .dataframe tbody tr th:only-of-type {\n",
       "        vertical-align: middle;\n",
       "    }\n",
       "\n",
       "    .dataframe tbody tr th {\n",
       "        vertical-align: top;\n",
       "    }\n",
       "\n",
       "    .dataframe thead th {\n",
       "        text-align: right;\n",
       "    }\n",
       "</style>\n",
       "<table border=\"1\" class=\"dataframe\">\n",
       "  <thead>\n",
       "    <tr style=\"text-align: right;\">\n",
       "      <th></th>\n",
       "      <th>fixed_acid</th>\n",
       "      <th>volat_acid</th>\n",
       "      <th>cit_acid</th>\n",
       "      <th>resid_sugar</th>\n",
       "      <th>chlorides</th>\n",
       "      <th>free_sulf_diox</th>\n",
       "      <th>tot_sulf_diox</th>\n",
       "      <th>density</th>\n",
       "      <th>pH</th>\n",
       "      <th>sulphates</th>\n",
       "      <th>alcohol</th>\n",
       "      <th>quality</th>\n",
       "    </tr>\n",
       "  </thead>\n",
       "  <tbody>\n",
       "    <tr>\n",
       "      <th>0</th>\n",
       "      <td>7.4</td>\n",
       "      <td>0.70</td>\n",
       "      <td>0.00</td>\n",
       "      <td>1.9</td>\n",
       "      <td>0.076</td>\n",
       "      <td>11.0</td>\n",
       "      <td>34.0</td>\n",
       "      <td>0.9978</td>\n",
       "      <td>3.51</td>\n",
       "      <td>0.56</td>\n",
       "      <td>9.4</td>\n",
       "      <td>5</td>\n",
       "    </tr>\n",
       "    <tr>\n",
       "      <th>1</th>\n",
       "      <td>7.8</td>\n",
       "      <td>0.88</td>\n",
       "      <td>0.00</td>\n",
       "      <td>2.6</td>\n",
       "      <td>0.098</td>\n",
       "      <td>25.0</td>\n",
       "      <td>67.0</td>\n",
       "      <td>0.9968</td>\n",
       "      <td>3.20</td>\n",
       "      <td>0.68</td>\n",
       "      <td>9.8</td>\n",
       "      <td>5</td>\n",
       "    </tr>\n",
       "    <tr>\n",
       "      <th>2</th>\n",
       "      <td>7.8</td>\n",
       "      <td>0.76</td>\n",
       "      <td>0.04</td>\n",
       "      <td>2.3</td>\n",
       "      <td>0.092</td>\n",
       "      <td>15.0</td>\n",
       "      <td>54.0</td>\n",
       "      <td>0.9970</td>\n",
       "      <td>3.26</td>\n",
       "      <td>0.65</td>\n",
       "      <td>9.8</td>\n",
       "      <td>5</td>\n",
       "    </tr>\n",
       "    <tr>\n",
       "      <th>3</th>\n",
       "      <td>11.2</td>\n",
       "      <td>0.28</td>\n",
       "      <td>0.56</td>\n",
       "      <td>1.9</td>\n",
       "      <td>0.075</td>\n",
       "      <td>17.0</td>\n",
       "      <td>60.0</td>\n",
       "      <td>0.9980</td>\n",
       "      <td>3.16</td>\n",
       "      <td>0.58</td>\n",
       "      <td>9.8</td>\n",
       "      <td>6</td>\n",
       "    </tr>\n",
       "    <tr>\n",
       "      <th>4</th>\n",
       "      <td>7.4</td>\n",
       "      <td>0.70</td>\n",
       "      <td>0.00</td>\n",
       "      <td>1.9</td>\n",
       "      <td>0.076</td>\n",
       "      <td>11.0</td>\n",
       "      <td>34.0</td>\n",
       "      <td>0.9978</td>\n",
       "      <td>3.51</td>\n",
       "      <td>0.56</td>\n",
       "      <td>9.4</td>\n",
       "      <td>5</td>\n",
       "    </tr>\n",
       "  </tbody>\n",
       "</table>\n",
       "</div>"
      ],
      "text/plain": [
       "   fixed_acid  volat_acid  cit_acid  resid_sugar  chlorides  free_sulf_diox  \\\n",
       "0         7.4        0.70      0.00          1.9      0.076            11.0   \n",
       "1         7.8        0.88      0.00          2.6      0.098            25.0   \n",
       "2         7.8        0.76      0.04          2.3      0.092            15.0   \n",
       "3        11.2        0.28      0.56          1.9      0.075            17.0   \n",
       "4         7.4        0.70      0.00          1.9      0.076            11.0   \n",
       "\n",
       "   tot_sulf_diox  density    pH  sulphates  alcohol  quality  \n",
       "0           34.0   0.9978  3.51       0.56      9.4        5  \n",
       "1           67.0   0.9968  3.20       0.68      9.8        5  \n",
       "2           54.0   0.9970  3.26       0.65      9.8        5  \n",
       "3           60.0   0.9980  3.16       0.58      9.8        6  \n",
       "4           34.0   0.9978  3.51       0.56      9.4        5  "
      ]
     },
     "execution_count": 50,
     "metadata": {},
     "output_type": "execute_result"
    }
   ],
   "source": [
    "X.head(5)"
   ]
  },
  {
   "cell_type": "markdown",
   "id": "518d57d7",
   "metadata": {},
   "source": [
    "Splitting Data into train and test"
   ]
  },
  {
   "cell_type": "code",
   "execution_count": 51,
   "id": "0156bb53",
   "metadata": {},
   "outputs": [
    {
     "name": "stdout",
     "output_type": "stream",
     "text": [
      "(4872, 12)\n",
      "(1625, 12)\n"
     ]
    }
   ],
   "source": [
    "X_train, X_test, y_train, y_test = train_test_split(X, y, random_state = 0)\n",
    "print(X_train.shape)\n",
    "print(X_test.shape)"
   ]
  },
  {
   "cell_type": "markdown",
   "id": "4f7ad2a0",
   "metadata": {},
   "source": [
    "Logistic Regression with cross validation"
   ]
  },
  {
   "cell_type": "code",
   "execution_count": 52,
   "id": "d314c9d6",
   "metadata": {},
   "outputs": [],
   "source": [
    "from sklearn.linear_model import LogisticRegression"
   ]
  },
  {
   "cell_type": "code",
   "execution_count": 53,
   "id": "b08211b2",
   "metadata": {},
   "outputs": [
    {
     "name": "stdout",
     "output_type": "stream",
     "text": [
      "logreg .coef_: [[ 1.48164361e+00  1.06630412e+01 -1.20344568e+00 -3.74056809e-02\n",
      "   3.52738160e+01  5.52400668e-02 -6.28597728e-02 -2.10992206e+01\n",
      "   9.64517696e+00  8.40310398e+00 -2.73128894e-01 -1.43409146e-02]]\n",
      "Training set score: 0.9878899835796388\n",
      "Test set score: 0.9907692307692307\n",
      "Logistic Reg Cross Validation Score: 0.9903509714105196\n"
     ]
    }
   ],
   "source": [
    "logreg = LogisticRegression(max_iter = 100000, penalty = 'none')\n",
    "logreg.fit(X_train, y_train)\n",
    "print(\"logreg .coef_: {}\".format(logreg .coef_))\n",
    "print(\"Training set score: {}\".format(logreg.score(X_train, y_train)))\n",
    "print(\"Test set score: {}\".format(logreg.score(X_test, y_test)))\n",
    "print(\"Logistic Reg Cross Validation Score: {}\".format(np.mean(cross_val_score(LogisticRegression(max_iter =100000, penalty = 'none'), X_train, y_train))))"
   ]
  },
  {
   "cell_type": "markdown",
   "id": "c6990d26",
   "metadata": {},
   "source": [
    "Penalized Logistic Regression with cross validation - l1 penalty"
   ]
  },
  {
   "cell_type": "code",
   "execution_count": 54,
   "id": "556728d9",
   "metadata": {},
   "outputs": [
    {
     "name": "stdout",
     "output_type": "stream",
     "text": [
      "logreg .coef_: [[ 0.71747165  2.56770737 -0.69874005 -0.13420091  0.32217711  0.03720283\n",
      "  -0.05842328 -0.0146413   1.71998346  1.76756756 -0.69502383 -0.25107554]]\n",
      "Training set score: 0.9649014778325123\n",
      "Test set score: 0.9704615384615385\n",
      "L1 Penalized Logistic Reg Cross Validation Score: 0.9642872637287422\n"
     ]
    }
   ],
   "source": [
    "pl1_logreg = LogisticRegression(max_iter = 100000, penalty = 'l1', solver = 'saga')\n",
    "pl1_logreg.fit(X_train, y_train)\n",
    "print(\"logreg .coef_: {}\".format(pl1_logreg .coef_))\n",
    "print(\"Training set score: {}\".format(pl1_logreg.score(X_train, y_train)))\n",
    "print(\"Test set score: {}\".format(pl1_logreg.score(X_test, y_test)))\n",
    "print(\"L1 Penalized Logistic Reg Cross Validation Score: {}\".format(np.mean(cross_val_score(LogisticRegression(max_iter = 100000, penalty = 'l1', solver = 'saga'), X_train, y_train))))"
   ]
  },
  {
   "cell_type": "markdown",
   "id": "a6b525df",
   "metadata": {},
   "source": [
    "Penalized Logistic Regression with cross validation - l2 penalty"
   ]
  },
  {
   "cell_type": "code",
   "execution_count": 55,
   "id": "9b449a20",
   "metadata": {},
   "outputs": [
    {
     "name": "stdout",
     "output_type": "stream",
     "text": [
      "logreg .coef_: [[ 1.13110558  7.91332866 -0.79366138 -0.08805109  2.73520456  0.04437431\n",
      "  -0.0541963   0.23724942  5.82116007  5.75746144 -0.42781567 -0.09272086]]\n",
      "Training set score: 0.9839901477832512\n",
      "Test set score: 0.9913846153846154\n",
      "L2 Penalized Logistic Reg Cross Validation Score: 0.9821428947506977\n"
     ]
    }
   ],
   "source": [
    "pl2_logreg = LogisticRegression(max_iter = 100000, penalty = 'l2')\n",
    "pl2_logreg.fit(X_train, y_train)\n",
    "print(\"logreg .coef_: {}\".format(pl2_logreg .coef_))\n",
    "print(\"Training set score: {}\".format(pl2_logreg.score(X_train, y_train)))\n",
    "print(\"Test set score: {}\".format(pl2_logreg.score(X_test, y_test)))\n",
    "print(\"L2 Penalized Logistic Reg Cross Validation Score: {}\".format(np.mean(cross_val_score(LogisticRegression(max_iter = 100000, penalty = 'l2'), X_train, y_train))))"
   ]
  },
  {
   "cell_type": "markdown",
   "id": "b4ac2cb8",
   "metadata": {},
   "source": [
    "KNN Classifier with cross validation"
   ]
  },
  {
   "cell_type": "code",
   "execution_count": 56,
   "id": "89be1254",
   "metadata": {},
   "outputs": [
    {
     "name": "stdout",
     "output_type": "stream",
     "text": [
      "Test Set Score: 0.9501538461538461\n",
      "KNN Classifier Cross Validation Score: 0.9378107723898278\n"
     ]
    }
   ],
   "source": [
    "from sklearn.neighbors import KNeighborsClassifier\n",
    "knn = KNeighborsClassifier()\n",
    "knn.fit(X_train, y_train)\n",
    "print(\"Test Set Score: {}\".format(knn.score(X_test, y_test)))\n",
    "print(\"KNN Classifier Cross Validation Score: {}\".format(np.mean(cross_val_score(KNeighborsClassifier(), X_train, y_train))))"
   ]
  },
  {
   "cell_type": "markdown",
   "id": "e6234c54",
   "metadata": {},
   "source": [
    "All the models give exceptionally high test-score and cross validation scores. This might be due to overfitting in the models. The L2 penalized logistic regression model has the highest test-set score at 0.99138. The Knn classfier model has the lowest test-set score at 0.9378. The L2 penalized logistic model and the unpenalized logistic model give very similar test-set scores. "
   ]
  },
  {
   "cell_type": "markdown",
   "id": "8a2fc4ff",
   "metadata": {},
   "source": [
    "Scaling data with StandardScaler"
   ]
  },
  {
   "cell_type": "code",
   "execution_count": 57,
   "id": "22c3ea6b",
   "metadata": {},
   "outputs": [],
   "source": [
    "scaler = StandardScaler().fit(X_train)\n",
    "X_train_scaled = scaler.transform(X_train)\n",
    "X_test_scaled = scaler.transform(X_test)"
   ]
  },
  {
   "cell_type": "code",
   "execution_count": 58,
   "id": "ec02cd23",
   "metadata": {},
   "outputs": [
    {
     "data": {
      "text/plain": [
       "(4872, 12)"
      ]
     },
     "execution_count": 58,
     "metadata": {},
     "output_type": "execute_result"
    }
   ],
   "source": [
    "X_train_scaled.shape"
   ]
  },
  {
   "cell_type": "code",
   "execution_count": 59,
   "id": "287f972a",
   "metadata": {},
   "outputs": [
    {
     "data": {
      "text/plain": [
       "(1625, 12)"
      ]
     },
     "execution_count": 59,
     "metadata": {},
     "output_type": "execute_result"
    }
   ],
   "source": [
    "X_test_scaled.shape"
   ]
  },
  {
   "cell_type": "code",
   "execution_count": 60,
   "id": "d8e4b42d",
   "metadata": {},
   "outputs": [
    {
     "name": "stdout",
     "output_type": "stream",
     "text": [
      "Unscaled values:\n",
      "\n",
      "Logistic Regression Test-set score: 0.9907692307692307\n",
      "L1 Penalized Logistic Regression Test-set score: 0.9704615384615385\n",
      "L2 Penalized Logistic Regression Test-set score: 0.9913846153846154\n",
      "Knn Classifier Test-set score: 0.9501538461538461\n",
      "\n",
      "\n",
      "Logistic Reg Cross Validation Score: 0.9903509714105196\n",
      "L1 Penalized Logistic Reg Cross Validation Score: 0.9642872637287422\n",
      "L2 Penalized Logistic Reg Cross Validation Score: 0.9821428947506977\n",
      "KNN Classifier Cross Validation Score: 0.9378107723898278\n"
     ]
    }
   ],
   "source": [
    "#Pre-scaled values\n",
    "print(\"Unscaled values:\\n\")\n",
    "print(\"Logistic Regression Test-set score: {}\".format(logreg.score(X_test, y_test)))\n",
    "print(\"L1 Penalized Logistic Regression Test-set score: {}\".format(pl1_logreg.score(X_test, y_test)))\n",
    "print(\"L2 Penalized Logistic Regression Test-set score: {}\".format(pl2_logreg.score(X_test, y_test)))\n",
    "print(\"Knn Classifier Test-set score: {}\".format(knn.score(X_test, y_test)))\n",
    "print(\"\\n\")\n",
    "print(\"Logistic Reg Cross Validation Score: {}\".format(np.mean(cross_val_score(LogisticRegression(max_iter =100000, penalty = 'none'), X_train, y_train))))\n",
    "print(\"L1 Penalized Logistic Reg Cross Validation Score: {}\".format(np.mean(cross_val_score(LogisticRegression(max_iter = 100000, penalty = 'l1', solver = 'saga'), X_train, y_train))))\n",
    "print(\"L2 Penalized Logistic Reg Cross Validation Score: {}\".format(np.mean(cross_val_score(LogisticRegression(max_iter = 100000, penalty = 'l2'), X_train, y_train))))\n",
    "print(\"KNN Classifier Cross Validation Score: {}\".format(np.mean(cross_val_score(KNeighborsClassifier(), X_train, y_train))))"
   ]
  },
  {
   "cell_type": "code",
   "execution_count": 61,
   "id": "b9cba819",
   "metadata": {},
   "outputs": [
    {
     "name": "stdout",
     "output_type": "stream",
     "text": [
      "Scaled values:\n",
      "\n",
      "Logistic Regression Test-set score: 0.9944615384615385\n",
      "L1 Penalized Logistic Regression Test-set score: 0.9950769230769231\n",
      "L2 Penalized Logistic Regression Test-set score: 0.9944615384615385\n",
      "Knn Classifier Test-set score: 0.9969230769230769\n",
      "\n",
      "\n",
      "Logistic Reg Cross Validation Score: 0.9944577475912177\n",
      "L1 Penalized Logistic Reg Cross Validation Score: 0.9946630864002527\n",
      "L2 Penalized Logistic Reg Cross Validation Score: 0.9944577475912177\n",
      "KNN Classifier Cross Validation Score: 0.991585110303796\n"
     ]
    }
   ],
   "source": [
    "logreg.fit(X_train_scaled, y_train)\n",
    "pl1_logreg.fit(X_train_scaled, y_train)\n",
    "pl2_logreg.fit(X_train_scaled, y_train)\n",
    "knn.fit(X_train_scaled, y_train)\n",
    "print(\"Scaled values:\\n\")\n",
    "print(\"Logistic Regression Test-set score: {}\".format(logreg.score(X_test_scaled, y_test)))\n",
    "print(\"L1 Penalized Logistic Regression Test-set score: {}\".format(pl1_logreg.score(X_test_scaled, y_test)))\n",
    "print(\"L2 Penalized Logistic Regression Test-set score: {}\".format(pl2_logreg.score(X_test_scaled, y_test)))\n",
    "print(\"Knn Classifier Test-set score: {}\".format(knn.score(X_test_scaled, y_test)))\n",
    "print(\"\\n\")\n",
    "print(\"Logistic Reg Cross Validation Score: {}\".format(np.mean(cross_val_score(LogisticRegression(max_iter =100000, penalty = 'none'), X_train_scaled, y_train))))\n",
    "print(\"L1 Penalized Logistic Reg Cross Validation Score: {}\".format(np.mean(cross_val_score(LogisticRegression(max_iter = 100000, penalty = 'l1', solver = 'saga'), X_train_scaled, y_train))))\n",
    "print(\"L2 Penalized Logistic Reg Cross Validation Score: {}\".format(np.mean(cross_val_score(LogisticRegression(max_iter = 100000, penalty = 'l2'), X_train_scaled, y_train))))\n",
    "print(\"KNN Classifier Cross Validation Score: {}\".format(np.mean(cross_val_score(KNeighborsClassifier(), X_train_scaled, y_train))))\n"
   ]
  },
  {
   "cell_type": "markdown",
   "id": "eac38c84",
   "metadata": {},
   "source": [
    "Scaling the values with StandardScaler improves the test-set scores and the cross validation scores for all the models. "
   ]
  },
  {
   "cell_type": "markdown",
   "id": "5884d1a9",
   "metadata": {},
   "source": [
    "### 2.3: Tuning Parameters with GridSearchCV"
   ]
  },
  {
   "cell_type": "code",
   "execution_count": 62,
   "id": "333b4465",
   "metadata": {},
   "outputs": [
    {
     "name": "stderr",
     "output_type": "stream",
     "text": [
      "/opt/anaconda3/lib/python3.8/site-packages/sklearn/linear_model/_logistic.py:1322: UserWarning: Setting penalty='none' will ignore the C and l1_ratio parameters\n",
      "  warnings.warn(\n",
      "/opt/anaconda3/lib/python3.8/site-packages/sklearn/linear_model/_logistic.py:1322: UserWarning: Setting penalty='none' will ignore the C and l1_ratio parameters\n",
      "  warnings.warn(\n",
      "/opt/anaconda3/lib/python3.8/site-packages/sklearn/linear_model/_logistic.py:1322: UserWarning: Setting penalty='none' will ignore the C and l1_ratio parameters\n",
      "  warnings.warn(\n",
      "/opt/anaconda3/lib/python3.8/site-packages/sklearn/linear_model/_logistic.py:1322: UserWarning: Setting penalty='none' will ignore the C and l1_ratio parameters\n",
      "  warnings.warn(\n",
      "/opt/anaconda3/lib/python3.8/site-packages/sklearn/linear_model/_logistic.py:1322: UserWarning: Setting penalty='none' will ignore the C and l1_ratio parameters\n",
      "  warnings.warn(\n",
      "/opt/anaconda3/lib/python3.8/site-packages/sklearn/linear_model/_logistic.py:1322: UserWarning: Setting penalty='none' will ignore the C and l1_ratio parameters\n",
      "  warnings.warn(\n",
      "/opt/anaconda3/lib/python3.8/site-packages/sklearn/linear_model/_logistic.py:1322: UserWarning: Setting penalty='none' will ignore the C and l1_ratio parameters\n",
      "  warnings.warn(\n",
      "/opt/anaconda3/lib/python3.8/site-packages/sklearn/linear_model/_logistic.py:1322: UserWarning: Setting penalty='none' will ignore the C and l1_ratio parameters\n",
      "  warnings.warn(\n",
      "/opt/anaconda3/lib/python3.8/site-packages/sklearn/linear_model/_logistic.py:1322: UserWarning: Setting penalty='none' will ignore the C and l1_ratio parameters\n",
      "  warnings.warn(\n",
      "/opt/anaconda3/lib/python3.8/site-packages/sklearn/linear_model/_logistic.py:1322: UserWarning: Setting penalty='none' will ignore the C and l1_ratio parameters\n",
      "  warnings.warn(\n",
      "/opt/anaconda3/lib/python3.8/site-packages/sklearn/linear_model/_logistic.py:1322: UserWarning: Setting penalty='none' will ignore the C and l1_ratio parameters\n",
      "  warnings.warn(\n",
      "/opt/anaconda3/lib/python3.8/site-packages/sklearn/linear_model/_logistic.py:1322: UserWarning: Setting penalty='none' will ignore the C and l1_ratio parameters\n",
      "  warnings.warn(\n",
      "/opt/anaconda3/lib/python3.8/site-packages/sklearn/linear_model/_logistic.py:1322: UserWarning: Setting penalty='none' will ignore the C and l1_ratio parameters\n",
      "  warnings.warn(\n",
      "/opt/anaconda3/lib/python3.8/site-packages/sklearn/linear_model/_logistic.py:1322: UserWarning: Setting penalty='none' will ignore the C and l1_ratio parameters\n",
      "  warnings.warn(\n",
      "/opt/anaconda3/lib/python3.8/site-packages/sklearn/linear_model/_logistic.py:1322: UserWarning: Setting penalty='none' will ignore the C and l1_ratio parameters\n",
      "  warnings.warn(\n",
      "/opt/anaconda3/lib/python3.8/site-packages/sklearn/linear_model/_logistic.py:1322: UserWarning: Setting penalty='none' will ignore the C and l1_ratio parameters\n",
      "  warnings.warn(\n",
      "/opt/anaconda3/lib/python3.8/site-packages/sklearn/linear_model/_logistic.py:1322: UserWarning: Setting penalty='none' will ignore the C and l1_ratio parameters\n",
      "  warnings.warn(\n",
      "/opt/anaconda3/lib/python3.8/site-packages/sklearn/linear_model/_logistic.py:1322: UserWarning: Setting penalty='none' will ignore the C and l1_ratio parameters\n",
      "  warnings.warn(\n",
      "/opt/anaconda3/lib/python3.8/site-packages/sklearn/linear_model/_logistic.py:1322: UserWarning: Setting penalty='none' will ignore the C and l1_ratio parameters\n",
      "  warnings.warn(\n",
      "/opt/anaconda3/lib/python3.8/site-packages/sklearn/linear_model/_logistic.py:1322: UserWarning: Setting penalty='none' will ignore the C and l1_ratio parameters\n",
      "  warnings.warn(\n",
      "/opt/anaconda3/lib/python3.8/site-packages/sklearn/linear_model/_logistic.py:1322: UserWarning: Setting penalty='none' will ignore the C and l1_ratio parameters\n",
      "  warnings.warn(\n",
      "/opt/anaconda3/lib/python3.8/site-packages/sklearn/linear_model/_logistic.py:1322: UserWarning: Setting penalty='none' will ignore the C and l1_ratio parameters\n",
      "  warnings.warn(\n",
      "/opt/anaconda3/lib/python3.8/site-packages/sklearn/linear_model/_logistic.py:1322: UserWarning: Setting penalty='none' will ignore the C and l1_ratio parameters\n",
      "  warnings.warn(\n",
      "/opt/anaconda3/lib/python3.8/site-packages/sklearn/linear_model/_logistic.py:1322: UserWarning: Setting penalty='none' will ignore the C and l1_ratio parameters\n",
      "  warnings.warn(\n",
      "/opt/anaconda3/lib/python3.8/site-packages/sklearn/linear_model/_logistic.py:1322: UserWarning: Setting penalty='none' will ignore the C and l1_ratio parameters\n",
      "  warnings.warn(\n",
      "/opt/anaconda3/lib/python3.8/site-packages/sklearn/linear_model/_logistic.py:1322: UserWarning: Setting penalty='none' will ignore the C and l1_ratio parameters\n",
      "  warnings.warn(\n",
      "/opt/anaconda3/lib/python3.8/site-packages/sklearn/linear_model/_logistic.py:1322: UserWarning: Setting penalty='none' will ignore the C and l1_ratio parameters\n",
      "  warnings.warn(\n",
      "/opt/anaconda3/lib/python3.8/site-packages/sklearn/linear_model/_logistic.py:1322: UserWarning: Setting penalty='none' will ignore the C and l1_ratio parameters\n",
      "  warnings.warn(\n",
      "/opt/anaconda3/lib/python3.8/site-packages/sklearn/linear_model/_logistic.py:1322: UserWarning: Setting penalty='none' will ignore the C and l1_ratio parameters\n",
      "  warnings.warn(\n"
     ]
    },
    {
     "name": "stdout",
     "output_type": "stream",
     "text": [
      "best mean cross-validation score: 0.9944577475912177\n",
      "best parameters: {'C': 0.001}\n",
      "test-set score: 0.9944615384615385\n"
     ]
    },
    {
     "name": "stderr",
     "output_type": "stream",
     "text": [
      "/opt/anaconda3/lib/python3.8/site-packages/sklearn/linear_model/_logistic.py:1322: UserWarning: Setting penalty='none' will ignore the C and l1_ratio parameters\n",
      "  warnings.warn(\n",
      "/opt/anaconda3/lib/python3.8/site-packages/sklearn/linear_model/_logistic.py:1322: UserWarning: Setting penalty='none' will ignore the C and l1_ratio parameters\n",
      "  warnings.warn(\n"
     ]
    }
   ],
   "source": [
    "param_grid = {'C': [0.001, 0.01, 0.1, 1, 10, 100, 1000] }\n",
    "grid_logreg = GridSearchCV(LogisticRegression(max_iter = 100000, penalty = 'none'), param_grid)\n",
    "grid_logreg.fit(X_train_scaled, y_train)\n",
    "print(\"best mean cross-validation score: {}\".format(grid_logreg.best_score_))\n",
    "print(\"best parameters: {}\".format(grid_logreg.best_params_))\n",
    "print(\"test-set score: {}\".format(grid_logreg.score(X_test_scaled, y_test)))"
   ]
  },
  {
   "cell_type": "code",
   "execution_count": 63,
   "id": "abe88bac",
   "metadata": {},
   "outputs": [
    {
     "name": "stdout",
     "output_type": "stream",
     "text": [
      "best mean cross-validation score: 0.9946630864002527\n",
      "best parameters: {'C': 1}\n",
      "test-set score: 0.9950769230769231\n"
     ]
    }
   ],
   "source": [
    "grid_l1plogreg = GridSearchCV(LogisticRegression(max_iter = 100000, penalty = 'l1', solver = 'saga'), param_grid)\n",
    "grid_l1plogreg.fit(X_train_scaled, y_train)\n",
    "print(\"best mean cross-validation score: {}\".format(grid_l1plogreg.best_score_))\n",
    "print(\"best parameters: {}\".format(grid_l1plogreg.best_params_))\n",
    "print(\"test-set score: {}\".format(grid_l1plogreg.score(X_test_scaled, y_test)))"
   ]
  },
  {
   "cell_type": "code",
   "execution_count": 64,
   "id": "cb0e5cd2",
   "metadata": {},
   "outputs": [
    {
     "name": "stdout",
     "output_type": "stream",
     "text": [
      "best mean cross-validation score: 0.9946630864002527\n",
      "best parameters: {'C': 10}\n",
      "test-set score: 0.9950769230769231\n"
     ]
    }
   ],
   "source": [
    "grid_l2plogreg = GridSearchCV(LogisticRegression(max_iter = 100000, penalty = 'l2'), param_grid)\n",
    "grid_l2plogreg.fit(X_train_scaled, y_train)\n",
    "print(\"best mean cross-validation score: {}\".format(grid_l2plogreg.best_score_))\n",
    "print(\"best parameters: {}\".format(grid_l2plogreg.best_params_))\n",
    "print(\"test-set score: {}\".format(grid_l2plogreg.score(X_test_scaled, y_test)))"
   ]
  },
  {
   "cell_type": "code",
   "execution_count": 65,
   "id": "761900c9",
   "metadata": {},
   "outputs": [
    {
     "name": "stdout",
     "output_type": "stream",
     "text": [
      "best mean cross-validation score: 0.9640434465365241\n",
      "best parameters: {'n_neighbors': 4}\n",
      "test-set score: 0.9796175693513415\n"
     ]
    }
   ],
   "source": [
    "param_grid = {'n_neighbors': np.arange(1, 10, 1)}\n",
    "grid_knn = GridSearchCV(KNeighborsRegressor(), param_grid)\n",
    "grid_knn.fit(X_train_scaled, y_train)\n",
    "print(\"best mean cross-validation score: {}\".format(grid_knn.best_score_))\n",
    "print(\"best parameters: {}\".format(grid_knn.best_params_))\n",
    "print(\"test-set score: {}\".format(grid_knn.score(X_test_scaled, y_test)))"
   ]
  },
  {
   "cell_type": "markdown",
   "id": "07dda698",
   "metadata": {},
   "source": [
    "After using GridSearchCV the results for the unpenalized and penalized logistic regression improve very little. However, the knn scores reduce by a few percentage points."
   ]
  },
  {
   "cell_type": "code",
   "execution_count": 66,
   "id": "3eaf9915",
   "metadata": {},
   "outputs": [],
   "source": [
    "?GridSearchCV"
   ]
  },
  {
   "cell_type": "markdown",
   "id": "f25364b3",
   "metadata": {},
   "source": [
    "### 2.4: Changing cv in GridSearchCV to 'kfold'"
   ]
  },
  {
   "cell_type": "markdown",
   "id": "c61faca5",
   "metadata": {},
   "source": [
    "Changing cross-validation strategy to KFold with shuffling"
   ]
  },
  {
   "cell_type": "code",
   "execution_count": 67,
   "id": "8bd29d64",
   "metadata": {},
   "outputs": [
    {
     "name": "stderr",
     "output_type": "stream",
     "text": [
      "/opt/anaconda3/lib/python3.8/site-packages/sklearn/linear_model/_logistic.py:1322: UserWarning: Setting penalty='none' will ignore the C and l1_ratio parameters\n",
      "  warnings.warn(\n",
      "/opt/anaconda3/lib/python3.8/site-packages/sklearn/linear_model/_logistic.py:1322: UserWarning: Setting penalty='none' will ignore the C and l1_ratio parameters\n",
      "  warnings.warn(\n",
      "/opt/anaconda3/lib/python3.8/site-packages/sklearn/linear_model/_logistic.py:1322: UserWarning: Setting penalty='none' will ignore the C and l1_ratio parameters\n",
      "  warnings.warn(\n",
      "/opt/anaconda3/lib/python3.8/site-packages/sklearn/linear_model/_logistic.py:1322: UserWarning: Setting penalty='none' will ignore the C and l1_ratio parameters\n",
      "  warnings.warn(\n",
      "/opt/anaconda3/lib/python3.8/site-packages/sklearn/linear_model/_logistic.py:1322: UserWarning: Setting penalty='none' will ignore the C and l1_ratio parameters\n",
      "  warnings.warn(\n",
      "/opt/anaconda3/lib/python3.8/site-packages/sklearn/linear_model/_logistic.py:1322: UserWarning: Setting penalty='none' will ignore the C and l1_ratio parameters\n",
      "  warnings.warn(\n",
      "/opt/anaconda3/lib/python3.8/site-packages/sklearn/linear_model/_logistic.py:1322: UserWarning: Setting penalty='none' will ignore the C and l1_ratio parameters\n",
      "  warnings.warn(\n",
      "/opt/anaconda3/lib/python3.8/site-packages/sklearn/linear_model/_logistic.py:1322: UserWarning: Setting penalty='none' will ignore the C and l1_ratio parameters\n",
      "  warnings.warn(\n",
      "/opt/anaconda3/lib/python3.8/site-packages/sklearn/linear_model/_logistic.py:1322: UserWarning: Setting penalty='none' will ignore the C and l1_ratio parameters\n",
      "  warnings.warn(\n",
      "/opt/anaconda3/lib/python3.8/site-packages/sklearn/linear_model/_logistic.py:1322: UserWarning: Setting penalty='none' will ignore the C and l1_ratio parameters\n",
      "  warnings.warn(\n",
      "/opt/anaconda3/lib/python3.8/site-packages/sklearn/linear_model/_logistic.py:1322: UserWarning: Setting penalty='none' will ignore the C and l1_ratio parameters\n",
      "  warnings.warn(\n",
      "/opt/anaconda3/lib/python3.8/site-packages/sklearn/linear_model/_logistic.py:1322: UserWarning: Setting penalty='none' will ignore the C and l1_ratio parameters\n",
      "  warnings.warn(\n",
      "/opt/anaconda3/lib/python3.8/site-packages/sklearn/linear_model/_logistic.py:1322: UserWarning: Setting penalty='none' will ignore the C and l1_ratio parameters\n",
      "  warnings.warn(\n",
      "/opt/anaconda3/lib/python3.8/site-packages/sklearn/linear_model/_logistic.py:1322: UserWarning: Setting penalty='none' will ignore the C and l1_ratio parameters\n",
      "  warnings.warn(\n",
      "/opt/anaconda3/lib/python3.8/site-packages/sklearn/linear_model/_logistic.py:1322: UserWarning: Setting penalty='none' will ignore the C and l1_ratio parameters\n",
      "  warnings.warn(\n",
      "/opt/anaconda3/lib/python3.8/site-packages/sklearn/linear_model/_logistic.py:1322: UserWarning: Setting penalty='none' will ignore the C and l1_ratio parameters\n",
      "  warnings.warn(\n",
      "/opt/anaconda3/lib/python3.8/site-packages/sklearn/linear_model/_logistic.py:1322: UserWarning: Setting penalty='none' will ignore the C and l1_ratio parameters\n",
      "  warnings.warn(\n",
      "/opt/anaconda3/lib/python3.8/site-packages/sklearn/linear_model/_logistic.py:1322: UserWarning: Setting penalty='none' will ignore the C and l1_ratio parameters\n",
      "  warnings.warn(\n",
      "/opt/anaconda3/lib/python3.8/site-packages/sklearn/linear_model/_logistic.py:1322: UserWarning: Setting penalty='none' will ignore the C and l1_ratio parameters\n",
      "  warnings.warn(\n",
      "/opt/anaconda3/lib/python3.8/site-packages/sklearn/linear_model/_logistic.py:1322: UserWarning: Setting penalty='none' will ignore the C and l1_ratio parameters\n",
      "  warnings.warn(\n",
      "/opt/anaconda3/lib/python3.8/site-packages/sklearn/linear_model/_logistic.py:1322: UserWarning: Setting penalty='none' will ignore the C and l1_ratio parameters\n",
      "  warnings.warn(\n",
      "/opt/anaconda3/lib/python3.8/site-packages/sklearn/linear_model/_logistic.py:1322: UserWarning: Setting penalty='none' will ignore the C and l1_ratio parameters\n",
      "  warnings.warn(\n",
      "/opt/anaconda3/lib/python3.8/site-packages/sklearn/linear_model/_logistic.py:1322: UserWarning: Setting penalty='none' will ignore the C and l1_ratio parameters\n",
      "  warnings.warn(\n",
      "/opt/anaconda3/lib/python3.8/site-packages/sklearn/linear_model/_logistic.py:1322: UserWarning: Setting penalty='none' will ignore the C and l1_ratio parameters\n",
      "  warnings.warn(\n",
      "/opt/anaconda3/lib/python3.8/site-packages/sklearn/linear_model/_logistic.py:1322: UserWarning: Setting penalty='none' will ignore the C and l1_ratio parameters\n",
      "  warnings.warn(\n",
      "/opt/anaconda3/lib/python3.8/site-packages/sklearn/linear_model/_logistic.py:1322: UserWarning: Setting penalty='none' will ignore the C and l1_ratio parameters\n",
      "  warnings.warn(\n",
      "/opt/anaconda3/lib/python3.8/site-packages/sklearn/linear_model/_logistic.py:1322: UserWarning: Setting penalty='none' will ignore the C and l1_ratio parameters\n",
      "  warnings.warn(\n",
      "/opt/anaconda3/lib/python3.8/site-packages/sklearn/linear_model/_logistic.py:1322: UserWarning: Setting penalty='none' will ignore the C and l1_ratio parameters\n",
      "  warnings.warn(\n",
      "/opt/anaconda3/lib/python3.8/site-packages/sklearn/linear_model/_logistic.py:1322: UserWarning: Setting penalty='none' will ignore the C and l1_ratio parameters\n",
      "  warnings.warn(\n",
      "/opt/anaconda3/lib/python3.8/site-packages/sklearn/linear_model/_logistic.py:1322: UserWarning: Setting penalty='none' will ignore the C and l1_ratio parameters\n",
      "  warnings.warn(\n"
     ]
    },
    {
     "name": "stdout",
     "output_type": "stream",
     "text": [
      "best mean cross-validation score: 0.9942538830095298\n",
      "best parameters: {'C': 0.001}\n",
      "test-set score: 0.9944615384615385\n"
     ]
    },
    {
     "name": "stderr",
     "output_type": "stream",
     "text": [
      "/opt/anaconda3/lib/python3.8/site-packages/sklearn/linear_model/_logistic.py:1322: UserWarning: Setting penalty='none' will ignore the C and l1_ratio parameters\n",
      "  warnings.warn(\n"
     ]
    }
   ],
   "source": [
    "param_grid = {'C': [0.001, 0.01, 0.1, 1, 10, 100, 1000] }\n",
    "from sklearn.model_selection import KFold\n",
    "cv = KFold(shuffle = True)\n",
    "grid_logreg = GridSearchCV(LogisticRegression(max_iter = 100000, penalty = 'none'), param_grid, cv = cv)\n",
    "grid_logreg.fit(X_train_scaled, y_train)\n",
    "print(\"best mean cross-validation score: {}\".format(grid_logreg.best_score_))\n",
    "print(\"best parameters: {}\".format(grid_logreg.best_params_))\n",
    "print(\"test-set score: {}\".format(grid_logreg.score(X_test_scaled, y_test)))"
   ]
  },
  {
   "cell_type": "code",
   "execution_count": 68,
   "id": "39001b29",
   "metadata": {},
   "outputs": [
    {
     "name": "stdout",
     "output_type": "stream",
     "text": [
      "best mean cross-validation score: 0.9948684252092874\n",
      "best parameters: {'C': 1}\n",
      "test-set score: 0.9950769230769231\n"
     ]
    }
   ],
   "source": [
    "grid_l1plogreg = GridSearchCV(LogisticRegression(max_iter = 100000, penalty = 'l1', solver = 'saga'), param_grid, cv = cv)\n",
    "grid_l1plogreg.fit(X_train_scaled, y_train)\n",
    "print(\"best mean cross-validation score: {}\".format(grid_l1plogreg.best_score_))\n",
    "print(\"best parameters: {}\".format(grid_l1plogreg.best_params_))\n",
    "print(\"test-set score: {}\".format(grid_l1plogreg.score(X_test_scaled, y_test)))"
   ]
  },
  {
   "cell_type": "code",
   "execution_count": 69,
   "id": "a90ca9b1",
   "metadata": {},
   "outputs": [
    {
     "name": "stdout",
     "output_type": "stream",
     "text": [
      "best mean cross-validation score: 0.9946635076080662\n",
      "best parameters: {'C': 10}\n",
      "test-set score: 0.9950769230769231\n"
     ]
    }
   ],
   "source": [
    "grid_l2plogreg = GridSearchCV(LogisticRegression(max_iter = 100000, penalty = 'l2'), param_grid, cv = cv)\n",
    "grid_l2plogreg.fit(X_train_scaled, y_train)\n",
    "print(\"best mean cross-validation score: {}\".format(grid_l2plogreg.best_score_))\n",
    "print(\"best parameters: {}\".format(grid_l2plogreg.best_params_))\n",
    "print(\"test-set score: {}\".format(grid_l2plogreg.score(X_test_scaled, y_test)))"
   ]
  },
  {
   "cell_type": "code",
   "execution_count": 70,
   "id": "ad8c8a47",
   "metadata": {},
   "outputs": [
    {
     "name": "stdout",
     "output_type": "stream",
     "text": [
      "best mean cross-validation score: 0.9637283955081737\n",
      "best parameters: {'n_neighbors': 3}\n",
      "test-set score: 0.9790805751876311\n"
     ]
    }
   ],
   "source": [
    "param_grid = {'n_neighbors': np.arange(1, 10, 1)}\n",
    "grid_knn = GridSearchCV(KNeighborsRegressor(), param_grid, cv = cv)\n",
    "grid_knn.fit(X_train_scaled, y_train)\n",
    "print(\"best mean cross-validation score: {}\".format(grid_knn.best_score_))\n",
    "print(\"best parameters: {}\".format(grid_knn.best_params_))\n",
    "print(\"test-set score: {}\".format(grid_knn.score(X_test_scaled, y_test)))"
   ]
  },
  {
   "cell_type": "markdown",
   "id": "9ae7cc94",
   "metadata": {},
   "source": [
    "The tune parameters for the logistic regression and penalized logistic regression don't change but the cross validation score for the penalized logistic regression model improves very minimally after changing cv strategy to KFold with shuffling. The tuning parameter for KNN: n_neighbors goes down 1 neighbor due to this change in the cv strargey but the knn scores don't change except for a very minimal reduction in the cross validation score"
   ]
  },
  {
   "cell_type": "markdown",
   "id": "2572fad5",
   "metadata": {},
   "source": [
    "Changing the random seed of shuffling"
   ]
  },
  {
   "cell_type": "code",
   "execution_count": 71,
   "id": "c4ff422d",
   "metadata": {},
   "outputs": [
    {
     "name": "stderr",
     "output_type": "stream",
     "text": [
      "/opt/anaconda3/lib/python3.8/site-packages/sklearn/linear_model/_logistic.py:1322: UserWarning: Setting penalty='none' will ignore the C and l1_ratio parameters\n",
      "  warnings.warn(\n",
      "/opt/anaconda3/lib/python3.8/site-packages/sklearn/linear_model/_logistic.py:1322: UserWarning: Setting penalty='none' will ignore the C and l1_ratio parameters\n",
      "  warnings.warn(\n",
      "/opt/anaconda3/lib/python3.8/site-packages/sklearn/linear_model/_logistic.py:1322: UserWarning: Setting penalty='none' will ignore the C and l1_ratio parameters\n",
      "  warnings.warn(\n",
      "/opt/anaconda3/lib/python3.8/site-packages/sklearn/linear_model/_logistic.py:1322: UserWarning: Setting penalty='none' will ignore the C and l1_ratio parameters\n",
      "  warnings.warn(\n",
      "/opt/anaconda3/lib/python3.8/site-packages/sklearn/linear_model/_logistic.py:1322: UserWarning: Setting penalty='none' will ignore the C and l1_ratio parameters\n",
      "  warnings.warn(\n",
      "/opt/anaconda3/lib/python3.8/site-packages/sklearn/linear_model/_logistic.py:1322: UserWarning: Setting penalty='none' will ignore the C and l1_ratio parameters\n",
      "  warnings.warn(\n",
      "/opt/anaconda3/lib/python3.8/site-packages/sklearn/linear_model/_logistic.py:1322: UserWarning: Setting penalty='none' will ignore the C and l1_ratio parameters\n",
      "  warnings.warn(\n",
      "/opt/anaconda3/lib/python3.8/site-packages/sklearn/linear_model/_logistic.py:1322: UserWarning: Setting penalty='none' will ignore the C and l1_ratio parameters\n",
      "  warnings.warn(\n",
      "/opt/anaconda3/lib/python3.8/site-packages/sklearn/linear_model/_logistic.py:1322: UserWarning: Setting penalty='none' will ignore the C and l1_ratio parameters\n",
      "  warnings.warn(\n",
      "/opt/anaconda3/lib/python3.8/site-packages/sklearn/linear_model/_logistic.py:1322: UserWarning: Setting penalty='none' will ignore the C and l1_ratio parameters\n",
      "  warnings.warn(\n",
      "/opt/anaconda3/lib/python3.8/site-packages/sklearn/linear_model/_logistic.py:1322: UserWarning: Setting penalty='none' will ignore the C and l1_ratio parameters\n",
      "  warnings.warn(\n",
      "/opt/anaconda3/lib/python3.8/site-packages/sklearn/linear_model/_logistic.py:1322: UserWarning: Setting penalty='none' will ignore the C and l1_ratio parameters\n",
      "  warnings.warn(\n",
      "/opt/anaconda3/lib/python3.8/site-packages/sklearn/linear_model/_logistic.py:1322: UserWarning: Setting penalty='none' will ignore the C and l1_ratio parameters\n",
      "  warnings.warn(\n",
      "/opt/anaconda3/lib/python3.8/site-packages/sklearn/linear_model/_logistic.py:1322: UserWarning: Setting penalty='none' will ignore the C and l1_ratio parameters\n",
      "  warnings.warn(\n",
      "/opt/anaconda3/lib/python3.8/site-packages/sklearn/linear_model/_logistic.py:1322: UserWarning: Setting penalty='none' will ignore the C and l1_ratio parameters\n",
      "  warnings.warn(\n",
      "/opt/anaconda3/lib/python3.8/site-packages/sklearn/linear_model/_logistic.py:1322: UserWarning: Setting penalty='none' will ignore the C and l1_ratio parameters\n",
      "  warnings.warn(\n",
      "/opt/anaconda3/lib/python3.8/site-packages/sklearn/linear_model/_logistic.py:1322: UserWarning: Setting penalty='none' will ignore the C and l1_ratio parameters\n",
      "  warnings.warn(\n",
      "/opt/anaconda3/lib/python3.8/site-packages/sklearn/linear_model/_logistic.py:1322: UserWarning: Setting penalty='none' will ignore the C and l1_ratio parameters\n",
      "  warnings.warn(\n",
      "/opt/anaconda3/lib/python3.8/site-packages/sklearn/linear_model/_logistic.py:1322: UserWarning: Setting penalty='none' will ignore the C and l1_ratio parameters\n",
      "  warnings.warn(\n",
      "/opt/anaconda3/lib/python3.8/site-packages/sklearn/linear_model/_logistic.py:1322: UserWarning: Setting penalty='none' will ignore the C and l1_ratio parameters\n",
      "  warnings.warn(\n",
      "/opt/anaconda3/lib/python3.8/site-packages/sklearn/linear_model/_logistic.py:1322: UserWarning: Setting penalty='none' will ignore the C and l1_ratio parameters\n",
      "  warnings.warn(\n",
      "/opt/anaconda3/lib/python3.8/site-packages/sklearn/linear_model/_logistic.py:1322: UserWarning: Setting penalty='none' will ignore the C and l1_ratio parameters\n",
      "  warnings.warn(\n",
      "/opt/anaconda3/lib/python3.8/site-packages/sklearn/linear_model/_logistic.py:1322: UserWarning: Setting penalty='none' will ignore the C and l1_ratio parameters\n",
      "  warnings.warn(\n",
      "/opt/anaconda3/lib/python3.8/site-packages/sklearn/linear_model/_logistic.py:1322: UserWarning: Setting penalty='none' will ignore the C and l1_ratio parameters\n",
      "  warnings.warn(\n",
      "/opt/anaconda3/lib/python3.8/site-packages/sklearn/linear_model/_logistic.py:1322: UserWarning: Setting penalty='none' will ignore the C and l1_ratio parameters\n",
      "  warnings.warn(\n",
      "/opt/anaconda3/lib/python3.8/site-packages/sklearn/linear_model/_logistic.py:1322: UserWarning: Setting penalty='none' will ignore the C and l1_ratio parameters\n",
      "  warnings.warn(\n",
      "/opt/anaconda3/lib/python3.8/site-packages/sklearn/linear_model/_logistic.py:1322: UserWarning: Setting penalty='none' will ignore the C and l1_ratio parameters\n",
      "  warnings.warn(\n"
     ]
    },
    {
     "name": "stdout",
     "output_type": "stream",
     "text": [
      "best mean cross-validation score: 0.9944579581951245\n",
      "best parameters: {'C': 0.001}\n",
      "test-set score: 0.9944615384615385\n"
     ]
    },
    {
     "name": "stderr",
     "output_type": "stream",
     "text": [
      "/opt/anaconda3/lib/python3.8/site-packages/sklearn/linear_model/_logistic.py:1322: UserWarning: Setting penalty='none' will ignore the C and l1_ratio parameters\n",
      "  warnings.warn(\n",
      "/opt/anaconda3/lib/python3.8/site-packages/sklearn/linear_model/_logistic.py:1322: UserWarning: Setting penalty='none' will ignore the C and l1_ratio parameters\n",
      "  warnings.warn(\n",
      "/opt/anaconda3/lib/python3.8/site-packages/sklearn/linear_model/_logistic.py:1322: UserWarning: Setting penalty='none' will ignore the C and l1_ratio parameters\n",
      "  warnings.warn(\n",
      "/opt/anaconda3/lib/python3.8/site-packages/sklearn/linear_model/_logistic.py:1322: UserWarning: Setting penalty='none' will ignore the C and l1_ratio parameters\n",
      "  warnings.warn(\n"
     ]
    }
   ],
   "source": [
    "param_grid = {'C': [0.001, 0.01, 0.1, 1, 10, 100, 1000] }\n",
    "cv = KFold(shuffle = True, random_state= 42)\n",
    "grid_logreg = GridSearchCV(LogisticRegression(max_iter = 100000, penalty = 'none'), param_grid, cv = cv)\n",
    "grid_logreg.fit(X_train_scaled, y_train)\n",
    "print(\"best mean cross-validation score: {}\".format(grid_logreg.best_score_))\n",
    "print(\"best parameters: {}\".format(grid_logreg.best_params_))\n",
    "print(\"test-set score: {}\".format(grid_logreg.score(X_test_scaled, y_test)))"
   ]
  },
  {
   "cell_type": "code",
   "execution_count": 72,
   "id": "3d4cc46e",
   "metadata": {},
   "outputs": [
    {
     "name": "stdout",
     "output_type": "stream",
     "text": [
      "best mean cross-validation score: 0.9946630864002527\n",
      "best parameters: {'C': 1}\n",
      "test-set score: 0.9950769230769231\n"
     ]
    }
   ],
   "source": [
    "grid_l1plogreg = GridSearchCV(LogisticRegression(max_iter = 100000, penalty = 'l1', solver = 'saga'), param_grid, cv = cv)\n",
    "grid_l1plogreg.fit(X_train_scaled, y_train)\n",
    "print(\"best mean cross-validation score: {}\".format(grid_l1plogreg.best_score_))\n",
    "print(\"best parameters: {}\".format(grid_l1plogreg.best_params_))\n",
    "print(\"test-set score: {}\".format(grid_l1plogreg.score(X_test_scaled, y_test)))"
   ]
  },
  {
   "cell_type": "code",
   "execution_count": 73,
   "id": "ea2e43d7",
   "metadata": {},
   "outputs": [
    {
     "name": "stdout",
     "output_type": "stream",
     "text": [
      "best mean cross-validation score: 0.9944579581951245\n",
      "best parameters: {'C': 1}\n",
      "test-set score: 0.9944615384615385\n"
     ]
    }
   ],
   "source": [
    "grid_l2plogreg = GridSearchCV(LogisticRegression(max_iter = 100000, penalty = 'l2'), param_grid, cv = cv)\n",
    "grid_l2plogreg.fit(X_train_scaled, y_train)\n",
    "print(\"best mean cross-validation score: {}\".format(grid_l2plogreg.best_score_))\n",
    "print(\"best parameters: {}\".format(grid_l2plogreg.best_params_))\n",
    "print(\"test-set score: {}\".format(grid_l2plogreg.score(X_test_scaled, y_test)))"
   ]
  },
  {
   "cell_type": "code",
   "execution_count": 74,
   "id": "6fab243a",
   "metadata": {},
   "outputs": [
    {
     "name": "stdout",
     "output_type": "stream",
     "text": [
      "best mean cross-validation score: 0.9668448641061582\n",
      "best parameters: {'n_neighbors': 3}\n",
      "test-set score: 0.9790805751876311\n"
     ]
    }
   ],
   "source": [
    "param_grid = {'n_neighbors': np.arange(1, 10, 1)}\n",
    "grid_knn = GridSearchCV(KNeighborsRegressor(), param_grid, cv = cv)\n",
    "grid_knn.fit(X_train_scaled, y_train)\n",
    "print(\"best mean cross-validation score: {}\".format(grid_knn.best_score_))\n",
    "print(\"best parameters: {}\".format(grid_knn.best_params_))\n",
    "print(\"test-set score: {}\".format(grid_knn.score(X_test_scaled, y_test)))"
   ]
  },
  {
   "cell_type": "markdown",
   "id": "640700f7",
   "metadata": {},
   "source": [
    "Changing the random_state of shuffling has no additional effect on all the models' parameters except for on the L2 penalized logistic regression model: the C changes from 10 to 1"
   ]
  },
  {
   "cell_type": "markdown",
   "id": "23d09762",
   "metadata": {},
   "source": [
    "Changing the random_state for test train split"
   ]
  },
  {
   "cell_type": "code",
   "execution_count": 75,
   "id": "3185546d",
   "metadata": {},
   "outputs": [],
   "source": [
    "X_train, X_test, y_train, y_test = train_test_split(X, y, random_state= 42)\n",
    "scaler = StandardScaler().fit(X_train)\n",
    "X_train_scaled = scaler.transform(X_train)\n",
    "X_test_scaled = scaler.transform(X_test)"
   ]
  },
  {
   "cell_type": "code",
   "execution_count": 76,
   "id": "4343d4fe",
   "metadata": {},
   "outputs": [
    {
     "name": "stderr",
     "output_type": "stream",
     "text": [
      "/opt/anaconda3/lib/python3.8/site-packages/sklearn/linear_model/_logistic.py:1322: UserWarning: Setting penalty='none' will ignore the C and l1_ratio parameters\n",
      "  warnings.warn(\n",
      "/opt/anaconda3/lib/python3.8/site-packages/sklearn/linear_model/_logistic.py:1322: UserWarning: Setting penalty='none' will ignore the C and l1_ratio parameters\n",
      "  warnings.warn(\n",
      "/opt/anaconda3/lib/python3.8/site-packages/sklearn/linear_model/_logistic.py:1322: UserWarning: Setting penalty='none' will ignore the C and l1_ratio parameters\n",
      "  warnings.warn(\n",
      "/opt/anaconda3/lib/python3.8/site-packages/sklearn/linear_model/_logistic.py:1322: UserWarning: Setting penalty='none' will ignore the C and l1_ratio parameters\n",
      "  warnings.warn(\n",
      "/opt/anaconda3/lib/python3.8/site-packages/sklearn/linear_model/_logistic.py:1322: UserWarning: Setting penalty='none' will ignore the C and l1_ratio parameters\n",
      "  warnings.warn(\n",
      "/opt/anaconda3/lib/python3.8/site-packages/sklearn/linear_model/_logistic.py:1322: UserWarning: Setting penalty='none' will ignore the C and l1_ratio parameters\n",
      "  warnings.warn(\n",
      "/opt/anaconda3/lib/python3.8/site-packages/sklearn/linear_model/_logistic.py:1322: UserWarning: Setting penalty='none' will ignore the C and l1_ratio parameters\n",
      "  warnings.warn(\n",
      "/opt/anaconda3/lib/python3.8/site-packages/sklearn/linear_model/_logistic.py:1322: UserWarning: Setting penalty='none' will ignore the C and l1_ratio parameters\n",
      "  warnings.warn(\n",
      "/opt/anaconda3/lib/python3.8/site-packages/sklearn/linear_model/_logistic.py:1322: UserWarning: Setting penalty='none' will ignore the C and l1_ratio parameters\n",
      "  warnings.warn(\n",
      "/opt/anaconda3/lib/python3.8/site-packages/sklearn/linear_model/_logistic.py:1322: UserWarning: Setting penalty='none' will ignore the C and l1_ratio parameters\n",
      "  warnings.warn(\n",
      "/opt/anaconda3/lib/python3.8/site-packages/sklearn/linear_model/_logistic.py:1322: UserWarning: Setting penalty='none' will ignore the C and l1_ratio parameters\n",
      "  warnings.warn(\n",
      "/opt/anaconda3/lib/python3.8/site-packages/sklearn/linear_model/_logistic.py:1322: UserWarning: Setting penalty='none' will ignore the C and l1_ratio parameters\n",
      "  warnings.warn(\n",
      "/opt/anaconda3/lib/python3.8/site-packages/sklearn/linear_model/_logistic.py:1322: UserWarning: Setting penalty='none' will ignore the C and l1_ratio parameters\n",
      "  warnings.warn(\n",
      "/opt/anaconda3/lib/python3.8/site-packages/sklearn/linear_model/_logistic.py:1322: UserWarning: Setting penalty='none' will ignore the C and l1_ratio parameters\n",
      "  warnings.warn(\n",
      "/opt/anaconda3/lib/python3.8/site-packages/sklearn/linear_model/_logistic.py:1322: UserWarning: Setting penalty='none' will ignore the C and l1_ratio parameters\n",
      "  warnings.warn(\n",
      "/opt/anaconda3/lib/python3.8/site-packages/sklearn/linear_model/_logistic.py:1322: UserWarning: Setting penalty='none' will ignore the C and l1_ratio parameters\n",
      "  warnings.warn(\n",
      "/opt/anaconda3/lib/python3.8/site-packages/sklearn/linear_model/_logistic.py:1322: UserWarning: Setting penalty='none' will ignore the C and l1_ratio parameters\n",
      "  warnings.warn(\n",
      "/opt/anaconda3/lib/python3.8/site-packages/sklearn/linear_model/_logistic.py:1322: UserWarning: Setting penalty='none' will ignore the C and l1_ratio parameters\n",
      "  warnings.warn(\n",
      "/opt/anaconda3/lib/python3.8/site-packages/sklearn/linear_model/_logistic.py:1322: UserWarning: Setting penalty='none' will ignore the C and l1_ratio parameters\n",
      "  warnings.warn(\n",
      "/opt/anaconda3/lib/python3.8/site-packages/sklearn/linear_model/_logistic.py:1322: UserWarning: Setting penalty='none' will ignore the C and l1_ratio parameters\n",
      "  warnings.warn(\n",
      "/opt/anaconda3/lib/python3.8/site-packages/sklearn/linear_model/_logistic.py:1322: UserWarning: Setting penalty='none' will ignore the C and l1_ratio parameters\n",
      "  warnings.warn(\n",
      "/opt/anaconda3/lib/python3.8/site-packages/sklearn/linear_model/_logistic.py:1322: UserWarning: Setting penalty='none' will ignore the C and l1_ratio parameters\n",
      "  warnings.warn(\n",
      "/opt/anaconda3/lib/python3.8/site-packages/sklearn/linear_model/_logistic.py:1322: UserWarning: Setting penalty='none' will ignore the C and l1_ratio parameters\n",
      "  warnings.warn(\n",
      "/opt/anaconda3/lib/python3.8/site-packages/sklearn/linear_model/_logistic.py:1322: UserWarning: Setting penalty='none' will ignore the C and l1_ratio parameters\n",
      "  warnings.warn(\n",
      "/opt/anaconda3/lib/python3.8/site-packages/sklearn/linear_model/_logistic.py:1322: UserWarning: Setting penalty='none' will ignore the C and l1_ratio parameters\n",
      "  warnings.warn(\n",
      "/opt/anaconda3/lib/python3.8/site-packages/sklearn/linear_model/_logistic.py:1322: UserWarning: Setting penalty='none' will ignore the C and l1_ratio parameters\n",
      "  warnings.warn(\n"
     ]
    },
    {
     "name": "stdout",
     "output_type": "stream",
     "text": [
      "best mean cross-validation score: 0.9942532511978097\n",
      "best parameters: {'C': 0.001}\n",
      "test-set score: 0.9913846153846154\n"
     ]
    },
    {
     "name": "stderr",
     "output_type": "stream",
     "text": [
      "/opt/anaconda3/lib/python3.8/site-packages/sklearn/linear_model/_logistic.py:1322: UserWarning: Setting penalty='none' will ignore the C and l1_ratio parameters\n",
      "  warnings.warn(\n",
      "/opt/anaconda3/lib/python3.8/site-packages/sklearn/linear_model/_logistic.py:1322: UserWarning: Setting penalty='none' will ignore the C and l1_ratio parameters\n",
      "  warnings.warn(\n",
      "/opt/anaconda3/lib/python3.8/site-packages/sklearn/linear_model/_logistic.py:1322: UserWarning: Setting penalty='none' will ignore the C and l1_ratio parameters\n",
      "  warnings.warn(\n",
      "/opt/anaconda3/lib/python3.8/site-packages/sklearn/linear_model/_logistic.py:1322: UserWarning: Setting penalty='none' will ignore the C and l1_ratio parameters\n",
      "  warnings.warn(\n",
      "/opt/anaconda3/lib/python3.8/site-packages/sklearn/linear_model/_logistic.py:1322: UserWarning: Setting penalty='none' will ignore the C and l1_ratio parameters\n",
      "  warnings.warn(\n"
     ]
    }
   ],
   "source": [
    "param_grid = {'C': [0.001, 0.01, 0.1, 1, 10, 100, 1000] }\n",
    "cv = KFold(shuffle = True)\n",
    "grid_logreg = GridSearchCV(LogisticRegression(max_iter = 100000, penalty = 'none'), param_grid, cv = cv)\n",
    "grid_logreg.fit(X_train_scaled, y_train)\n",
    "print(\"best mean cross-validation score: {}\".format(grid_logreg.best_score_))\n",
    "print(\"best parameters: {}\".format(grid_logreg.best_params_))\n",
    "print(\"test-set score: {}\".format(grid_logreg.score(X_test_scaled, y_test)))"
   ]
  },
  {
   "cell_type": "code",
   "execution_count": 77,
   "id": "e3478fd5",
   "metadata": {},
   "outputs": [
    {
     "name": "stdout",
     "output_type": "stream",
     "text": [
      "best mean cross-validation score: 0.99384320539146\n",
      "best parameters: {'C': 1}\n",
      "test-set score: 0.9913846153846154\n"
     ]
    }
   ],
   "source": [
    "grid_l1plogreg = GridSearchCV(LogisticRegression(max_iter = 100000, penalty = 'l1', solver = 'saga'), param_grid, cv = cv)\n",
    "grid_l1plogreg.fit(X_train_scaled, y_train)\n",
    "print(\"best mean cross-validation score: {}\".format(grid_l1plogreg.best_score_))\n",
    "print(\"best parameters: {}\".format(grid_l1plogreg.best_params_))\n",
    "print(\"test-set score: {}\".format(grid_l1plogreg.score(X_test_scaled, y_test)))"
   ]
  },
  {
   "cell_type": "code",
   "execution_count": 78,
   "id": "f7574b20",
   "metadata": {},
   "outputs": [
    {
     "name": "stdout",
     "output_type": "stream",
     "text": [
      "best mean cross-validation score: 0.9940472805770547\n",
      "best parameters: {'C': 100}\n",
      "test-set score: 0.9913846153846154\n"
     ]
    }
   ],
   "source": [
    "grid_l2plogreg = GridSearchCV(LogisticRegression(max_iter = 100000, penalty = 'l2'), param_grid, cv = cv)\n",
    "grid_l2plogreg.fit(X_train_scaled, y_train)\n",
    "print(\"best mean cross-validation score: {}\".format(grid_l2plogreg.best_score_))\n",
    "print(\"best parameters: {}\".format(grid_l2plogreg.best_params_))\n",
    "print(\"test-set score: {}\".format(grid_l2plogreg.score(X_test_scaled, y_test)))"
   ]
  },
  {
   "cell_type": "code",
   "execution_count": 79,
   "id": "f292a2ac",
   "metadata": {},
   "outputs": [
    {
     "name": "stdout",
     "output_type": "stream",
     "text": [
      "best mean cross-validation score: 0.971287942362293\n",
      "best parameters: {'n_neighbors': 2}\n",
      "test-set score: 0.9559871076081363\n"
     ]
    }
   ],
   "source": [
    "param_grid = {'n_neighbors': np.arange(1, 10, 1)}\n",
    "grid_knn = GridSearchCV(KNeighborsRegressor(), param_grid, cv = cv)\n",
    "grid_knn.fit(X_train_scaled, y_train)\n",
    "print(\"best mean cross-validation score: {}\".format(grid_knn.best_score_))\n",
    "print(\"best parameters: {}\".format(grid_knn.best_params_))\n",
    "print(\"test-set score: {}\".format(grid_knn.score(X_test_scaled, y_test)))"
   ]
  },
  {
   "cell_type": "markdown",
   "id": "07cbfca8",
   "metadata": {},
   "source": [
    "Changing the random_state of the train test split changes the parameters for both of the penalized models and for the KNN classifier. "
   ]
  },
  {
   "cell_type": "markdown",
   "id": "ebeb9bdc",
   "metadata": {},
   "source": [
    "### 2.5: Comparing unpenalized and penalized logistic regression models"
   ]
  },
  {
   "cell_type": "code",
   "execution_count": 80,
   "id": "633222df",
   "metadata": {},
   "outputs": [
    {
     "name": "stdout",
     "output_type": "stream",
     "text": [
      "Logistic Regression Coefficients:\n",
      "[[ 0.23593592  1.58974487 -0.28658209 -4.93808655  0.79248033  1.29840838\n",
      "  -3.18179794  4.53207344  0.0204608   0.62839167  1.51230794  0.34655891]]\n",
      "L1 penalized Logistic Regression Coefficients:\n",
      "[[ 0.27482138  1.53062778 -0.23969523 -4.30308298  0.75866525  1.06532899\n",
      "  -2.9797986   3.99730778  0.11917429  0.64784365  1.23783795  0.30477824]]\n",
      "L2 penalized Logistic Regression Coefficients:\n",
      "[[ 0.66799484  1.53089613 -0.28169198 -3.32824062  0.85778235  0.89842203\n",
      "  -2.85276141  3.04102359  0.41924655  0.73896561  0.85589094  0.26665706]]\n"
     ]
    }
   ],
   "source": [
    "print(\"Logistic Regression Coefficients:\\n{}\".format(logreg.fit(X_train_scaled, y_train).coef_)) \n",
    "print(\"L1 penalized Logistic Regression Coefficients:\\n{}\".format(pl1_logreg.fit(X_train_scaled, y_train).coef_))\n",
    "print(\"L2 penalized Logistic Regression Coefficients:\\n{}\".format(pl2_logreg.fit(X_train_scaled, y_train).coef_))"
   ]
  },
  {
   "cell_type": "markdown",
   "id": "562acd2f",
   "metadata": {},
   "source": [
    "The L2 penalized logistic regression model seems to show the strongest coefficients among the three models to explain the target; the unpenalized logistic regression and L1 penalized logistic regression have similar coefficients. I would choose the L2 penalized logistic regression to predict new data. "
   ]
  }
 ],
 "metadata": {
  "kernelspec": {
   "display_name": "Python 3",
   "language": "python",
   "name": "python3"
  },
  "language_info": {
   "codemirror_mode": {
    "name": "ipython",
    "version": 3
   },
   "file_extension": ".py",
   "mimetype": "text/x-python",
   "name": "python",
   "nbconvert_exporter": "python",
   "pygments_lexer": "ipython3",
   "version": "3.8.8"
  }
 },
 "nbformat": 4,
 "nbformat_minor": 5
}
